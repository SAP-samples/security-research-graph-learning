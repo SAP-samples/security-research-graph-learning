{
 "cells": [
  {
   "cell_type": "code",
   "execution_count": 1,
   "metadata": {},
   "outputs": [],
   "source": [
    "import os \n",
    "from pathlib import Path\n",
    "\n",
    "root = Path('codegraphs/diversevul/')\n",
    "old = root/Path('preprocessed_with_degreecount')\n",
    "new = root/Path('preprocessed_v1_withdegreecount_allgraphs')\n",
    "old_erik = root/Path('erik_preprocessed')\n"
   ]
  },
  {
   "cell_type": "code",
   "execution_count": 8,
   "metadata": {},
   "outputs": [
    {
     "name": "stderr",
     "output_type": "stream",
     "text": [
      "329735it [00:19, 17280.13it/s]\n"
     ]
    },
    {
     "name": "stdout",
     "output_type": "stream",
     "text": [
      "225201 113.424050408078098.15968546801754114.18209802828862 113.5610384091392 113.53903718324756 113.592554693858 113.614744154945113.69727496091133113.69328526061405 113.68261394339372 113.51927503638048\r"
     ]
    },
    {
     "ename": "KeyboardInterrupt",
     "evalue": "",
     "output_type": "error",
     "traceback": [
      "\u001b[0;31m---------------------------------------------------------------------------\u001b[0m",
      "\u001b[0;31mKeyboardInterrupt\u001b[0m                         Traceback (most recent call last)",
      "Cell \u001b[0;32mIn[8], line 14\u001b[0m\n\u001b[1;32m     11\u001b[0m     \u001b[38;5;28;01mreturn\u001b[39;00m graph\u001b[38;5;241m.\u001b[39mx\u001b[38;5;241m.\u001b[39msize(\u001b[38;5;241m0\u001b[39m)\n\u001b[1;32m     13\u001b[0m \u001b[38;5;28;01mwith\u001b[39;00m ThreadPoolExecutor() \u001b[38;5;28;01mas\u001b[39;00m executor:\n\u001b[0;32m---> 14\u001b[0m \u001b[43m    \u001b[49m\u001b[38;5;28;43;01mfor\u001b[39;49;00m\u001b[43m \u001b[49m\u001b[43mi\u001b[49m\u001b[43m,\u001b[49m\u001b[43m \u001b[49m\u001b[43mresult\u001b[49m\u001b[43m \u001b[49m\u001b[38;5;129;43;01min\u001b[39;49;00m\u001b[43m \u001b[49m\u001b[38;5;28;43menumerate\u001b[39;49m\u001b[43m(\u001b[49m\u001b[43mexecutor\u001b[49m\u001b[38;5;241;43m.\u001b[39;49m\u001b[43mmap\u001b[49m\u001b[43m(\u001b[49m\u001b[43mload_graph\u001b[49m\u001b[43m,\u001b[49m\u001b[43m \u001b[49m\u001b[43mtqdm\u001b[49m\u001b[43m(\u001b[49m\u001b[43mnew\u001b[49m\u001b[38;5;241;43m.\u001b[39;49m\u001b[43mglob\u001b[49m\u001b[43m(\u001b[49m\u001b[38;5;124;43m'\u001b[39;49m\u001b[38;5;124;43m**/*.pt\u001b[39;49m\u001b[38;5;124;43m'\u001b[39;49m\u001b[43m)\u001b[49m\u001b[43m)\u001b[49m\u001b[43m)\u001b[49m\u001b[43m)\u001b[49m\u001b[43m:\u001b[49m\n\u001b[1;32m     15\u001b[0m \u001b[43m        \u001b[49m\u001b[43msizes\u001b[49m\u001b[38;5;241;43m.\u001b[39;49m\u001b[43mappend\u001b[49m\u001b[43m(\u001b[49m\u001b[43mresult\u001b[49m\u001b[43m)\u001b[49m\n\u001b[1;32m     16\u001b[0m \u001b[43m        \u001b[49m\u001b[43mavg\u001b[49m\u001b[43m \u001b[49m\u001b[38;5;241;43m=\u001b[39;49m\u001b[43m \u001b[49m\u001b[38;5;28;43msum\u001b[39;49m\u001b[43m(\u001b[49m\u001b[43msizes\u001b[49m\u001b[43m)\u001b[49m\u001b[38;5;241;43m/\u001b[39;49m\u001b[38;5;28;43mlen\u001b[39;49m\u001b[43m(\u001b[49m\u001b[43msizes\u001b[49m\u001b[43m)\u001b[49m\n",
      "File \u001b[0;32m/opt/conda/envs/pyg/lib/python3.11/concurrent/futures/_base.py:619\u001b[0m, in \u001b[0;36mExecutor.map.<locals>.result_iterator\u001b[0;34m()\u001b[0m\n\u001b[1;32m    616\u001b[0m \u001b[38;5;28;01mwhile\u001b[39;00m fs:\n\u001b[1;32m    617\u001b[0m     \u001b[38;5;66;03m# Careful not to keep a reference to the popped future\u001b[39;00m\n\u001b[1;32m    618\u001b[0m     \u001b[38;5;28;01mif\u001b[39;00m timeout \u001b[38;5;129;01mis\u001b[39;00m \u001b[38;5;28;01mNone\u001b[39;00m:\n\u001b[0;32m--> 619\u001b[0m         \u001b[38;5;28;01myield\u001b[39;00m \u001b[43m_result_or_cancel\u001b[49m\u001b[43m(\u001b[49m\u001b[43mfs\u001b[49m\u001b[38;5;241;43m.\u001b[39;49m\u001b[43mpop\u001b[49m\u001b[43m(\u001b[49m\u001b[43m)\u001b[49m\u001b[43m)\u001b[49m\n\u001b[1;32m    620\u001b[0m     \u001b[38;5;28;01melse\u001b[39;00m:\n\u001b[1;32m    621\u001b[0m         \u001b[38;5;28;01myield\u001b[39;00m _result_or_cancel(fs\u001b[38;5;241m.\u001b[39mpop(), end_time \u001b[38;5;241m-\u001b[39m time\u001b[38;5;241m.\u001b[39mmonotonic())\n",
      "File \u001b[0;32m/opt/conda/envs/pyg/lib/python3.11/concurrent/futures/_base.py:317\u001b[0m, in \u001b[0;36m_result_or_cancel\u001b[0;34m(***failed resolving arguments***)\u001b[0m\n\u001b[1;32m    315\u001b[0m \u001b[38;5;28;01mtry\u001b[39;00m:\n\u001b[1;32m    316\u001b[0m     \u001b[38;5;28;01mtry\u001b[39;00m:\n\u001b[0;32m--> 317\u001b[0m         \u001b[38;5;28;01mreturn\u001b[39;00m \u001b[43mfut\u001b[49m\u001b[38;5;241;43m.\u001b[39;49m\u001b[43mresult\u001b[49m\u001b[43m(\u001b[49m\u001b[43mtimeout\u001b[49m\u001b[43m)\u001b[49m\n\u001b[1;32m    318\u001b[0m     \u001b[38;5;28;01mfinally\u001b[39;00m:\n\u001b[1;32m    319\u001b[0m         fut\u001b[38;5;241m.\u001b[39mcancel()\n",
      "File \u001b[0;32m/opt/conda/envs/pyg/lib/python3.11/concurrent/futures/_base.py:451\u001b[0m, in \u001b[0;36mFuture.result\u001b[0;34m(self, timeout)\u001b[0m\n\u001b[1;32m    448\u001b[0m \u001b[38;5;28;01melif\u001b[39;00m \u001b[38;5;28mself\u001b[39m\u001b[38;5;241m.\u001b[39m_state \u001b[38;5;241m==\u001b[39m FINISHED:\n\u001b[1;32m    449\u001b[0m     \u001b[38;5;28;01mreturn\u001b[39;00m \u001b[38;5;28mself\u001b[39m\u001b[38;5;241m.\u001b[39m__get_result()\n\u001b[0;32m--> 451\u001b[0m \u001b[38;5;28;43mself\u001b[39;49m\u001b[38;5;241;43m.\u001b[39;49m\u001b[43m_condition\u001b[49m\u001b[38;5;241;43m.\u001b[39;49m\u001b[43mwait\u001b[49m\u001b[43m(\u001b[49m\u001b[43mtimeout\u001b[49m\u001b[43m)\u001b[49m\n\u001b[1;32m    453\u001b[0m \u001b[38;5;28;01mif\u001b[39;00m \u001b[38;5;28mself\u001b[39m\u001b[38;5;241m.\u001b[39m_state \u001b[38;5;129;01min\u001b[39;00m [CANCELLED, CANCELLED_AND_NOTIFIED]:\n\u001b[1;32m    454\u001b[0m     \u001b[38;5;28;01mraise\u001b[39;00m CancelledError()\n",
      "File \u001b[0;32m/opt/conda/envs/pyg/lib/python3.11/threading.py:327\u001b[0m, in \u001b[0;36mCondition.wait\u001b[0;34m(self, timeout)\u001b[0m\n\u001b[1;32m    325\u001b[0m \u001b[38;5;28;01mtry\u001b[39;00m:    \u001b[38;5;66;03m# restore state no matter what (e.g., KeyboardInterrupt)\u001b[39;00m\n\u001b[1;32m    326\u001b[0m     \u001b[38;5;28;01mif\u001b[39;00m timeout \u001b[38;5;129;01mis\u001b[39;00m \u001b[38;5;28;01mNone\u001b[39;00m:\n\u001b[0;32m--> 327\u001b[0m         \u001b[43mwaiter\u001b[49m\u001b[38;5;241;43m.\u001b[39;49m\u001b[43macquire\u001b[49m\u001b[43m(\u001b[49m\u001b[43m)\u001b[49m\n\u001b[1;32m    328\u001b[0m         gotit \u001b[38;5;241m=\u001b[39m \u001b[38;5;28;01mTrue\u001b[39;00m\n\u001b[1;32m    329\u001b[0m     \u001b[38;5;28;01melse\u001b[39;00m:\n",
      "\u001b[0;31mKeyboardInterrupt\u001b[0m: "
     ]
    }
   ],
   "source": [
    "import torch\n",
    "from tqdm.auto import tqdm\n",
    "from concurrent.futures import ThreadPoolExecutor\n",
    "import glob\n",
    "\n",
    "# get average graph size in new\n",
    "sizes = []\n",
    "\n",
    "def load_graph(file):\n",
    "    graph = torch.load(file)\n",
    "    return graph.x.size(0)\n",
    "\n",
    "with ThreadPoolExecutor() as executor:\n",
    "    for i, result in enumerate(executor.map(load_graph, tqdm(new.glob('**/*.pt')))):\n",
    "        sizes.append(result)\n",
    "        avg = sum(sizes)/len(sizes)\n",
    "        print(i, avg, end ='\\r')"
   ]
  },
  {
   "cell_type": "code",
   "execution_count": 10,
   "metadata": {},
   "outputs": [
    {
     "name": "stdout",
     "output_type": "stream",
     "text": [
      "filtering 225202 graphs\n",
      "avg: 124.21399027344029\n"
     ]
    }
   ],
   "source": [
    "# filter smaller 10 and bigger 1000\n",
    "print(f'filtering {len(sizes)} graphs')\n",
    "x = [s for s in sizes if s > 10 and s < 1000]\n",
    "\n",
    "# print avg\n",
    "print(f'avg: {sum(x)/len(x)}')\n",
    "\n",
    "# filtering 225202 graphs\n",
    "# avg: 124.21399027344029"
   ]
  },
  {
   "cell_type": "code",
   "execution_count": 6,
   "metadata": {},
   "outputs": [],
   "source": [
    "# import torch \n",
    "# def get_missing_file_graphsize(reference, missingfolder):\n",
    "#     missing = set(os.listidr(root/reference)) - set(os.listdir(root/missingfolder))\n",
    "#     avg = []\n",
    "#     for m in missing:\n",
    "#         s = torch.load(root/reference/m).x.size(0)\n",
    "#         avg.append(s)\n",
    "#         avergae = sum(avg)/len(avg)\n",
    "#         print(f'avg, {avergae}')\n",
    "        \n",
    "import os\n",
    "import torch\n",
    "from concurrent.futures import ThreadPoolExecutor\n",
    "from tqdm.auto import tqdm\n",
    "\n",
    "def get_missing_file_graphsize(reference, missingfolder):\n",
    "    print('missing')\n",
    "    missing = set(os.listdir(reference)) - set(os.listdir(missingfolder))\n",
    "    print('missing',len(missing))\n",
    "    missng_form_other = set(os.listdir(missingfolder)) - set(os.listdir(reference))\n",
    "    print('missing from other', len(missng_form_other))\n",
    "    \n",
    "    avg = []\n",
    "\n",
    "    def load_graph(m):\n",
    "        s = torch.load(os.path.join(reference, m)).x.size(0)\n",
    "        return s\n",
    "\n",
    "    with ThreadPoolExecutor() as executor:\n",
    "        for i, result in enumerate(executor.map(load_graph, tqdm(missing))):\n",
    "            avg.append(result)\n",
    "            avergae = sum(avg)/len(avg)\n",
    "            print(f'{i}  avg, {avergae}',end='\\r')\n",
    "    \n",
    "    return avg"
   ]
  },
  {
   "cell_type": "code",
   "execution_count": null,
   "metadata": {},
   "outputs": [],
   "source": []
  },
  {
   "cell_type": "code",
   "execution_count": 7,
   "metadata": {},
   "outputs": [
    {
     "name": "stdout",
     "output_type": "stream",
     "text": [
      "missing\n"
     ]
    },
    {
     "name": "stdout",
     "output_type": "stream",
     "text": [
      "missing 81641\n",
      "missing from other 39\n"
     ]
    },
    {
     "name": "stderr",
     "output_type": "stream",
     "text": [
      "100%|██████████| 81641/81641 [00:03<00:00, 26486.94it/s] \n"
     ]
    },
    {
     "name": "stdout",
     "output_type": "stream",
     "text": [
      "81640  avg, 85.84369373231587\r"
     ]
    }
   ],
   "source": [
    "#missing files:\n",
    "\n",
    "a = get_missing_file_graphsize(new,old)"
   ]
  },
  {
   "cell_type": "code",
   "execution_count": 10,
   "metadata": {},
   "outputs": [
    {
     "data": {
      "text/plain": [
       "81641"
      ]
     },
     "execution_count": 10,
     "metadata": {},
     "output_type": "execute_result"
    }
   ],
   "source": [
    "len(a)"
   ]
  },
  {
   "cell_type": "code",
   "execution_count": 16,
   "metadata": {},
   "outputs": [
    {
     "name": "stdout",
     "output_type": "stream",
     "text": [
      "0\n"
     ]
    },
    {
     "ename": "ZeroDivisionError",
     "evalue": "division by zero",
     "output_type": "error",
     "traceback": [
      "\u001b[0;31m---------------------------------------------------------------------------\u001b[0m",
      "\u001b[0;31mZeroDivisionError\u001b[0m                         Traceback (most recent call last)",
      "Cell \u001b[0;32mIn[16], line 8\u001b[0m\n\u001b[1;32m      6\u001b[0m ax \u001b[38;5;241m=\u001b[39m [s \u001b[38;5;28;01mfor\u001b[39;00m s \u001b[38;5;129;01min\u001b[39;00m a \u001b[38;5;28;01mif\u001b[39;00m s \u001b[38;5;241m>\u001b[39m \u001b[38;5;241m10\u001b[39m \u001b[38;5;129;01mand\u001b[39;00m s \u001b[38;5;241m<\u001b[39m \u001b[38;5;241m1000\u001b[39m]\n\u001b[1;32m      7\u001b[0m \u001b[38;5;28mprint\u001b[39m(\u001b[38;5;28mlen\u001b[39m(ax))\n\u001b[0;32m----> 8\u001b[0m \u001b[38;5;28mprint\u001b[39m(\u001b[38;5;124mf\u001b[39m\u001b[38;5;124m'\u001b[39m\u001b[38;5;124mavg: \u001b[39m\u001b[38;5;132;01m{\u001b[39;00m\u001b[38;5;28;43msum\u001b[39;49m\u001b[43m(\u001b[49m\u001b[43max\u001b[49m\u001b[43m)\u001b[49m\u001b[38;5;241;43m/\u001b[39;49m\u001b[38;5;28;43mlen\u001b[39;49m\u001b[43m(\u001b[49m\u001b[43max\u001b[49m\u001b[43m)\u001b[49m\u001b[38;5;132;01m}\u001b[39;00m\u001b[38;5;124m'\u001b[39m)\n",
      "\u001b[0;31mZeroDivisionError\u001b[0m: division by zero"
     ]
    }
   ],
   "source": [
    "# filter smaller 10 and bigger 1000\n",
    "\n",
    "# 77864 smaller\n",
    "# 3777 large filtered\n",
    "# none between filtered\n",
    "ax = [s for s in a if s > 10 and s < 1000]\n",
    "print(len(ax))\n",
    "print(f'avg: {sum(ax)/len(ax)}')"
   ]
  },
  {
   "cell_type": "markdown",
   "metadata": {},
   "source": [
    "# Test dot loading"
   ]
  },
  {
   "cell_type": "code",
   "execution_count": 198,
   "metadata": {},
   "outputs": [
    {
     "data": {
      "text/plain": [
       "['1', '2', '3', '4', '5', '6', '7', '8', '9', '10', '11']"
      ]
     },
     "execution_count": 198,
     "metadata": {},
     "output_type": "execute_result"
    }
   ],
   "source": [
    "list(Gagraph.nodes())"
   ]
  },
  {
   "cell_type": "code",
   "execution_count": 213,
   "metadata": {},
   "outputs": [
    {
     "name": "stdout",
     "output_type": "stream",
     "text": [
      "{'1': 0, '2': 1, '3': 2, '4': 3, '5': 4, '6': 5, '7': 6, '8': 7, '9': 8, '10': 9, '11': 10}\n",
      "Loading wordvectors.\n",
      "No enclosing found for  {'label': 'ParamVariableDeclaration', 'lexeme': 'unknown0', 'location': ' '} MultiDiGraph named 'G' with 11 nodes and 23 edges\n",
      "No enclosing found for  {'label': 'ParamVariableDeclaration', 'lexeme': 'int1', 'location': ' '} MultiDiGraph named 'G' with 11 nodes and 23 edges\n"
     ]
    },
    {
     "data": {
      "text/plain": [
       "tensor([[ 0,  0,  1,  1,  1,  2,  2,  3,  3,  3,  3,  4,  4,  5,  5,  6,  7,  8,\n",
       "          8,  8],\n",
       "        [ 1,  8,  2,  4,  7,  3,  6,  4,  5,  6,  8,  5,  9,  3, 10,  1,  5,  3,\n",
       "          9, 10]], device='cuda:0')"
      ]
     },
     "execution_count": 213,
     "metadata": {},
     "output_type": "execute_result"
    }
   ],
   "source": [
    "import torch\n",
    "from torch_geometric.data import InMemoryDataset, Data, HeteroData\n",
    "from torch_geometric.utils import to_edge_index\n",
    "from tqdm import tqdm\n",
    "from pathlib import Path\n",
    "import pickle\n",
    "import networkx as nx\n",
    "from word2vec.word2vec import Word2VecBuilder\n",
    "from multiprocessing import Pool, cpu_count\n",
    "from functools import partial\n",
    "import os \n",
    "\n",
    "import pygraphviz as pgv\n",
    "import networkx as nx\n",
    "from tqdm.auto import tqdm\n",
    "\n",
    "config ={}\n",
    "config['device'] = 'cuda'\n",
    "\n",
    "label_categories = {}\n",
    "# with open(Path(self.root)/'label_info.pkl', 'rb') as f:\n",
    "    # labels = pickle.load(f)['label'].keys()\n",
    "labels = ['TranslationUnitDeclaration', 'ConstructExpression','FunctionDeclaration', 'CompoundStatement', 'CallExpression', 'DeclaredReferenceExpression', 'WhileStatement', 'BinaryOperator', 'Literal', 'ReturnStatement', 'ParamVariableDeclaration', 'VariableDeclaration', 'DeclarationStatement', 'UnaryOperator', 'MemberExpression', 'ConditionalExpression', 'IfStatement', 'ForStatement', 'BreakStatement', 'MemberCallExpression', 'ArraySubscriptionExpression', 'TypeIdExpression', 'InitializerListExpression', 'ProblemDeclaration', 'CastExpression', 'ContinueStatement', 'EmptyStatement', 'GotoStatement', 'LabelStatement', 'SwitchStatement', 'CaseStatement', 'ProblemExpression', 'ExpressionList', 'DoStatement', 'DefaultStatement', 'RecordDeclaration', 'FieldDeclaration', 'ConstructorDeclaration', 'DesignatedInitializerExpression', 'EnumDeclaration', 'EnumConstantDeclaration', 'MethodDeclaration', 'ASMDeclarationStatement', 'TypedefDeclaration']\n",
    "word2vec = Word2VecBuilder()        \n",
    "sorted_labels = sorted(labels)\n",
    "# onehot encode labels\n",
    "for label in sorted_labels:\n",
    "    onehot = torch.zeros(len(labels))\n",
    "    onehot[sorted_labels.index(label)] = 1\n",
    "    label_categories[label] = onehot\n",
    "def column_normalize_dense_features_torch(mx):  \n",
    "        '''Column-normalize dense features'''  # amos\n",
    "        colsum = torch.sum(mx, axis=0)\n",
    "        c_inv = torch.pow(colsum, -1)\n",
    "        c_inv[torch.isinf(c_inv)] = 0.\n",
    "        c_mat_inv = torch.diag(c_inv)\n",
    "        mx = mx.mm(c_mat_inv)\n",
    "        return mx\n",
    "def get_adjacency_matrices(G):\n",
    "        adj_matrices = {edge_type: torch.zeros((len(G.nodes), len(G.nodes)), dtype=torch.float32, device=config['device']) for edge_type in ['AST','CFG','CG','DFG']}\n",
    "        node_list = [str(i)for i in sorted(int(s) for s in list(G.nodes()))]\n",
    "        node_mapping = {x:i for i, x in enumerate(node_list)}\n",
    "        print(node_mapping)\n",
    "        # Update adjacency matrices based on edge types\n",
    "        for edge in G.edges(data=True):\n",
    "            source = edge[0]\n",
    "            target = edge[1]\n",
    "            edge_type = edge[2]['label']\n",
    "            try:\n",
    "                adj_matrices[edge_type][node_mapping[source]][node_mapping[target]] += 1  # Adjust indices to start from 0\n",
    "            except KeyError:\n",
    "                adj_matrices[edge_type.replace('\"','')][node_mapping[source]][node_mapping[target]] = 1  # Adjust indices to start from 0\n",
    "\n",
    "        return node_list, {edge_type: adj_matrix.to_sparse() for edge_type, adj_matrix in adj_matrices.items()}\n",
    "    \n",
    "    \n",
    "def get_graph_nxpydot(file):\n",
    "        #G = nx.drawing.nx_agraph.read_dot(file)\n",
    "      \n",
    "        G = nx.Graph(nx.drawing.nx_pydot.read_dot(file))\n",
    "        \n",
    "        # with open(file, \"r\", encoding=\"utf8\") as f:\n",
    "        #     G = nx.Graph(pgv.AGraph(f.read()))  \n",
    "        \n",
    "        # if not (len(G.nodes) <= 1000 and len(G.nodes) >= 10):  # filter graphs which are too small or too large\n",
    "        #     placeholder_edgeindex = torch.tensor([[0,0],[0,0]], dtype=torch.long, device=  config['device'])\n",
    "        #     placeholder_x = torch.tensor([[0,0]], dtype=torch.float32, device=  config['device'])\n",
    "        #     return placeholder_edgeindex, placeholder_x \n",
    "        \n",
    "        node_list, adj_matrices =   get_adjacency_matrices(G)\n",
    "\n",
    "        # get binary adjacency matrix for all edge types\n",
    "        matrix = torch.zeros((len(G.nodes), len(G.nodes)), layout=torch.sparse_coo, dtype=torch.float32, device=  config['device'])\n",
    "        for adj_matrix in adj_matrices.values():\n",
    "            matrix = matrix+adj_matrix\n",
    "\n",
    "        # set nonzero to 1, undirected\n",
    "        #matrix = matrix + matrix.T  # undirected graph\n",
    "        coo = matrix.coalesce() \n",
    "        values = torch.ones(coo.values().shape).to(  config['device'])\n",
    "        matrix = torch.sparse_coo_tensor(coo.indices(), values, matrix.shape, device=  config['device'])\n",
    "        \n",
    "        \n",
    "        \n",
    "        # get node degrees per edge type and in-/out-degrees\n",
    "        # in1, in2, in3, out1 out2 out3, total1, total2, total3, total4...\n",
    "        \n",
    "        num_types = len(adj_matrices)\n",
    "        degrees = torch.zeros((len(G.nodes), num_types*3+1), dtype=torch.float32, device=  config['device'])\n",
    "        for i, adj_matrix in enumerate(adj_matrices.values()):\n",
    "            degrees[:,i] = torch.sum(adj_matrix, dim=1).to_dense()  # out-degrees\n",
    "            degrees[:,i+num_types] = torch.sum(adj_matrix, dim=0).to_dense()   # in-degrees\n",
    "            degrees[:,i+2*num_types] = degrees[:,i] + degrees[:,i+num_types]  # total degrees\n",
    "            \n",
    "        degrees[:,-1] = torch.sparse.sum(matrix, dim=1).to_dense()   # total degrees (also total1, 2, 3 because sparse does not support range index)\n",
    "        \n",
    "        # add triangle counts per edge type and total triangle counts\n",
    "        # with triangle count and degree count, we could calculate clustering coefficient\n",
    "        triangle_counts = torch.zeros((len(G.nodes), num_types+1), device=  config['device'])\n",
    "        for i, adj_matrix in enumerate(adj_matrices.values()):\n",
    "            undirected_adj = (adj_matrix + adj_matrix.T).to_sparse()\n",
    "            # sparse = undirected_adj.to_sparse()\n",
    "            # unnormalized triangle count\n",
    "            A_times_A = torch.sparse.mm(undirected_adj,undirected_adj)\n",
    "            # sum(mul(A,B), dim=1) faster than trace(mm(A,B))\n",
    "            triangle_counts[:,i] = torch.sparse.sum(torch.mul(undirected_adj, A_times_A), dim=1).to_dense()\n",
    "        \n",
    "        triangle_counts[:,-1] = torch.sum(triangle_counts[:,:-1], dim=1)\n",
    "        \n",
    "        # onehot label of node  e.g. \"ParamVariableDeclaration\"\n",
    "        labels = [  label_categories[G.nodes[node]['label'].replace('\"','')] for node in node_list]\n",
    "        labels = torch.stack(labels).to(  config['device']).to(torch.float32)\n",
    "        \n",
    "        \n",
    "        \n",
    "        # can implement later:\n",
    "        # or fasttext \n",
    "        # or SentenceBert\n",
    "        # pagerank\n",
    "        #\n",
    "        # in, out, total * 4 (4 edge types) + total degree of all\n",
    "        # degrees: 13, triangle_counts: 5\n",
    "        X = torch.cat([degrees, triangle_counts], dim=1)\n",
    "        X =   column_normalize_dense_features_torch(mx=X)\n",
    "        \n",
    "        node_embeddings = []\n",
    "        # gensim word vectors (average for sentence vector)\n",
    "        for node_id in node_list:\n",
    "            average_embedding =   word2vec.get_embedding(G, node_id)\n",
    "            average_embedding = torch.tensor(average_embedding, dtype=torch.float32, device=  config['device'])\n",
    "            node_embeddings.append(average_embedding)\n",
    "        \n",
    "        node_embeddings = torch.stack(node_embeddings)\n",
    "        \n",
    "        X = torch.cat([X, labels], dim=1)\n",
    "        \n",
    "        # eye = torch.eye(len(G.nodes), device=  config['device']).to_sparse()\n",
    "        \n",
    "    \n",
    "            \n",
    "        return to_edge_index(matrix)[0], X  # only edge_index, not count\n",
    "    \n",
    "    \n",
    "def get_graph_nxagraph( file):\n",
    "        G = nx.drawing.nx_agraph.read_dot(file)\n",
    "      \n",
    "        # G = nx.Graph(nx.drawing.nx_pydot.read_dot(file))\n",
    "        \n",
    "        # with open(file, \"r\", encoding=\"utf8\") as f:\n",
    "        #     G = nx.Graph(pgv.AGraph(f.read()))  \n",
    "        \n",
    "        # if not (len(G.nodes) <= 1000 and len(G.nodes) >= 10):  # filter graphs which are too small or too large\n",
    "        #     placeholder_edgeindex = torch.tensor([[0,0],[0,0]], dtype=torch.long, device=  config['device'])\n",
    "        #     placeholder_x = torch.tensor([[0,0]], dtype=torch.float32, device=  config['device'])\n",
    "        #     return placeholder_edgeindex, placeholder_x \n",
    "        \n",
    "        node_list, adj_matrices =   get_adjacency_matrices(G)\n",
    "\n",
    "        # get binary adjacency matrix for all edge types\n",
    "        matrix = torch.zeros((len(G.nodes), len(G.nodes)), layout=torch.sparse_coo, dtype=torch.float32, device=  config['device'])\n",
    "        for adj_matrix in adj_matrices.values():\n",
    "            matrix = matrix+adj_matrix\n",
    "\n",
    "        # set nonzero to 1, undirected\n",
    "        #matrix = matrix + matrix.T  # undirected graph\n",
    "        coo = matrix.coalesce() \n",
    "        values = torch.ones(coo.values().shape).to(  config['device'])\n",
    "        matrix = torch.sparse_coo_tensor(coo.indices(), values, matrix.shape, device=  config['device'])\n",
    "        \n",
    "        \n",
    "        \n",
    "        # get node degrees per edge type and in-/out-degrees\n",
    "        # in1, in2, in3, out1 out2 out3, total1, total2, total3, total4...\n",
    "        \n",
    "        num_types = len(adj_matrices)\n",
    "        degrees = torch.zeros((len(G.nodes), num_types*3+1), dtype=torch.float32, device=  config['device'])\n",
    "        for i, adj_matrix in enumerate(adj_matrices.values()):\n",
    "            degrees[:,i] = torch.sum(adj_matrix, dim=1).to_dense()  # out-degrees\n",
    "            degrees[:,i+num_types] = torch.sum(adj_matrix, dim=0).to_dense()   # in-degrees\n",
    "            degrees[:,i+2*num_types] = degrees[:,i] + degrees[:,i+num_types]  # total degrees\n",
    "            \n",
    "        degrees[:,-1] = torch.sparse.sum(matrix, dim=1).to_dense()   # total degrees (also total1, 2, 3 because sparse does not support range index)\n",
    "        \n",
    "        # add triangle counts per edge type and total triangle counts\n",
    "        # with triangle count and degree count, we could calculate clustering coefficient\n",
    "        triangle_counts = torch.zeros((len(G.nodes), num_types+1), device=  config['device'])\n",
    "        for i, adj_matrix in enumerate(adj_matrices.values()):\n",
    "            undirected_adj = (adj_matrix + adj_matrix.T).to_sparse()\n",
    "            # sparse = undirected_adj.to_sparse()\n",
    "            # unnormalized triangle count\n",
    "            A_times_A = torch.sparse.mm(undirected_adj,undirected_adj)\n",
    "            # sum(mul(A,B), dim=1) faster than trace(mm(A,B))\n",
    "            triangle_counts[:,i] = torch.sparse.sum(torch.mul(undirected_adj, A_times_A), dim=1).to_dense()\n",
    "        \n",
    "        triangle_counts[:,-1] = torch.sum(triangle_counts[:,:-1], dim=1)\n",
    "        \n",
    "        # onehot label of node  e.g. \"ParamVariableDeclaration\"\n",
    "        labels = [  label_categories[G.nodes[node]['label'].replace('\"','')] for node in node_list]\n",
    "        labels = torch.stack(labels).to(  config['device']).to(torch.float32)\n",
    "        \n",
    "        \n",
    "        \n",
    "        # can implement later:\n",
    "        # or fasttext \n",
    "        # or SentenceBert\n",
    "        # pagerank\n",
    "        #\n",
    "        # in, out, total * 4 (4 edge types) + total degree of all\n",
    "        # degrees: 13, triangle_counts: 5\n",
    "        X = torch.cat([degrees, triangle_counts], dim=1)\n",
    "        X =   column_normalize_dense_features_torch(mx=X)\n",
    "        \n",
    "        node_embeddings = []\n",
    "        # gensim word vectors (average for sentence vector)\n",
    "        for node_id in node_list:\n",
    "            average_embedding =   word2vec.get_embedding(G, node_id)\n",
    "            average_embedding = torch.tensor(average_embedding, dtype=torch.float32, device=  config['device'])\n",
    "            node_embeddings.append(average_embedding)\n",
    "        \n",
    "        node_embeddings = torch.stack(node_embeddings)\n",
    "        \n",
    "        X = torch.cat([X, labels, node_embeddings], dim=1)\n",
    "        \n",
    "        # eye = torch.eye(len(G.nodes), device=  config['device']).to_sparse()\n",
    "        \n",
    "      \n",
    "            \n",
    "        return to_edge_index(matrix)[0], X  # only edge_index, not count\n",
    "    \n",
    "def get_graph_pgvagraph(file):\n",
    "        #G = nx.drawing.nx_agraph.read_dot(file)\n",
    "      \n",
    "        # G = nx.Graph(nx.drawing.nx_pydot.read_dot(file))\n",
    "        \n",
    "        with open(file, \"r\", encoding=\"utf8\") as f:\n",
    "            G = nx.Graph(pgv.AGraph(f.read()))  \n",
    "        \n",
    "        # if not (len(G.nodes) <= 1000 and len(G.nodes) >= 10):  # filter graphs which are too small or too large\n",
    "        #     placeholder_edgeindex = torch.tensor([[0,0],[0,0]], dtype=torch.long, device=  config['device'])\n",
    "        #     placeholder_x = torch.tensor([[0,0]], dtype=torch.float32, device=  config['device'])\n",
    "        #     return placeholder_edgeindex, placeholder_x \n",
    "        \n",
    "        node_list, adj_matrices =   get_adjacency_matrices(G)\n",
    "\n",
    "        # get binary adjacency matrix for all edge types\n",
    "        matrix = torch.zeros((len(G.nodes), len(G.nodes)), layout=torch.sparse_coo, dtype=torch.float32, device=  config['device'])\n",
    "        for adj_matrix in adj_matrices.values():\n",
    "            matrix = matrix+adj_matrix\n",
    "\n",
    "        # set nonzero to 1, undirected\n",
    "        #matrix = matrix + matrix.T  # undirected graph\n",
    "        coo = matrix.coalesce() \n",
    "        values = torch.ones(coo.values().shape).to(  config['device'])\n",
    "        matrix = torch.sparse_coo_tensor(coo.indices(), values, matrix.shape, device=  config['device'])\n",
    "        \n",
    "        \n",
    "        \n",
    "        # get node degrees per edge type and in-/out-degrees\n",
    "        # in1, in2, in3, out1 out2 out3, total1, total2, total3, total4...\n",
    "        \n",
    "        num_types = len(adj_matrices)\n",
    "        degrees = torch.zeros((len(G.nodes), num_types*3+1), dtype=torch.float32, device=  config['device'])\n",
    "        for i, adj_matrix in enumerate(adj_matrices.values()):\n",
    "            degrees[:,i] = torch.sum(adj_matrix, dim=1).to_dense()  # out-degrees\n",
    "            degrees[:,i+num_types] = torch.sum(adj_matrix, dim=0).to_dense()   # in-degrees\n",
    "            degrees[:,i+2*num_types] = degrees[:,i] + degrees[:,i+num_types]  # total degrees\n",
    "            \n",
    "        degrees[:,-1] = torch.sparse.sum(matrix, dim=1).to_dense()   # total degrees (also total1, 2, 3 because sparse does not support range index)\n",
    "        \n",
    "        # add triangle counts per edge type and total triangle counts\n",
    "        # with triangle count and degree count, we could calculate clustering coefficient\n",
    "        triangle_counts = torch.zeros((len(G.nodes), num_types+1), device=  config['device'])\n",
    "        for i, adj_matrix in enumerate(adj_matrices.values()):\n",
    "            undirected_adj = (adj_matrix + adj_matrix.T).to_sparse()\n",
    "            # sparse = undirected_adj.to_sparse()\n",
    "            # unnormalized triangle count\n",
    "            A_times_A = torch.sparse.mm(undirected_adj,undirected_adj)\n",
    "            # sum(mul(A,B), dim=1) faster than trace(mm(A,B))\n",
    "            triangle_counts[:,i] = torch.sparse.sum(torch.mul(undirected_adj, A_times_A), dim=1).to_dense()\n",
    "        \n",
    "        triangle_counts[:,-1] = torch.sum(triangle_counts[:,:-1], dim=1)\n",
    "        \n",
    "        # onehot label of node  e.g. \"ParamVariableDeclaration\"\n",
    "        labels = [  label_categories[G.nodes[node]['label'].replace('\"','')] for node in node_list]\n",
    "        labels = torch.stack(labels).to(  config['device']).to(torch.float32)\n",
    "        \n",
    "        \n",
    "        \n",
    "        # can implement later:\n",
    "        # or fasttext \n",
    "        # or SentenceBert\n",
    "        # pagerank\n",
    "        #\n",
    "        # in, out, total * 4 (4 edge types) + total degree of all\n",
    "        # degrees: 13, triangle_counts: 5\n",
    "        X = torch.cat([degrees, triangle_counts], dim=1)\n",
    "        X =   column_normalize_dense_features_torch(mx=X)\n",
    "        \n",
    "        node_embeddings = []\n",
    "        # gensim word vectors (average for sentence vector)\n",
    "        for node_id in node_list:\n",
    "            average_embedding =   word2vec.get_embedding(G, node_id)\n",
    "            average_embedding = torch.tensor(average_embedding, dtype=torch.float32, device=  config['device'])\n",
    "            node_embeddings.append(average_embedding)\n",
    "        \n",
    "        node_embeddings = torch.stack(node_embeddings)\n",
    "        \n",
    "        X = torch.cat([X, labels, node_embeddings], dim=1)\n",
    "        \n",
    "        \n",
    "        return to_edge_index(matrix)[0], X  # only edge_index, not count\n",
    "    \n",
    "get_graph_nxagraph(raw_file)[0]"
   ]
  },
  {
   "cell_type": "code",
   "execution_count": null,
   "metadata": {},
   "outputs": [],
   "source": [
    "# 74 with degree features, 67.9 bacc without degree features"
   ]
  },
  {
   "cell_type": "code",
   "execution_count": 244,
   "metadata": {},
   "outputs": [
    {
     "name": "stdout",
     "output_type": "stream",
     "text": [
      "6c4841c2b6c32a134f9f36e5e08857138cc12b10_321685412815739880486950646018483679442_0.cpg.pt 14\n"
     ]
    }
   ],
   "source": [
    "# get small graph \n",
    "for file in os.listdir(old):\n",
    "    data = torch.load(old/file)\n",
    "    if data.x.size(0) < 15 and data.x.size(0)>12:\n",
    "        print(file, data.x.size(0))\n",
    "        break"
   ]
  },
  {
   "cell_type": "code",
   "execution_count": 251,
   "metadata": {},
   "outputs": [],
   "source": [
    "graph_old = torch.load('codegraphs/diversevul/preprocessed_with_degreecount/826bfe4bbd7594188e3d74d2539d9707b1c6a14b_45290177164699323617404875727428861719_0.cpg.pt')\n",
    "graph_new= torch.load('codegraphs/diversevul/preprocessed_v1_withdegreecount_allgraphs/826bfe4bbd7594188e3d74d2539d9707b1c6a14b_45290177164699323617404875727428861719_0.cpg.pt')"
   ]
  },
  {
   "cell_type": "code",
   "execution_count": 271,
   "metadata": {},
   "outputs": [
    {
     "data": {
      "text/plain": [
       "(torch.Size([2, 29]), torch.Size([2, 18]))"
      ]
     },
     "execution_count": 271,
     "metadata": {},
     "output_type": "execute_result"
    }
   ],
   "source": [
    "graph_old.edge_index.shape, graph_new.edge_index.shape"
   ]
  },
  {
   "cell_type": "code",
   "execution_count": 274,
   "metadata": {},
   "outputs": [
    {
     "data": {
      "text/plain": [
       "tensor([[ 0,  0,  3,  3,  3,  3,  4,  4,  5,  5,  5,  5,  6,  6,  7,  7, 10, 10,\n",
       "          0,  1,  2,  3,  4,  5,  6,  7,  8,  9, 10],\n",
       "        [ 3, 10,  4,  6,  8,  9,  5,  8,  6,  7,  8, 10,  1,  7,  2,  9,  1,  2,\n",
       "          0,  1,  2,  3,  4,  5,  6,  7,  8,  9, 10]])"
      ]
     },
     "execution_count": 274,
     "metadata": {},
     "output_type": "execute_result"
    }
   ],
   "source": []
  },
  {
   "cell_type": "code",
   "execution_count": 252,
   "metadata": {},
   "outputs": [],
   "source": [
    "import pickle \n",
    "graph_erik = pickle.load(open('codegraphs/diversevul/erik_preprocessed/826bfe4bbd7594188e3d74d2539d9707b1c6a14b_45290177164699323617404875727428861719_0.cpg.pt','rb'))"
   ]
  },
  {
   "cell_type": "code",
   "execution_count": 253,
   "metadata": {},
   "outputs": [],
   "source": [
    "raw_file = 'codegraphs/diversevul/raw/826bfe4bbd7594188e3d74d2539d9707b1c6a14b_45290177164699323617404875727428861719_0.cpg'"
   ]
  },
  {
   "cell_type": "code",
   "execution_count": 254,
   "metadata": {},
   "outputs": [
    {
     "data": {
      "text/plain": [
       "(torch.Size([2, 36]), 11)"
      ]
     },
     "execution_count": 254,
     "metadata": {},
     "output_type": "execute_result"
    }
   ],
   "source": [
    "graph_erik['edge_index'].shape, graph_erik['num_nodes']"
   ]
  },
  {
   "cell_type": "code",
   "execution_count": 176,
   "metadata": {},
   "outputs": [
    {
     "data": {
      "text/plain": [
       "tensor([[ 0,  0,  1,  1,  1,  1,  1,  2,  2,  2,  3,  3,  3,  3,  3,  4,  4,  4,\n",
       "          4,  5,  5,  5,  5,  6,  6,  6,  7,  7,  8,  8,  8,  8,  9,  9, 10, 10],\n",
       "        [ 1,  8,  0,  4,  2,  7,  6,  1,  3,  6,  2,  6,  4,  5,  8,  1,  3,  5,\n",
       "          9,  3,  4, 10,  7,  1,  2,  3,  1,  5,  0,  3,  9, 10,  4,  8,  5,  8]])"
      ]
     },
     "execution_count": 176,
     "metadata": {},
     "output_type": "execute_result"
    }
   ],
   "source": [
    "g = from_networkx_multi(Gpydot)\n",
    "g.edge_index"
   ]
  },
  {
   "cell_type": "code",
   "execution_count": 195,
   "metadata": {},
   "outputs": [
    {
     "data": {
      "text/plain": [
       "(23, torch.Size([2, 18]), torch.Size([2, 29]))"
      ]
     },
     "execution_count": 195,
     "metadata": {},
     "output_type": "execute_result"
    }
   ],
   "source": [
    "len(Gagraph.edges()), graph_new.edge_index.shape, graph_old.edge_index.shape"
   ]
  },
  {
   "cell_type": "code",
   "execution_count": 189,
   "metadata": {},
   "outputs": [
    {
     "data": {
      "text/plain": [
       "OutEdgeView([('1', '2'), ('1', '9'), ('2', '3'), ('2', '5'), ('2', '8'), ('3', '4'), ('3', '7'), ('4', '5'), ('4', '6'), ('4', '7'), ('4', '9'), ('5', '6'), ('5', '10'), ('6', '4'), ('6', '11'), ('7', '2'), ('8', '6'), ('9', '4'), ('9', '10'), ('9', '11')])"
      ]
     },
     "execution_count": 189,
     "metadata": {},
     "output_type": "execute_result"
    }
   ],
   "source": [
    "nx.DiGraph(Gagraph).edges()"
   ]
  },
  {
   "cell_type": "code",
   "execution_count": 183,
   "metadata": {},
   "outputs": [],
   "source": [
    "g2 = from_networkx_multi(nx.DiGraph(Gagraph))"
   ]
  },
  {
   "cell_type": "code",
   "execution_count": null,
   "metadata": {},
   "outputs": [],
   "source": []
  },
  {
   "cell_type": "code",
   "execution_count": null,
   "metadata": {},
   "outputs": [],
   "source": [
    "  \"1\" -> \"2\" [label = \"AST\", properties = \"\"]\n",
    "  \"1\" -> \"9\" [label = \"AST\", properties = \"\"]\n",
    "  \"2\" -> \"5\" [label = \"CFG\", properties = \"\"]\n",
    "  \"2\" -> \"3\" [label = \"AST\", properties = \"\"]\n",
    "  \"2\" -> \"8\" [label = \"AST\", properties = \"\"]\n",
    "  \"3\" -> \"4\" [label = \"AST\", properties = \"\"]\n",
    "  \"3\" -> \"7\" [label = \"AST\", properties = \"\"]\n",
    "  \"4\" -> \"7\" [label = \"CFG\", properties = \"\"]\n",
    "  \"4\" -> \"5\" [label = \"AST\", properties = \"\"]\n",
    "  \"4\" -> \"6\" [label = \"AST\", properties = \"\"]\n",
    "  \"4\" -> \"9\" [label = \"CG\", properties = \"\"]\n",
    "#   \"4\" -> \"7\" [label = \"CFG\", properties = \"\"]\n",
    "#   \"4\" -> \"5\" [label = \"AST\", properties = \"\"]\n",
    "#   \"4\" -> \"6\" [label = \"AST\", properties = \"\"]\n",
    "  \"5\" -> \"6\" [label = \"CFG\", properties = \"\"]\n",
    "  \"5\" -> \"10\" [label = \"DFG\", properties = \"\"]\n",
    "  \"6\" -> \"4\" [label = \"CFG\", properties = \"\"]\n",
    "  \"6\" -> \"11\" [label = \"DFG\", properties = \"\"]\n",
    "  \"7\" -> \"2\" [label = \"DFG\", properties = \"\"]\n",
    "  \"8\" -> \"6\" [label = \"DFG\", properties = \"\"]\n",
    "  \"9\" -> \"4\" [label = \"DFG\", properties = \"\"]\n",
    "  \"9\" -> \"10\" [label = \"AST\", properties = \"\"]"
   ]
  },
  {
   "cell_type": "code",
   "execution_count": 187,
   "metadata": {},
   "outputs": [
    {
     "data": {
      "text/plain": [
       "tensor([[ 0,  0,  1,  1,  1,  2,  2,  3,  3,  3,  3,  4,  4,  5,  5,  6,  7,  8,\n",
       "          8,  8],\n",
       "        [ 1,  8,  2,  4,  7,  3,  6,  4,  5,  6,  8,  5,  9,  3, 10,  1,  5,  3,\n",
       "          9, 10]])"
      ]
     },
     "execution_count": 187,
     "metadata": {},
     "output_type": "execute_result"
    }
   ],
   "source": [
    "g2.edge_index"
   ]
  },
  {
   "cell_type": "code",
   "execution_count": 180,
   "metadata": {},
   "outputs": [
    {
     "data": {
      "text/plain": [
       "torch.Size([2, 18])"
      ]
     },
     "execution_count": 180,
     "metadata": {},
     "output_type": "execute_result"
    }
   ],
   "source": [
    "graph_new.edge_index.shape"
   ]
  },
  {
   "cell_type": "code",
   "execution_count": 160,
   "metadata": {},
   "outputs": [],
   "source": [
    "def get_tuples_from_2xn_tensor(tensor):\n",
    "    return list(zip(tensor[0].tolist(), tensor[1].tolist()))"
   ]
  },
  {
   "cell_type": "code",
   "execution_count": 161,
   "metadata": {},
   "outputs": [],
   "source": [
    "graph_erik_edges = set(get_tuples_from_2xn_tensor(graph_erik['edge_index']))"
   ]
  },
  {
   "cell_type": "code",
   "execution_count": 162,
   "metadata": {},
   "outputs": [],
   "source": [
    "graph_graphviz_edges = set(get_tuples_from_2xn_tensor(graph_new.edge_index))"
   ]
  },
  {
   "cell_type": "code",
   "execution_count": 163,
   "metadata": {},
   "outputs": [
    {
     "data": {
      "text/plain": [
       "29"
      ]
     },
     "execution_count": 163,
     "metadata": {},
     "output_type": "execute_result"
    }
   ],
   "source": [
    "len(set(graph_erik_edges) - set(graph_graphviz_edges))"
   ]
  },
  {
   "cell_type": "code",
   "execution_count": 142,
   "metadata": {},
   "outputs": [
    {
     "data": {
      "text/plain": [
       "(152, 304)"
      ]
     },
     "execution_count": 142,
     "metadata": {},
     "output_type": "execute_result"
    }
   ],
   "source": [
    "len(set(graph_graphviz_edges)), len(switched_set)"
   ]
  },
  {
   "cell_type": "code",
   "execution_count": 148,
   "metadata": {},
   "outputs": [
    {
     "data": {
      "text/plain": [
       "35"
      ]
     },
     "execution_count": 148,
     "metadata": {},
     "output_type": "execute_result"
    }
   ],
   "source": [
    "switched_set = set()\n",
    "for tup in (set(graph_erik_edges)) - set(graph_graphviz_edges):\n",
    "    switched_set.add((tup[1],tup[0]))\n",
    "\n",
    "len(set(graph_erik_edges) - set(switched_set))"
   ]
  },
  {
   "cell_type": "code",
   "execution_count": 164,
   "metadata": {},
   "outputs": [
    {
     "data": {
      "text/plain": [
       "{(0, 3),\n",
       " (0, 10),\n",
       " (3, 4),\n",
       " (3, 6),\n",
       " (3, 8),\n",
       " (3, 9),\n",
       " (4, 8),\n",
       " (5, 6),\n",
       " (5, 7),\n",
       " (5, 8),\n",
       " (5, 10),\n",
       " (6, 1),\n",
       " (6, 7),\n",
       " (7, 9),\n",
       " (10, 1),\n",
       " (10, 2)}"
      ]
     },
     "execution_count": 164,
     "metadata": {},
     "output_type": "execute_result"
    }
   ],
   "source": [
    "set(graph_graphviz_edges) - set(switched_set)"
   ]
  },
  {
   "cell_type": "code",
   "execution_count": 172,
   "metadata": {},
   "outputs": [
    {
     "data": {
      "text/plain": [
       "Data(edge_index=[2, 36], label=[36], lexeme=[11], enclosing=[11], location=[11], num_nodes=11)"
      ]
     },
     "execution_count": 172,
     "metadata": {},
     "output_type": "execute_result"
    }
   ],
   "source": [
    "from_networkx_multi(Gpydot)"
   ]
  },
  {
   "cell_type": "code",
   "execution_count": 167,
   "metadata": {},
   "outputs": [
    {
     "data": {
      "text/plain": [
       "Data(x=[11, 162], edge_index=[2, 18], y=[1])"
      ]
     },
     "execution_count": 167,
     "metadata": {},
     "output_type": "execute_result"
    }
   ],
   "source": [
    "graph_new # with graphviz"
   ]
  },
  {
   "cell_type": "code",
   "execution_count": 166,
   "metadata": {},
   "outputs": [
    {
     "data": {
      "text/plain": [
       "Data(x=[11, 162], edge_index=[2, 29], y=[1])"
      ]
     },
     "execution_count": 166,
     "metadata": {},
     "output_type": "execute_result"
    }
   ],
   "source": [
    "graph_old # my approach"
   ]
  },
  {
   "cell_type": "code",
   "execution_count": 171,
   "metadata": {},
   "outputs": [
    {
     "data": {
      "text/plain": [
       "Data(edge_index=[2, 23], enclosing=[9], label=[23], lexeme=[9], location=[11], num_nodes=11)"
      ]
     },
     "execution_count": 171,
     "metadata": {},
     "output_type": "execute_result"
    }
   ],
   "source": [
    "from_networkx_multi(Gagraph)"
   ]
  },
  {
   "cell_type": "code",
   "execution_count": null,
   "metadata": {},
   "outputs": [],
   "source": []
  },
  {
   "cell_type": "code",
   "execution_count": 115,
   "metadata": {},
   "outputs": [
    {
     "data": {
      "text/plain": [
       "Data(edge_index=[2, 193], enclosing=[70], label=[193], lexeme=[69], location=[81], num_nodes=81)"
      ]
     },
     "execution_count": 115,
     "metadata": {},
     "output_type": "execute_result"
    }
   ],
   "source": [
    "data = from_networkx_multi(Gagraph)\n",
    "data "
   ]
  },
  {
   "cell_type": "code",
   "execution_count": 119,
   "metadata": {},
   "outputs": [
    {
     "data": {
      "text/plain": [
       "Data(edge_index=[2, 304], enclosing=[70], label=[304], lexeme=[69], location=[81], num_nodes=81)"
      ]
     },
     "execution_count": 119,
     "metadata": {},
     "output_type": "execute_result"
    }
   ],
   "source": [
    "from_networkx_multi(Gpgv)"
   ]
  },
  {
   "cell_type": "code",
   "execution_count": 120,
   "metadata": {},
   "outputs": [
    {
     "data": {
      "text/plain": [
       "Data(edge_index=[2, 304], label=[304], lexeme=[81], enclosing=[81], location=[81], num_nodes=81)"
      ]
     },
     "execution_count": 120,
     "metadata": {},
     "output_type": "execute_result"
    }
   ],
   "source": [
    "from_networkx_multi(Gpydot)"
   ]
  },
  {
   "cell_type": "code",
   "execution_count": 118,
   "metadata": {},
   "outputs": [],
   "source": [
    "import torch_geometric \n",
    "import numpy as np\n",
    "def from_networkx_multi(G):\n",
    "    # original code: https://pytorch-geometric.readthedocs.io/en/latest/_modules/torch_geometric/utils/convert.html#from_networkx\n",
    "    G = nx.convert_node_labels_to_integers(G)\n",
    "    G = G.to_directed() if not nx.is_directed(G) else G\n",
    "    edge_index = torch.LongTensor(list(G.edges)).t().contiguous()\n",
    "    if isinstance(G, (nx.MultiDiGraph, nx.MultiGraph)):\n",
    "        edge_index = edge_index[0:2, :]\n",
    "    data = {}\n",
    "    for i, (_, feat_dict) in enumerate(G.nodes(data=True)):\n",
    "        for key, value in feat_dict.items():\n",
    "            data[str(key)] = [value] if i == 0 else data[str(key)] + [value]\n",
    "            for key, item in data.items():\n",
    "                try:\n",
    "                    if type(item) is list and len(item) > 0 and type(item[0]) is np.ndarray:\n",
    "                        item = np.stack(item)\n",
    "                    data[key] = torch.tensor(item)\n",
    "                except ValueError:\n",
    "                    pass\n",
    "   \n",
    "    for i, (_, _, feat_dict) in enumerate(G.edges(data=True)):\n",
    "        for key, value in feat_dict.items():\n",
    "            if key =='properties':\n",
    "                continue \n",
    "            data[str(key)] = [value] if i == 0 else data[str(key)] + [value]\n",
    "            \n",
    "            \n",
    "    for key, item in data.items():\n",
    "        try:\n",
    "            # print(key)\n",
    "            # print(item)\n",
    "            if type(item) is list and len(item) > 0 and type(item[0]) is np.ndarray:\n",
    "                item = np.stack(item)\n",
    "            data[key] = torch.tensor(item)\n",
    "        except ValueError:\n",
    "            pass\n",
    "    data['edge_index'] = edge_index.view(2, -1)\n",
    "    data = torch_geometric.data.Data.from_dict(data)\n",
    "    data.num_nodes = G.number_of_nodes()\n",
    "    return data\n",
    " "
   ]
  },
  {
   "cell_type": "code",
   "execution_count": 220,
   "metadata": {},
   "outputs": [
    {
     "data": {
      "text/plain": [
       "torch.Size([2, 20])"
      ]
     },
     "execution_count": 220,
     "metadata": {},
     "output_type": "execute_result"
    }
   ],
   "source": [
    "Gagraph_mine.shape"
   ]
  },
  {
   "cell_type": "code",
   "execution_count": 219,
   "metadata": {},
   "outputs": [
    {
     "data": {
      "text/plain": [
       "(torch.Size([2, 18]), torch.Size([2, 18]))"
      ]
     },
     "execution_count": 219,
     "metadata": {},
     "output_type": "execute_result"
    }
   ],
   "source": [
    "Gpydot_mine.shape, Gpgv_mine.shape"
   ]
  },
  {
   "cell_type": "code",
   "execution_count": 229,
   "metadata": {},
   "outputs": [
    {
     "data": {
      "text/plain": [
       "tensor([[ 0,  0,  1,  1,  1,  2,  2,  3,  3,  3,  3,  4,  4,  5,  5,  6,  7,  8,\n",
       "          8,  8],\n",
       "        [ 1,  8,  2,  4,  7,  3,  6,  4,  5,  6,  8,  5,  9,  3, 10,  1,  5,  3,\n",
       "          9, 10]], device='cuda:0')"
      ]
     },
     "execution_count": 229,
     "metadata": {},
     "output_type": "execute_result"
    }
   ],
   "source": [
    "Gagraph_mine"
   ]
  },
  {
   "cell_type": "code",
   "execution_count": 234,
   "metadata": {},
   "outputs": [],
   "source": [
    "# Gagraph = nx.drawing.nx_agraph.read_dot(raw_file)\n",
    "# Gpydot = nx.Graph(nx.drawing.nx_pydot.read_dot(raw_file))\n",
    "Gpgv = nx.Graph(pgv.AGraph(open(raw_file, \"r\", encoding=\"utf8\").read()))"
   ]
  },
  {
   "cell_type": "code",
   "execution_count": 231,
   "metadata": {},
   "outputs": [
    {
     "data": {
      "text/plain": [
       "tensor([[ 1,  2],\n",
       "        [ 1,  9],\n",
       "        [ 2,  3],\n",
       "        [ 2,  5],\n",
       "        [ 2,  7],\n",
       "        [ 2,  8],\n",
       "        [ 3,  4],\n",
       "        [ 3,  7],\n",
       "        [ 4,  5],\n",
       "        [ 4,  6],\n",
       "        [ 4,  7],\n",
       "        [ 4,  9],\n",
       "        [ 5,  6],\n",
       "        [ 5, 10],\n",
       "        [ 6,  8],\n",
       "        [ 6, 11],\n",
       "        [ 9, 10],\n",
       "        [ 9, 11]], device='cuda:0')"
      ]
     },
     "execution_count": 231,
     "metadata": {},
     "output_type": "execute_result"
    }
   ],
   "source": [
    "(Gpgv_mine +1).T# 1,6   "
   ]
  },
  {
   "cell_type": "code",
   "execution_count": 242,
   "metadata": {},
   "outputs": [
    {
     "data": {
      "text/plain": [
       "EdgeView([('1', '2'), ('1', '9'), ('2', '5'), ('2', '3'), ('2', '8'), ('2', '7'), ('3', '4'), ('3', '7'), ('4', '7'), ('4', '5'), ('4', '6'), ('4', '9'), ('5', '6'), ('5', '10'), ('6', '11'), ('6', '8'), ('9', '10'), ('9', '11')])"
      ]
     },
     "execution_count": 242,
     "metadata": {},
     "output_type": "execute_result"
    }
   ],
   "source": [
    "Gpydot.edges()"
   ]
  },
  {
   "cell_type": "code",
   "execution_count": 240,
   "metadata": {},
   "outputs": [
    {
     "data": {
      "text/plain": [
       "EdgeView([('1', '2'), ('1', '9'), ('2', '3'), ('2', '5'), ('2', '8'), ('2', '7'), ('3', '4'), ('3', '7'), ('4', '5'), ('4', '6'), ('4', '7'), ('4', '9'), ('5', '6'), ('5', '10'), ('6', '11'), ('6', '8'), ('9', '10'), ('9', '11')])"
      ]
     },
     "execution_count": 240,
     "metadata": {},
     "output_type": "execute_result"
    }
   ],
   "source": [
    "Gpgv.edges()"
   ]
  },
  {
   "cell_type": "code",
   "execution_count": 264,
   "metadata": {},
   "outputs": [
    {
     "data": {
      "text/plain": [
       "OutMultiEdgeDataView([('1', '2'), ('1', '9'), ('2', '3'), ('2', '5'), ('2', '8'), ('3', '4'), ('3', '7'), ('4', '5'), ('4', '5'), ('4', '6'), ('4', '6'), ('4', '7'), ('4', '7'), ('4', '9'), ('5', '6'), ('5', '10'), ('6', '4'), ('6', '11'), ('7', '2'), ('8', '6'), ('9', '4'), ('9', '10'), ('9', '11')])"
      ]
     },
     "execution_count": 264,
     "metadata": {},
     "output_type": "execute_result"
    }
   ],
   "source": [
    "Gagraph = nx.drawing.nx_agraph.read_dot(raw_file)\n",
    "len(Gagraph.edges())\n",
    "Gagraph.edges()"
   ]
  },
  {
   "cell_type": "code",
   "execution_count": 279,
   "metadata": {},
   "outputs": [
    {
     "data": {
      "text/plain": [
       "tensor([[ 0,  3],\n",
       "        [ 0, 10],\n",
       "        [ 3,  4],\n",
       "        [ 3,  6],\n",
       "        [ 3,  8],\n",
       "        [ 3,  9],\n",
       "        [ 4,  5],\n",
       "        [ 4,  8],\n",
       "        [ 5,  6],\n",
       "        [ 5,  7],\n",
       "        [ 5,  8],\n",
       "        [ 5, 10],\n",
       "        [ 6,  1],\n",
       "        [ 6,  7],\n",
       "        [ 7,  2],\n",
       "        [ 7,  9],\n",
       "        [10,  1],\n",
       "        [10,  2],\n",
       "        [ 0,  0],\n",
       "        [ 1,  1],\n",
       "        [ 2,  2],\n",
       "        [ 3,  3],\n",
       "        [ 4,  4],\n",
       "        [ 5,  5],\n",
       "        [ 6,  6],\n",
       "        [ 7,  7],\n",
       "        [ 8,  8],\n",
       "        [ 9,  9],\n",
       "        [10, 10]])"
      ]
     },
     "execution_count": 279,
     "metadata": {},
     "output_type": "execute_result"
    }
   ],
   "source": [
    "graph_old.edge_index.T"
   ]
  },
  {
   "cell_type": "code",
   "execution_count": null,
   "metadata": {},
   "outputs": [],
   "source": [
    "  \"1\" -> \"2\" [label = \"AST\", properties = \"\"]\n",
    "  \"1\" -> \"9\" [label = \"AST\", properties = \"\"]\n",
    "  \"2\" -> \"5\" [label = \"CFG\", properties = \"\"]\n",
    "  \"2\" -> \"3\" [label = \"AST\", properties = \"\"]\n",
    "  \"2\" -> \"8\" [label = \"AST\", properties = \"\"]\n",
    "  \"3\" -> \"4\" [label = \"AST\", properties = \"\"]\n",
    "  \"3\" -> \"7\" [label = \"AST\", properties = \"\"]\n",
    "  \"4\" -> \"7\" [label = \"CFG\", properties = \"\"]\n",
    "  \"4\" -> \"5\" [label = \"AST\", properties = \"\"]\n",
    "  \"4\" -> \"6\" [label = \"AST\", properties = \"\"]\n",
    "  \"4\" -> \"9\" [label = \"CG\", properties = \"\"] \n",
    "  \"4\" -> \"7\" [label = \"CFG\", properties = \"\"] # ommited since already there\n",
    "  \"4\" -> \"5\" [label = \"AST\", properties = \"\"] # ommited \n",
    "  \"4\" -> \"6\" [label = \"AST\", properties = \"\"] # ommited\n",
    "  \"5\" -> \"6\" [label = \"CFG\", properties = \"\"]\n",
    "  \"5\" -> \"10\" [label = \"DFG\", properties = \"\"]\n",
    "  \"6\" -> \"4\" [label = \"CFG\", properties = \"\"]\n",
    "  \"6\" -> \"11\" [label = \"DFG\", properties = \"\"]\n",
    "#   \"7\" -> \"2\" [label = \"DFG\", properties = \"\"] # it reads this as 2->7\n",
    "  \"8\" -> \"6\" [label = \"DFG\", properties = \"\"]\n",
    "  \"9\" -> \"4\" [label = \"DFG\", properties = \"\"] # ommits this although different label to 4->9\n",
    "  \"9\" -> \"10\" [label = \"AST\", properties = \"\"]\n",
    "  \"9\" -> \"11\" [label = \"AST\", properties = \"\"]"
   ]
  },
  {
   "cell_type": "code",
   "execution_count": 277,
   "metadata": {},
   "outputs": [
    {
     "data": {
      "text/plain": [
       "tensor([[ 0,  0,  3,  3,  3,  3,  4,  4,  5,  5,  5,  5,  6,  6,  7,  7, 10, 10,\n",
       "          0,  1,  2,  3,  4,  5,  6,  7,  8,  9, 10],\n",
       "        [ 3, 10,  4,  6,  8,  9,  5,  8,  6,  7,  8, 10,  1,  7,  2,  9,  1,  2,\n",
       "          0,  1,  2,  3,  4,  5,  6,  7,  8,  9, 10]])"
      ]
     },
     "execution_count": 277,
     "metadata": {},
     "output_type": "execute_result"
    }
   ],
   "source": [
    "graph_old.edge_index"
   ]
  },
  {
   "cell_type": "code",
   "execution_count": 233,
   "metadata": {},
   "outputs": [
    {
     "data": {
      "text/plain": [
       "(23, 18, 18)"
      ]
     },
     "execution_count": 233,
     "metadata": {},
     "output_type": "execute_result"
    }
   ],
   "source": [
    "Gagraph = nx.drawing.nx_agraph.read_dot(raw_file)\n",
    "Gpydot = nx.Graph(nx.drawing.nx_pydot.read_dot(raw_file))\n",
    "Gpgv = nx.Graph(pgv.AGraph(open(raw_file, \"r\", encoding=\"utf8\").read()))\n",
    "\n",
    "len(Gagraph.edges()), len(Gpydot.edges()), len(Gpgv.edges())"
   ]
  },
  {
   "cell_type": "code",
   "execution_count": 214,
   "metadata": {},
   "outputs": [
    {
     "name": "stdout",
     "output_type": "stream",
     "text": [
      "{'1': 0, '2': 1, '3': 2, '4': 3, '5': 4, '6': 5, '7': 6, '8': 7, '9': 8, '10': 9, '11': 10}\n",
      "No enclosing found for  {'label': 'ParamVariableDeclaration', 'lexeme': 'unknown0', 'location': ' '} MultiDiGraph named 'G' with 11 nodes and 23 edges\n",
      "No enclosing found for  {'label': 'ParamVariableDeclaration', 'lexeme': 'int1', 'location': ' '} MultiDiGraph named 'G' with 11 nodes and 23 edges\n",
      "{'1': 0, '2': 1, '3': 2, '4': 3, '5': 4, '6': 5, '7': 6, '8': 7, '9': 8, '10': 9, '11': 10}\n",
      "{'1': 0, '2': 1, '3': 2, '4': 3, '5': 4, '6': 5, '7': 6, '8': 7, '9': 8, '10': 9, '11': 10}\n",
      "No enclosing found for  {'label': 'ParamVariableDeclaration', 'lexeme': 'unknown0', 'location': ' '} Graph named 'G' with 11 nodes and 18 edges\n",
      "No enclosing found for  {'label': 'ParamVariableDeclaration', 'lexeme': 'int1', 'location': ' '} Graph named 'G' with 11 nodes and 18 edges\n"
     ]
    }
   ],
   "source": [
    "Gagraph_mine = get_graph_nxagraph(raw_file)[0]\n",
    "Gpydot_mine = get_graph_nxpydot(raw_file)[0]\n",
    "Gpgv_mine = get_graph_pgvagraph(raw_file)[0]"
   ]
  },
  {
   "cell_type": "code",
   "execution_count": 45,
   "metadata": {},
   "outputs": [
    {
     "name": "stdout",
     "output_type": "stream",
     "text": [
      "edc032b5e3f3ebb1006a9c89e0ae00504f47966f_199207534258974476555222615779136970485_0.cpg.pt :\n",
      "edgeindex sizes from files\n",
      "graphviz:\n",
      "torch.Size([2, 261])\n",
      "nxagraph:\n",
      "torch.Size([2, 405])\n",
      "load fresh\n",
      "No enclosing found for  {'label': 'ParamVariableDeclaration', 'lexeme': 'bignumPtr0', 'location': ' '} MultiDiGraph named 'G' with 144 nodes and 429 edges\n",
      "No enclosing found for  {'label': 'ParamVariableDeclaration', 'lexeme': 'bignumPtr0', 'location': ' '} MultiDiGraph named 'G' with 144 nodes and 429 edges\n",
      "No enclosing found for  {'label': 'ParamVariableDeclaration', 'lexeme': 'charPtr0', 'location': ' '} MultiDiGraph named 'G' with 144 nodes and 429 edges\n",
      "No enclosing found for  {'label': 'ParamVariableDeclaration', 'lexeme': 'unknown1', 'location': ' '} MultiDiGraph named 'G' with 144 nodes and 429 edges\n",
      "No enclosing found for  {'label': 'ParamVariableDeclaration', 'lexeme': 'charPtr0', 'location': ' '} MultiDiGraph named 'G' with 144 nodes and 429 edges\n",
      "No enclosing found for  {'label': 'ParamVariableDeclaration', 'lexeme': 'unknown1', 'location': ' '} MultiDiGraph named 'G' with 144 nodes and 429 edges\n",
      "No enclosing found for  {'label': 'ParamVariableDeclaration', 'lexeme': 'unknown2', 'location': ' '} MultiDiGraph named 'G' with 144 nodes and 429 edges\n",
      "No enclosing found for  {'label': 'ParamVariableDeclaration', 'lexeme': 'bignumPtr0', 'location': ' '} MultiDiGraph named 'G' with 144 nodes and 429 edges\n",
      "No enclosing found for  {'label': 'ParamVariableDeclaration', 'lexeme': 'charPtr1', 'location': ' '} MultiDiGraph named 'G' with 144 nodes and 429 edges\n",
      "No enclosing found for  {'label': 'ParamVariableDeclaration', 'lexeme': 'charPtr2', 'location': ' '} MultiDiGraph named 'G' with 144 nodes and 429 edges\n",
      "No enclosing found for  {'label': 'ParamVariableDeclaration', 'lexeme': 'bignumPtr0', 'location': ' '} MultiDiGraph named 'G' with 144 nodes and 429 edges\n",
      "No enclosing found for  {'label': 'ParamVariableDeclaration', 'lexeme': 'bignumPtr1', 'location': ' '} MultiDiGraph named 'G' with 144 nodes and 429 edges\n",
      "No enclosing found for  {'label': 'ParamVariableDeclaration', 'lexeme': 'bignumPtr2', 'location': ' '} MultiDiGraph named 'G' with 144 nodes and 429 edges\n",
      "No enclosing found for  {'label': 'ParamVariableDeclaration', 'lexeme': 'bignumPtr3', 'location': ' '} MultiDiGraph named 'G' with 144 nodes and 429 edges\n",
      "No enclosing found for  {'label': 'ParamVariableDeclaration', 'lexeme': 'bn_ctxPtr4', 'location': ' '} MultiDiGraph named 'G' with 144 nodes and 429 edges\n",
      "No enclosing found for  {'label': 'ParamVariableDeclaration', 'lexeme': 'bignumPtr0', 'location': ' '} MultiDiGraph named 'G' with 144 nodes and 429 edges\n",
      "No enclosing found for  {'label': 'ParamVariableDeclaration', 'lexeme': 'bignumPtr0', 'location': ' '} MultiDiGraph named 'G' with 144 nodes and 429 edges\n",
      "No enclosing found for  {'label': 'ParamVariableDeclaration', 'lexeme': 'bignumPtr0', 'location': ' '} MultiDiGraph named 'G' with 144 nodes and 429 edges\n",
      "No enclosing found for  {'label': 'ParamVariableDeclaration', 'lexeme': 'bn_ctxPtr0', 'location': ' '} MultiDiGraph named 'G' with 144 nodes and 429 edges\n",
      "nxagraph: {torch.Size([2, 341])}\n",
      "nxpydot: {torch.Size([2, 261])}\n",
      "No enclosing found for  {'label': 'ParamVariableDeclaration', 'lexeme': 'bignumPtr0', 'location': ' '} Graph named 'G' with 144 nodes and 261 edges\n",
      "No enclosing found for  {'label': 'ParamVariableDeclaration', 'lexeme': 'bignumPtr0', 'location': ' '} Graph named 'G' with 144 nodes and 261 edges\n",
      "No enclosing found for  {'label': 'ParamVariableDeclaration', 'lexeme': 'charPtr0', 'location': ' '} Graph named 'G' with 144 nodes and 261 edges\n",
      "No enclosing found for  {'label': 'ParamVariableDeclaration', 'lexeme': 'unknown1', 'location': ' '} Graph named 'G' with 144 nodes and 261 edges\n",
      "No enclosing found for  {'label': 'ParamVariableDeclaration', 'lexeme': 'charPtr0', 'location': ' '} Graph named 'G' with 144 nodes and 261 edges\n",
      "No enclosing found for  {'label': 'ParamVariableDeclaration', 'lexeme': 'unknown1', 'location': ' '} Graph named 'G' with 144 nodes and 261 edges\n",
      "No enclosing found for  {'label': 'ParamVariableDeclaration', 'lexeme': 'unknown2', 'location': ' '} Graph named 'G' with 144 nodes and 261 edges\n",
      "No enclosing found for  {'label': 'ParamVariableDeclaration', 'lexeme': 'bignumPtr0', 'location': ' '} Graph named 'G' with 144 nodes and 261 edges\n",
      "No enclosing found for  {'label': 'ParamVariableDeclaration', 'lexeme': 'charPtr1', 'location': ' '} Graph named 'G' with 144 nodes and 261 edges\n",
      "No enclosing found for  {'label': 'ParamVariableDeclaration', 'lexeme': 'charPtr2', 'location': ' '} Graph named 'G' with 144 nodes and 261 edges\n",
      "No enclosing found for  {'label': 'ParamVariableDeclaration', 'lexeme': 'bignumPtr0', 'location': ' '} Graph named 'G' with 144 nodes and 261 edges\n",
      "No enclosing found for  {'label': 'ParamVariableDeclaration', 'lexeme': 'bignumPtr1', 'location': ' '} Graph named 'G' with 144 nodes and 261 edges\n",
      "No enclosing found for  {'label': 'ParamVariableDeclaration', 'lexeme': 'bignumPtr2', 'location': ' '} Graph named 'G' with 144 nodes and 261 edges\n",
      "No enclosing found for  {'label': 'ParamVariableDeclaration', 'lexeme': 'bignumPtr3', 'location': ' '} Graph named 'G' with 144 nodes and 261 edges\n",
      "No enclosing found for  {'label': 'ParamVariableDeclaration', 'lexeme': 'bn_ctxPtr4', 'location': ' '} Graph named 'G' with 144 nodes and 261 edges\n",
      "No enclosing found for  {'label': 'ParamVariableDeclaration', 'lexeme': 'bignumPtr0', 'location': ' '} Graph named 'G' with 144 nodes and 261 edges\n",
      "No enclosing found for  {'label': 'ParamVariableDeclaration', 'lexeme': 'bignumPtr0', 'location': ' '} Graph named 'G' with 144 nodes and 261 edges\n",
      "No enclosing found for  {'label': 'ParamVariableDeclaration', 'lexeme': 'bignumPtr0', 'location': ' '} Graph named 'G' with 144 nodes and 261 edges\n",
      "No enclosing found for  {'label': 'ParamVariableDeclaration', 'lexeme': 'bn_ctxPtr0', 'location': ' '} Graph named 'G' with 144 nodes and 261 edges\n",
      "pvgagraph {torch.Size([2, 261])}\n",
      "60b234301adf258786d8b90be5c1d437fc8799e0_173624821943653052094816300363950217562_0.cpg.pt :\n",
      "edgeindex sizes from files\n",
      "graphviz:\n",
      "torch.Size([2, 216])\n",
      "nxagraph:\n",
      "torch.Size([2, 336])\n",
      "load fresh\n",
      "No enclosing found for  {'label': 'ParamVariableDeclaration', 'lexeme': 'unknown0', 'location': ' '} MultiDiGraph named 'G' with 120 nodes and 336 edges\n",
      "No enclosing found for  {'label': 'ParamVariableDeclaration', 'lexeme': 'sf_privatePtr0', 'location': ' '} MultiDiGraph named 'G' with 120 nodes and 336 edges\n",
      "No enclosing found for  {'label': 'ParamVariableDeclaration', 'lexeme': 'charPtr1', 'location': ' '} MultiDiGraph named 'G' with 120 nodes and 336 edges\n",
      "No enclosing found for  {'label': 'ParamVariableDeclaration', 'lexeme': 'unknown2', 'location': ' '} MultiDiGraph named 'G' with 120 nodes and 336 edges\n",
      "No enclosing found for  {'label': 'ParamVariableDeclaration', 'lexeme': 'sf_privatePtr0', 'location': ' '} MultiDiGraph named 'G' with 120 nodes and 336 edges\n",
      "No enclosing found for  {'label': 'ParamVariableDeclaration', 'lexeme': 'unknown0', 'location': ' '} MultiDiGraph named 'G' with 120 nodes and 336 edges\n",
      "No enclosing found for  {'label': 'ParamVariableDeclaration', 'lexeme': 'unknown0', 'location': ' '} MultiDiGraph named 'G' with 120 nodes and 336 edges\n",
      "No enclosing found for  {'label': 'ParamVariableDeclaration', 'lexeme': 'sf_privatePtr0', 'location': ' '} MultiDiGraph named 'G' with 120 nodes and 336 edges\n",
      "No enclosing found for  {'label': 'ParamVariableDeclaration', 'lexeme': 'charPtr1', 'location': ' '} MultiDiGraph named 'G' with 120 nodes and 336 edges\n",
      "No enclosing found for  {'label': 'ParamVariableDeclaration', 'lexeme': 'unknown2', 'location': ' '} MultiDiGraph named 'G' with 120 nodes and 336 edges\n",
      "nxagraph: {torch.Size([2, 290])}\n",
      "nxpydot: {torch.Size([2, 216])}\n",
      "No enclosing found for  {'label': 'ParamVariableDeclaration', 'lexeme': 'unknown0', 'location': ' '} Graph named 'G' with 120 nodes and 216 edges\n",
      "No enclosing found for  {'label': 'ParamVariableDeclaration', 'lexeme': 'sf_privatePtr0', 'location': ' '} Graph named 'G' with 120 nodes and 216 edges\n",
      "No enclosing found for  {'label': 'ParamVariableDeclaration', 'lexeme': 'charPtr1', 'location': ' '} Graph named 'G' with 120 nodes and 216 edges\n",
      "No enclosing found for  {'label': 'ParamVariableDeclaration', 'lexeme': 'unknown2', 'location': ' '} Graph named 'G' with 120 nodes and 216 edges\n",
      "No enclosing found for  {'label': 'ParamVariableDeclaration', 'lexeme': 'sf_privatePtr0', 'location': ' '} Graph named 'G' with 120 nodes and 216 edges\n",
      "No enclosing found for  {'label': 'ParamVariableDeclaration', 'lexeme': 'unknown0', 'location': ' '} Graph named 'G' with 120 nodes and 216 edges\n",
      "No enclosing found for  {'label': 'ParamVariableDeclaration', 'lexeme': 'unknown0', 'location': ' '} Graph named 'G' with 120 nodes and 216 edges\n",
      "No enclosing found for  {'label': 'ParamVariableDeclaration', 'lexeme': 'sf_privatePtr0', 'location': ' '} Graph named 'G' with 120 nodes and 216 edges\n",
      "No enclosing found for  {'label': 'ParamVariableDeclaration', 'lexeme': 'charPtr1', 'location': ' '} Graph named 'G' with 120 nodes and 216 edges\n",
      "No enclosing found for  {'label': 'ParamVariableDeclaration', 'lexeme': 'unknown2', 'location': ' '} Graph named 'G' with 120 nodes and 216 edges\n",
      "pvgagraph {torch.Size([2, 216])}\n",
      "78c9c4dfbf8c04883941445a195276bb4bb92c76_65936965707919501166424788681525388520_1.cpg.pt :\n",
      "edgeindex sizes from files\n",
      "graphviz:\n",
      "torch.Size([2, 165])\n",
      "nxagraph:\n",
      "torch.Size([2, 256])\n",
      "load fresh\n",
      "nxagraph: {torch.Size([2, 229])}\n",
      "nxpydot: {torch.Size([2, 165])}\n",
      "pvgagraph {torch.Size([2, 165])}\n",
      "5d8b92c622f6927b253762ff9310479dd3ac627d_83641990188912552762023828382952139555_0.cpg.pt :\n",
      "edgeindex sizes from files\n",
      "graphviz:\n",
      "torch.Size([2, 1040])\n",
      "nxagraph:\n",
      "torch.Size([2, 1592])\n",
      "load fresh\n",
      "No enclosing found for  {'label': 'ParamVariableDeclaration', 'lexeme': 'charPtr0', 'location': ' '} MultiDiGraph named 'G' with 552 nodes and 1624 edges\n",
      "No enclosing found for  {'label': 'ParamVariableDeclaration', 'lexeme': 'gerrorPtrPtr0', 'location': ' '} MultiDiGraph named 'G' with 552 nodes and 1624 edges\n",
      "No enclosing found for  {'label': 'ParamVariableDeclaration', 'lexeme': 'unknown1', 'location': ' '} MultiDiGraph named 'G' with 552 nodes and 1624 edges\n",
      "No enclosing found for  {'label': 'ParamVariableDeclaration', 'lexeme': 'unknown2', 'location': ' '} MultiDiGraph named 'G' with 552 nodes and 1624 edges\n",
      "No enclosing found for  {'label': 'ParamVariableDeclaration', 'lexeme': 'unknown3', 'location': ' '} MultiDiGraph named 'G' with 552 nodes and 1624 edges\n",
      "No enclosing found for  {'label': 'ParamVariableDeclaration', 'lexeme': 'charPtr0', 'location': ' '} MultiDiGraph named 'G' with 552 nodes and 1624 edges\n",
      "No enclosing found for  {'label': 'ParamVariableDeclaration', 'lexeme': 'unknown0', 'location': ' '} MultiDiGraph named 'G' with 552 nodes and 1624 edges\n",
      "No enclosing found for  {'label': 'ParamVariableDeclaration', 'lexeme': 'charPtr0', 'location': ' '} MultiDiGraph named 'G' with 552 nodes and 1624 edges\n",
      "No enclosing found for  {'label': 'ParamVariableDeclaration', 'lexeme': 'gerrorPtrPtr0', 'location': ' '} MultiDiGraph named 'G' with 552 nodes and 1624 edges\n",
      "No enclosing found for  {'label': 'ParamVariableDeclaration', 'lexeme': 'unknown1', 'location': ' '} MultiDiGraph named 'G' with 552 nodes and 1624 edges\n",
      "No enclosing found for  {'label': 'ParamVariableDeclaration', 'lexeme': 'unknown2', 'location': ' '} MultiDiGraph named 'G' with 552 nodes and 1624 edges\n",
      "No enclosing found for  {'label': 'ParamVariableDeclaration', 'lexeme': 'unknown3', 'location': ' '} MultiDiGraph named 'G' with 552 nodes and 1624 edges\n",
      "No enclosing found for  {'label': 'ParamVariableDeclaration', 'lexeme': 'charPtr0', 'location': ' '} MultiDiGraph named 'G' with 552 nodes and 1624 edges\n",
      "No enclosing found for  {'label': 'ParamVariableDeclaration', 'lexeme': 'cameldatawrapperPtr0', 'location': ' '} MultiDiGraph named 'G' with 552 nodes and 1624 edges\n",
      "No enclosing found for  {'label': 'ParamVariableDeclaration', 'lexeme': 'camelcontenttypePtr0', 'location': ' '} MultiDiGraph named 'G' with 552 nodes and 1624 edges\n",
      "No enclosing found for  {'label': 'ParamVariableDeclaration', 'lexeme': 'charPtr1', 'location': ' '} MultiDiGraph named 'G' with 552 nodes and 1624 edges\n",
      "No enclosing found for  {'label': 'ParamVariableDeclaration', 'lexeme': 'charPtr2', 'location': ' '} MultiDiGraph named 'G' with 552 nodes and 1624 edges\n",
      "No enclosing found for  {'label': 'ParamVariableDeclaration', 'lexeme': 'unknown0', 'location': ' '} MultiDiGraph named 'G' with 552 nodes and 1624 edges\n",
      "No enclosing found for  {'label': 'ParamVariableDeclaration', 'lexeme': 'camelmultipartPtr0', 'location': ' '} MultiDiGraph named 'G' with 552 nodes and 1624 edges\n",
      "No enclosing found for  {'label': 'ParamVariableDeclaration', 'lexeme': 'unknown1', 'location': ' '} MultiDiGraph named 'G' with 552 nodes and 1624 edges\n",
      "No enclosing found for  {'label': 'ParamVariableDeclaration', 'lexeme': 'charPtr0', 'location': ' '} MultiDiGraph named 'G' with 552 nodes and 1624 edges\n",
      "No enclosing found for  {'label': 'ParamVariableDeclaration', 'lexeme': 'gerrorPtrPtr0', 'location': ' '} MultiDiGraph named 'G' with 552 nodes and 1624 edges\n",
      "No enclosing found for  {'label': 'ParamVariableDeclaration', 'lexeme': 'unknown1', 'location': ' '} MultiDiGraph named 'G' with 552 nodes and 1624 edges\n",
      "No enclosing found for  {'label': 'ParamVariableDeclaration', 'lexeme': 'unknown2', 'location': ' '} MultiDiGraph named 'G' with 552 nodes and 1624 edges\n",
      "No enclosing found for  {'label': 'ParamVariableDeclaration', 'lexeme': 'unknown3', 'location': ' '} MultiDiGraph named 'G' with 552 nodes and 1624 edges\n",
      "No enclosing found for  {'label': 'ParamVariableDeclaration', 'lexeme': 'charPtr0', 'location': ' '} MultiDiGraph named 'G' with 552 nodes and 1624 edges\n",
      "No enclosing found for  {'label': 'ParamVariableDeclaration', 'lexeme': 'unknown0', 'location': ' '} MultiDiGraph named 'G' with 552 nodes and 1624 edges\n",
      "No enclosing found for  {'label': 'ParamVariableDeclaration', 'lexeme': 'camelcontenttypePtr0', 'location': ' '} MultiDiGraph named 'G' with 552 nodes and 1624 edges\n",
      "No enclosing found for  {'label': 'ParamVariableDeclaration', 'lexeme': 'charPtr1', 'location': ' '} MultiDiGraph named 'G' with 552 nodes and 1624 edges\n",
      "No enclosing found for  {'label': 'ParamVariableDeclaration', 'lexeme': 'charPtr2', 'location': ' '} MultiDiGraph named 'G' with 552 nodes and 1624 edges\n",
      "No enclosing found for  {'label': 'ParamVariableDeclaration', 'lexeme': 'unknown0', 'location': ' '} MultiDiGraph named 'G' with 552 nodes and 1624 edges\n",
      "No enclosing found for  {'label': 'ParamVariableDeclaration', 'lexeme': 'charPtr0', 'location': ' '} MultiDiGraph named 'G' with 552 nodes and 1624 edges\n",
      "No enclosing found for  {'label': 'ParamVariableDeclaration', 'lexeme': 'gerrorPtrPtr0', 'location': ' '} MultiDiGraph named 'G' with 552 nodes and 1624 edges\n",
      "No enclosing found for  {'label': 'ParamVariableDeclaration', 'lexeme': 'unknown1', 'location': ' '} MultiDiGraph named 'G' with 552 nodes and 1624 edges\n",
      "No enclosing found for  {'label': 'ParamVariableDeclaration', 'lexeme': 'unknown2', 'location': ' '} MultiDiGraph named 'G' with 552 nodes and 1624 edges\n",
      "No enclosing found for  {'label': 'ParamVariableDeclaration', 'lexeme': 'unknown3', 'location': ' '} MultiDiGraph named 'G' with 552 nodes and 1624 edges\n",
      "No enclosing found for  {'label': 'ParamVariableDeclaration', 'lexeme': 'charPtr0', 'location': ' '} MultiDiGraph named 'G' with 552 nodes and 1624 edges\n",
      "No enclosing found for  {'label': 'ParamVariableDeclaration', 'lexeme': 'cameldatawrapperPtr0', 'location': ' '} MultiDiGraph named 'G' with 552 nodes and 1624 edges\n",
      "No enclosing found for  {'label': 'ParamVariableDeclaration', 'lexeme': 'camelstreamPtr1', 'location': ' '} MultiDiGraph named 'G' with 552 nodes and 1624 edges\n",
      "No enclosing found for  {'label': 'ParamVariableDeclaration', 'lexeme': 'gcancellablePtr2', 'location': ' '} MultiDiGraph named 'G' with 552 nodes and 1624 edges\n",
      "No enclosing found for  {'label': 'ParamVariableDeclaration', 'lexeme': 'gerrorPtrPtr3', 'location': ' '} MultiDiGraph named 'G' with 552 nodes and 1624 edges\n",
      "No enclosing found for  {'label': 'ParamVariableDeclaration', 'lexeme': 'camelstreamPtr0', 'location': ' '} MultiDiGraph named 'G' with 552 nodes and 1624 edges\n",
      "No enclosing found for  {'label': 'ParamVariableDeclaration', 'lexeme': 'camelstreamPtr0', 'location': ' '} MultiDiGraph named 'G' with 552 nodes and 1624 edges\n",
      "No enclosing found for  {'label': 'ParamVariableDeclaration', 'lexeme': 'unknown0', 'location': ' '} MultiDiGraph named 'G' with 552 nodes and 1624 edges\n",
      "No enclosing found for  {'label': 'ParamVariableDeclaration', 'lexeme': 'int1', 'location': ' '} MultiDiGraph named 'G' with 552 nodes and 1624 edges\n",
      "No enclosing found for  {'label': 'ParamVariableDeclaration', 'lexeme': 'unknown2', 'location': ' '} MultiDiGraph named 'G' with 552 nodes and 1624 edges\n",
      "No enclosing found for  {'label': 'ParamVariableDeclaration', 'lexeme': 'unknown3', 'location': ' '} MultiDiGraph named 'G' with 552 nodes and 1624 edges\n",
      "No enclosing found for  {'label': 'ParamVariableDeclaration', 'lexeme': 'unknown4', 'location': ' '} MultiDiGraph named 'G' with 552 nodes and 1624 edges\n",
      "No enclosing found for  {'label': 'ParamVariableDeclaration', 'lexeme': 'camelstreamPtr0', 'location': ' '} MultiDiGraph named 'G' with 552 nodes and 1624 edges\n",
      "No enclosing found for  {'label': 'ParamVariableDeclaration', 'lexeme': 'unknown0', 'location': ' '} MultiDiGraph named 'G' with 552 nodes and 1624 edges\n",
      "No enclosing found for  {'label': 'ParamVariableDeclaration', 'lexeme': 'camelciphercontextPtr0', 'location': ' '} MultiDiGraph named 'G' with 552 nodes and 1624 edges\n",
      "No enclosing found for  {'label': 'ParamVariableDeclaration', 'lexeme': '_gpgctxPtr0', 'location': ' '} MultiDiGraph named 'G' with 552 nodes and 1624 edges\n",
      "No enclosing found for  {'label': 'ParamVariableDeclaration', 'lexeme': 'unknown1', 'location': ' '} MultiDiGraph named 'G' with 552 nodes and 1624 edges\n",
      "No enclosing found for  {'label': 'ParamVariableDeclaration', 'lexeme': '_gpgctxPtr0', 'location': ' '} MultiDiGraph named 'G' with 552 nodes and 1624 edges\n",
      "No enclosing found for  {'label': 'ParamVariableDeclaration', 'lexeme': 'camelstreamPtr1', 'location': ' '} MultiDiGraph named 'G' with 552 nodes and 1624 edges\n",
      "No enclosing found for  {'label': 'ParamVariableDeclaration', 'lexeme': '_gpgctxPtr0', 'location': ' '} MultiDiGraph named 'G' with 552 nodes and 1624 edges\n",
      "No enclosing found for  {'label': 'ParamVariableDeclaration', 'lexeme': 'camelstreamPtr1', 'location': ' '} MultiDiGraph named 'G' with 552 nodes and 1624 edges\n",
      "No enclosing found for  {'label': 'ParamVariableDeclaration', 'lexeme': '_gpgctxPtr0', 'location': ' '} MultiDiGraph named 'G' with 552 nodes and 1624 edges\n",
      "No enclosing found for  {'label': 'ParamVariableDeclaration', 'lexeme': 'gerrorPtrPtr1', 'location': ' '} MultiDiGraph named 'G' with 552 nodes and 1624 edges\n",
      "No enclosing found for  {'label': 'ParamVariableDeclaration', 'lexeme': '_gpgctxPtr0', 'location': ' '} MultiDiGraph named 'G' with 552 nodes and 1624 edges\n",
      "No enclosing found for  {'label': 'ParamVariableDeclaration', 'lexeme': '_gpgctxPtr0', 'location': ' '} MultiDiGraph named 'G' with 552 nodes and 1624 edges\n",
      "No enclosing found for  {'label': 'ParamVariableDeclaration', 'lexeme': 'gcancellablePtr1', 'location': ' '} MultiDiGraph named 'G' with 552 nodes and 1624 edges\n",
      "No enclosing found for  {'label': 'ParamVariableDeclaration', 'lexeme': 'gerrorPtrPtr2', 'location': ' '} MultiDiGraph named 'G' with 552 nodes and 1624 edges\n",
      "No enclosing found for  {'label': 'ParamVariableDeclaration', 'lexeme': '_gpgctxPtr0', 'location': ' '} MultiDiGraph named 'G' with 552 nodes and 1624 edges\n",
      "No enclosing found for  {'label': 'ParamVariableDeclaration', 'lexeme': '_gpgctxPtr0', 'location': ' '} MultiDiGraph named 'G' with 552 nodes and 1624 edges\n",
      "No enclosing found for  {'label': 'ParamVariableDeclaration', 'lexeme': '_gpgctxPtr0', 'location': ' '} MultiDiGraph named 'G' with 552 nodes and 1624 edges\n",
      "No enclosing found for  {'label': 'ParamVariableDeclaration', 'lexeme': 'charPtr0', 'location': ' '} MultiDiGraph named 'G' with 552 nodes and 1624 edges\n",
      "No enclosing found for  {'label': 'ParamVariableDeclaration', 'lexeme': 'gerrorPtrPtr0', 'location': ' '} MultiDiGraph named 'G' with 552 nodes and 1624 edges\n",
      "No enclosing found for  {'label': 'ParamVariableDeclaration', 'lexeme': 'unknown1', 'location': ' '} MultiDiGraph named 'G' with 552 nodes and 1624 edges\n",
      "No enclosing found for  {'label': 'ParamVariableDeclaration', 'lexeme': 'unknown2', 'location': ' '} MultiDiGraph named 'G' with 552 nodes and 1624 edges\n",
      "No enclosing found for  {'label': 'ParamVariableDeclaration', 'lexeme': 'charPtr3', 'location': ' '} MultiDiGraph named 'G' with 552 nodes and 1624 edges\n",
      "No enclosing found for  {'label': 'ParamVariableDeclaration', 'lexeme': 'gcharPtr4', 'location': ' '} MultiDiGraph named 'G' with 552 nodes and 1624 edges\n",
      "No enclosing found for  {'label': 'ParamVariableDeclaration', 'lexeme': 'charPtr0', 'location': ' '} MultiDiGraph named 'G' with 552 nodes and 1624 edges\n",
      "No enclosing found for  {'label': 'ParamVariableDeclaration', 'lexeme': 'camelstreamPtr0', 'location': ' '} MultiDiGraph named 'G' with 552 nodes and 1624 edges\n",
      "No enclosing found for  {'label': 'ParamVariableDeclaration', 'lexeme': 'unknown0', 'location': ' '} MultiDiGraph named 'G' with 552 nodes and 1624 edges\n",
      "No enclosing found for  {'label': 'ParamVariableDeclaration', 'lexeme': 'int1', 'location': ' '} MultiDiGraph named 'G' with 552 nodes and 1624 edges\n",
      "No enclosing found for  {'label': 'ParamVariableDeclaration', 'lexeme': 'unknown2', 'location': ' '} MultiDiGraph named 'G' with 552 nodes and 1624 edges\n",
      "No enclosing found for  {'label': 'ParamVariableDeclaration', 'lexeme': 'unknown3', 'location': ' '} MultiDiGraph named 'G' with 552 nodes and 1624 edges\n",
      "No enclosing found for  {'label': 'ParamVariableDeclaration', 'lexeme': 'unknown4', 'location': ' '} MultiDiGraph named 'G' with 552 nodes and 1624 edges\n",
      "No enclosing found for  {'label': 'ParamVariableDeclaration', 'lexeme': 'camelstreamPtr0', 'location': ' '} MultiDiGraph named 'G' with 552 nodes and 1624 edges\n",
      "No enclosing found for  {'label': 'ParamVariableDeclaration', 'lexeme': 'camelcontenttypePtr0', 'location': ' '} MultiDiGraph named 'G' with 552 nodes and 1624 edges\n",
      "No enclosing found for  {'label': 'ParamVariableDeclaration', 'lexeme': 'charPtr1', 'location': ' '} MultiDiGraph named 'G' with 552 nodes and 1624 edges\n",
      "No enclosing found for  {'label': 'ParamVariableDeclaration', 'lexeme': 'charPtr2', 'location': ' '} MultiDiGraph named 'G' with 552 nodes and 1624 edges\n",
      "No enclosing found for  {'label': 'ParamVariableDeclaration', 'lexeme': 'camelmimepartPtr0', 'location': ' '} MultiDiGraph named 'G' with 552 nodes and 1624 edges\n",
      "No enclosing found for  {'label': 'ParamVariableDeclaration', 'lexeme': 'unknown0', 'location': ' '} MultiDiGraph named 'G' with 552 nodes and 1624 edges\n",
      "No enclosing found for  {'label': 'ParamVariableDeclaration', 'lexeme': 'camelstreamPtr1', 'location': ' '} MultiDiGraph named 'G' with 552 nodes and 1624 edges\n",
      "No enclosing found for  {'label': 'ParamVariableDeclaration', 'lexeme': 'unknown2', 'location': ' '} MultiDiGraph named 'G' with 552 nodes and 1624 edges\n",
      "No enclosing found for  {'label': 'ParamVariableDeclaration', 'lexeme': 'gerrorPtrPtr3', 'location': ' '} MultiDiGraph named 'G' with 552 nodes and 1624 edges\n",
      "No enclosing found for  {'label': 'ParamVariableDeclaration', 'lexeme': 'camelmimepartPtr0', 'location': ' '} MultiDiGraph named 'G' with 552 nodes and 1624 edges\n",
      "No enclosing found for  {'label': 'ParamVariableDeclaration', 'lexeme': 'unknown0', 'location': ' '} MultiDiGraph named 'G' with 552 nodes and 1624 edges\n",
      "No enclosing found for  {'label': 'ParamVariableDeclaration', 'lexeme': 'cameldatawrapperPtr0', 'location': ' '} MultiDiGraph named 'G' with 552 nodes and 1624 edges\n",
      "No enclosing found for  {'label': 'ParamVariableDeclaration', 'lexeme': 'camelstreamPtr1', 'location': ' '} MultiDiGraph named 'G' with 552 nodes and 1624 edges\n",
      "No enclosing found for  {'label': 'ParamVariableDeclaration', 'lexeme': 'gcancellablePtr2', 'location': ' '} MultiDiGraph named 'G' with 552 nodes and 1624 edges\n",
      "No enclosing found for  {'label': 'ParamVariableDeclaration', 'lexeme': 'unknown3', 'location': ' '} MultiDiGraph named 'G' with 552 nodes and 1624 edges\n",
      "No enclosing found for  {'label': 'ParamVariableDeclaration', 'lexeme': 'cameldatawrapperPtr0', 'location': ' '} MultiDiGraph named 'G' with 552 nodes and 1624 edges\n",
      "No enclosing found for  {'label': 'ParamVariableDeclaration', 'lexeme': 'camelstreamPtr1', 'location': ' '} MultiDiGraph named 'G' with 552 nodes and 1624 edges\n",
      "No enclosing found for  {'label': 'ParamVariableDeclaration', 'lexeme': 'gcancellablePtr2', 'location': ' '} MultiDiGraph named 'G' with 552 nodes and 1624 edges\n",
      "No enclosing found for  {'label': 'ParamVariableDeclaration', 'lexeme': 'gerrorPtrPtr3', 'location': ' '} MultiDiGraph named 'G' with 552 nodes and 1624 edges\n",
      "No enclosing found for  {'label': 'ParamVariableDeclaration', 'lexeme': 'camelstreamPtr0', 'location': ' '} MultiDiGraph named 'G' with 552 nodes and 1624 edges\n",
      "No enclosing found for  {'label': 'ParamVariableDeclaration', 'lexeme': 'cameldatawrapperPtr0', 'location': ' '} MultiDiGraph named 'G' with 552 nodes and 1624 edges\n",
      "No enclosing found for  {'label': 'ParamVariableDeclaration', 'lexeme': 'camelstreamPtr1', 'location': ' '} MultiDiGraph named 'G' with 552 nodes and 1624 edges\n",
      "No enclosing found for  {'label': 'ParamVariableDeclaration', 'lexeme': 'unknown2', 'location': ' '} MultiDiGraph named 'G' with 552 nodes and 1624 edges\n",
      "No enclosing found for  {'label': 'ParamVariableDeclaration', 'lexeme': 'gerrorPtrPtr3', 'location': ' '} MultiDiGraph named 'G' with 552 nodes and 1624 edges\n",
      "No enclosing found for  {'label': 'ParamVariableDeclaration', 'lexeme': 'cameldatawrapperPtr0', 'location': ' '} MultiDiGraph named 'G' with 552 nodes and 1624 edges\n",
      "No enclosing found for  {'label': 'ParamVariableDeclaration', 'lexeme': 'charPtr1', 'location': ' '} MultiDiGraph named 'G' with 552 nodes and 1624 edges\n",
      "No enclosing found for  {'label': 'ParamVariableDeclaration', 'lexeme': 'unknown0', 'location': ' '} MultiDiGraph named 'G' with 552 nodes and 1624 edges\n",
      "No enclosing found for  {'label': 'ParamVariableDeclaration', 'lexeme': 'cameldatawrapperPtr1', 'location': ' '} MultiDiGraph named 'G' with 552 nodes and 1624 edges\n",
      "No enclosing found for  {'label': 'ParamVariableDeclaration', 'lexeme': 'cameldatawrapperPtr0', 'location': ' '} MultiDiGraph named 'G' with 552 nodes and 1624 edges\n",
      "No enclosing found for  {'label': 'ParamVariableDeclaration', 'lexeme': 'camelmimepartPtr0', 'location': ' '} MultiDiGraph named 'G' with 552 nodes and 1624 edges\n",
      "No enclosing found for  {'label': 'ParamVariableDeclaration', 'lexeme': 'charPtr1', 'location': ' '} MultiDiGraph named 'G' with 552 nodes and 1624 edges\n",
      "No enclosing found for  {'label': 'ParamVariableDeclaration', 'lexeme': 'charPtr0', 'location': ' '} MultiDiGraph named 'G' with 552 nodes and 1624 edges\n",
      "No enclosing found for  {'label': 'ParamVariableDeclaration', 'lexeme': 'unknown0', 'location': ' '} MultiDiGraph named 'G' with 552 nodes and 1624 edges\n",
      "No enclosing found for  {'label': 'ParamVariableDeclaration', 'lexeme': 'charPtr0', 'location': ' '} MultiDiGraph named 'G' with 552 nodes and 1624 edges\n",
      "No enclosing found for  {'label': 'ParamVariableDeclaration', 'lexeme': 'camelciphervalidityPtr0', 'location': ' '} MultiDiGraph named 'G' with 552 nodes and 1624 edges\n",
      "No enclosing found for  {'label': 'ParamVariableDeclaration', 'lexeme': 'unknown1', 'location': ' '} MultiDiGraph named 'G' with 552 nodes and 1624 edges\n",
      "No enclosing found for  {'label': 'ParamVariableDeclaration', 'lexeme': 'camelstreamPtr0', 'location': ' '} MultiDiGraph named 'G' with 552 nodes and 1624 edges\n",
      "No enclosing found for  {'label': 'ParamVariableDeclaration', 'lexeme': 'camelstreamPtr0', 'location': ' '} MultiDiGraph named 'G' with 552 nodes and 1624 edges\n",
      "No enclosing found for  {'label': 'ParamVariableDeclaration', 'lexeme': '_gpgctxPtr0', 'location': ' '} MultiDiGraph named 'G' with 552 nodes and 1624 edges\n",
      "nxagraph: {torch.Size([2, 1294])}\n",
      "nxpydot: {torch.Size([2, 1040])}\n",
      "No enclosing found for  {'label': 'ParamVariableDeclaration', 'lexeme': 'charPtr0', 'location': ' '} Graph named 'G' with 552 nodes and 1040 edges\n",
      "No enclosing found for  {'label': 'ParamVariableDeclaration', 'lexeme': 'gerrorPtrPtr0', 'location': ' '} Graph named 'G' with 552 nodes and 1040 edges\n",
      "No enclosing found for  {'label': 'ParamVariableDeclaration', 'lexeme': 'unknown1', 'location': ' '} Graph named 'G' with 552 nodes and 1040 edges\n",
      "No enclosing found for  {'label': 'ParamVariableDeclaration', 'lexeme': 'unknown2', 'location': ' '} Graph named 'G' with 552 nodes and 1040 edges\n",
      "No enclosing found for  {'label': 'ParamVariableDeclaration', 'lexeme': 'unknown3', 'location': ' '} Graph named 'G' with 552 nodes and 1040 edges\n",
      "No enclosing found for  {'label': 'ParamVariableDeclaration', 'lexeme': 'charPtr0', 'location': ' '} Graph named 'G' with 552 nodes and 1040 edges\n",
      "No enclosing found for  {'label': 'ParamVariableDeclaration', 'lexeme': 'unknown0', 'location': ' '} Graph named 'G' with 552 nodes and 1040 edges\n",
      "No enclosing found for  {'label': 'ParamVariableDeclaration', 'lexeme': 'charPtr0', 'location': ' '} Graph named 'G' with 552 nodes and 1040 edges\n",
      "No enclosing found for  {'label': 'ParamVariableDeclaration', 'lexeme': 'gerrorPtrPtr0', 'location': ' '} Graph named 'G' with 552 nodes and 1040 edges\n",
      "No enclosing found for  {'label': 'ParamVariableDeclaration', 'lexeme': 'unknown1', 'location': ' '} Graph named 'G' with 552 nodes and 1040 edges\n",
      "No enclosing found for  {'label': 'ParamVariableDeclaration', 'lexeme': 'unknown2', 'location': ' '} Graph named 'G' with 552 nodes and 1040 edges\n",
      "No enclosing found for  {'label': 'ParamVariableDeclaration', 'lexeme': 'unknown3', 'location': ' '} Graph named 'G' with 552 nodes and 1040 edges\n",
      "No enclosing found for  {'label': 'ParamVariableDeclaration', 'lexeme': 'charPtr0', 'location': ' '} Graph named 'G' with 552 nodes and 1040 edges\n",
      "No enclosing found for  {'label': 'ParamVariableDeclaration', 'lexeme': 'cameldatawrapperPtr0', 'location': ' '} Graph named 'G' with 552 nodes and 1040 edges\n",
      "No enclosing found for  {'label': 'ParamVariableDeclaration', 'lexeme': 'camelcontenttypePtr0', 'location': ' '} Graph named 'G' with 552 nodes and 1040 edges\n",
      "No enclosing found for  {'label': 'ParamVariableDeclaration', 'lexeme': 'charPtr1', 'location': ' '} Graph named 'G' with 552 nodes and 1040 edges\n",
      "No enclosing found for  {'label': 'ParamVariableDeclaration', 'lexeme': 'charPtr2', 'location': ' '} Graph named 'G' with 552 nodes and 1040 edges\n",
      "No enclosing found for  {'label': 'ParamVariableDeclaration', 'lexeme': 'unknown0', 'location': ' '} Graph named 'G' with 552 nodes and 1040 edges\n",
      "No enclosing found for  {'label': 'ParamVariableDeclaration', 'lexeme': 'camelmultipartPtr0', 'location': ' '} Graph named 'G' with 552 nodes and 1040 edges\n",
      "No enclosing found for  {'label': 'ParamVariableDeclaration', 'lexeme': 'unknown1', 'location': ' '} Graph named 'G' with 552 nodes and 1040 edges\n",
      "No enclosing found for  {'label': 'ParamVariableDeclaration', 'lexeme': 'charPtr0', 'location': ' '} Graph named 'G' with 552 nodes and 1040 edges\n",
      "No enclosing found for  {'label': 'ParamVariableDeclaration', 'lexeme': 'gerrorPtrPtr0', 'location': ' '} Graph named 'G' with 552 nodes and 1040 edges\n",
      "No enclosing found for  {'label': 'ParamVariableDeclaration', 'lexeme': 'unknown1', 'location': ' '} Graph named 'G' with 552 nodes and 1040 edges\n",
      "No enclosing found for  {'label': 'ParamVariableDeclaration', 'lexeme': 'unknown2', 'location': ' '} Graph named 'G' with 552 nodes and 1040 edges\n",
      "No enclosing found for  {'label': 'ParamVariableDeclaration', 'lexeme': 'unknown3', 'location': ' '} Graph named 'G' with 552 nodes and 1040 edges\n",
      "No enclosing found for  {'label': 'ParamVariableDeclaration', 'lexeme': 'charPtr0', 'location': ' '} Graph named 'G' with 552 nodes and 1040 edges\n",
      "No enclosing found for  {'label': 'ParamVariableDeclaration', 'lexeme': 'unknown0', 'location': ' '} Graph named 'G' with 552 nodes and 1040 edges\n",
      "No enclosing found for  {'label': 'ParamVariableDeclaration', 'lexeme': 'camelcontenttypePtr0', 'location': ' '} Graph named 'G' with 552 nodes and 1040 edges\n",
      "No enclosing found for  {'label': 'ParamVariableDeclaration', 'lexeme': 'charPtr1', 'location': ' '} Graph named 'G' with 552 nodes and 1040 edges\n",
      "No enclosing found for  {'label': 'ParamVariableDeclaration', 'lexeme': 'charPtr2', 'location': ' '} Graph named 'G' with 552 nodes and 1040 edges\n",
      "No enclosing found for  {'label': 'ParamVariableDeclaration', 'lexeme': 'unknown0', 'location': ' '} Graph named 'G' with 552 nodes and 1040 edges\n",
      "No enclosing found for  {'label': 'ParamVariableDeclaration', 'lexeme': 'charPtr0', 'location': ' '} Graph named 'G' with 552 nodes and 1040 edges\n",
      "No enclosing found for  {'label': 'ParamVariableDeclaration', 'lexeme': 'gerrorPtrPtr0', 'location': ' '} Graph named 'G' with 552 nodes and 1040 edges\n",
      "No enclosing found for  {'label': 'ParamVariableDeclaration', 'lexeme': 'unknown1', 'location': ' '} Graph named 'G' with 552 nodes and 1040 edges\n",
      "No enclosing found for  {'label': 'ParamVariableDeclaration', 'lexeme': 'unknown2', 'location': ' '} Graph named 'G' with 552 nodes and 1040 edges\n",
      "No enclosing found for  {'label': 'ParamVariableDeclaration', 'lexeme': 'unknown3', 'location': ' '} Graph named 'G' with 552 nodes and 1040 edges\n",
      "No enclosing found for  {'label': 'ParamVariableDeclaration', 'lexeme': 'charPtr0', 'location': ' '} Graph named 'G' with 552 nodes and 1040 edges\n",
      "No enclosing found for  {'label': 'ParamVariableDeclaration', 'lexeme': 'cameldatawrapperPtr0', 'location': ' '} Graph named 'G' with 552 nodes and 1040 edges\n",
      "No enclosing found for  {'label': 'ParamVariableDeclaration', 'lexeme': 'camelstreamPtr1', 'location': ' '} Graph named 'G' with 552 nodes and 1040 edges\n",
      "No enclosing found for  {'label': 'ParamVariableDeclaration', 'lexeme': 'gcancellablePtr2', 'location': ' '} Graph named 'G' with 552 nodes and 1040 edges\n",
      "No enclosing found for  {'label': 'ParamVariableDeclaration', 'lexeme': 'gerrorPtrPtr3', 'location': ' '} Graph named 'G' with 552 nodes and 1040 edges\n",
      "No enclosing found for  {'label': 'ParamVariableDeclaration', 'lexeme': 'camelstreamPtr0', 'location': ' '} Graph named 'G' with 552 nodes and 1040 edges\n",
      "No enclosing found for  {'label': 'ParamVariableDeclaration', 'lexeme': 'camelstreamPtr0', 'location': ' '} Graph named 'G' with 552 nodes and 1040 edges\n",
      "No enclosing found for  {'label': 'ParamVariableDeclaration', 'lexeme': 'unknown0', 'location': ' '} Graph named 'G' with 552 nodes and 1040 edges\n",
      "No enclosing found for  {'label': 'ParamVariableDeclaration', 'lexeme': 'int1', 'location': ' '} Graph named 'G' with 552 nodes and 1040 edges\n",
      "No enclosing found for  {'label': 'ParamVariableDeclaration', 'lexeme': 'unknown2', 'location': ' '} Graph named 'G' with 552 nodes and 1040 edges\n",
      "No enclosing found for  {'label': 'ParamVariableDeclaration', 'lexeme': 'unknown3', 'location': ' '} Graph named 'G' with 552 nodes and 1040 edges\n",
      "No enclosing found for  {'label': 'ParamVariableDeclaration', 'lexeme': 'unknown4', 'location': ' '} Graph named 'G' with 552 nodes and 1040 edges\n",
      "No enclosing found for  {'label': 'ParamVariableDeclaration', 'lexeme': 'camelstreamPtr0', 'location': ' '} Graph named 'G' with 552 nodes and 1040 edges\n",
      "No enclosing found for  {'label': 'ParamVariableDeclaration', 'lexeme': 'unknown0', 'location': ' '} Graph named 'G' with 552 nodes and 1040 edges\n",
      "No enclosing found for  {'label': 'ParamVariableDeclaration', 'lexeme': 'camelciphercontextPtr0', 'location': ' '} Graph named 'G' with 552 nodes and 1040 edges\n",
      "No enclosing found for  {'label': 'ParamVariableDeclaration', 'lexeme': '_gpgctxPtr0', 'location': ' '} Graph named 'G' with 552 nodes and 1040 edges\n",
      "No enclosing found for  {'label': 'ParamVariableDeclaration', 'lexeme': 'unknown1', 'location': ' '} Graph named 'G' with 552 nodes and 1040 edges\n",
      "No enclosing found for  {'label': 'ParamVariableDeclaration', 'lexeme': '_gpgctxPtr0', 'location': ' '} Graph named 'G' with 552 nodes and 1040 edges\n",
      "No enclosing found for  {'label': 'ParamVariableDeclaration', 'lexeme': 'camelstreamPtr1', 'location': ' '} Graph named 'G' with 552 nodes and 1040 edges\n",
      "No enclosing found for  {'label': 'ParamVariableDeclaration', 'lexeme': '_gpgctxPtr0', 'location': ' '} Graph named 'G' with 552 nodes and 1040 edges\n",
      "No enclosing found for  {'label': 'ParamVariableDeclaration', 'lexeme': 'camelstreamPtr1', 'location': ' '} Graph named 'G' with 552 nodes and 1040 edges\n",
      "No enclosing found for  {'label': 'ParamVariableDeclaration', 'lexeme': '_gpgctxPtr0', 'location': ' '} Graph named 'G' with 552 nodes and 1040 edges\n",
      "No enclosing found for  {'label': 'ParamVariableDeclaration', 'lexeme': 'gerrorPtrPtr1', 'location': ' '} Graph named 'G' with 552 nodes and 1040 edges\n",
      "No enclosing found for  {'label': 'ParamVariableDeclaration', 'lexeme': '_gpgctxPtr0', 'location': ' '} Graph named 'G' with 552 nodes and 1040 edges\n",
      "No enclosing found for  {'label': 'ParamVariableDeclaration', 'lexeme': '_gpgctxPtr0', 'location': ' '} Graph named 'G' with 552 nodes and 1040 edges\n",
      "No enclosing found for  {'label': 'ParamVariableDeclaration', 'lexeme': 'gcancellablePtr1', 'location': ' '} Graph named 'G' with 552 nodes and 1040 edges\n",
      "No enclosing found for  {'label': 'ParamVariableDeclaration', 'lexeme': 'gerrorPtrPtr2', 'location': ' '} Graph named 'G' with 552 nodes and 1040 edges\n",
      "No enclosing found for  {'label': 'ParamVariableDeclaration', 'lexeme': '_gpgctxPtr0', 'location': ' '} Graph named 'G' with 552 nodes and 1040 edges\n",
      "No enclosing found for  {'label': 'ParamVariableDeclaration', 'lexeme': '_gpgctxPtr0', 'location': ' '} Graph named 'G' with 552 nodes and 1040 edges\n",
      "No enclosing found for  {'label': 'ParamVariableDeclaration', 'lexeme': '_gpgctxPtr0', 'location': ' '} Graph named 'G' with 552 nodes and 1040 edges\n",
      "No enclosing found for  {'label': 'ParamVariableDeclaration', 'lexeme': 'charPtr0', 'location': ' '} Graph named 'G' with 552 nodes and 1040 edges\n",
      "No enclosing found for  {'label': 'ParamVariableDeclaration', 'lexeme': 'gerrorPtrPtr0', 'location': ' '} Graph named 'G' with 552 nodes and 1040 edges\n",
      "No enclosing found for  {'label': 'ParamVariableDeclaration', 'lexeme': 'unknown1', 'location': ' '} Graph named 'G' with 552 nodes and 1040 edges\n",
      "No enclosing found for  {'label': 'ParamVariableDeclaration', 'lexeme': 'unknown2', 'location': ' '} Graph named 'G' with 552 nodes and 1040 edges\n",
      "No enclosing found for  {'label': 'ParamVariableDeclaration', 'lexeme': 'charPtr3', 'location': ' '} Graph named 'G' with 552 nodes and 1040 edges\n",
      "No enclosing found for  {'label': 'ParamVariableDeclaration', 'lexeme': 'gcharPtr4', 'location': ' '} Graph named 'G' with 552 nodes and 1040 edges\n",
      "No enclosing found for  {'label': 'ParamVariableDeclaration', 'lexeme': 'charPtr0', 'location': ' '} Graph named 'G' with 552 nodes and 1040 edges\n",
      "No enclosing found for  {'label': 'ParamVariableDeclaration', 'lexeme': 'camelstreamPtr0', 'location': ' '} Graph named 'G' with 552 nodes and 1040 edges\n",
      "No enclosing found for  {'label': 'ParamVariableDeclaration', 'lexeme': 'unknown0', 'location': ' '} Graph named 'G' with 552 nodes and 1040 edges\n",
      "No enclosing found for  {'label': 'ParamVariableDeclaration', 'lexeme': 'int1', 'location': ' '} Graph named 'G' with 552 nodes and 1040 edges\n",
      "No enclosing found for  {'label': 'ParamVariableDeclaration', 'lexeme': 'unknown2', 'location': ' '} Graph named 'G' with 552 nodes and 1040 edges\n",
      "No enclosing found for  {'label': 'ParamVariableDeclaration', 'lexeme': 'unknown3', 'location': ' '} Graph named 'G' with 552 nodes and 1040 edges\n",
      "No enclosing found for  {'label': 'ParamVariableDeclaration', 'lexeme': 'unknown4', 'location': ' '} Graph named 'G' with 552 nodes and 1040 edges\n",
      "No enclosing found for  {'label': 'ParamVariableDeclaration', 'lexeme': 'camelstreamPtr0', 'location': ' '} Graph named 'G' with 552 nodes and 1040 edges\n",
      "No enclosing found for  {'label': 'ParamVariableDeclaration', 'lexeme': 'camelcontenttypePtr0', 'location': ' '} Graph named 'G' with 552 nodes and 1040 edges\n",
      "No enclosing found for  {'label': 'ParamVariableDeclaration', 'lexeme': 'charPtr1', 'location': ' '} Graph named 'G' with 552 nodes and 1040 edges\n",
      "No enclosing found for  {'label': 'ParamVariableDeclaration', 'lexeme': 'charPtr2', 'location': ' '} Graph named 'G' with 552 nodes and 1040 edges\n",
      "No enclosing found for  {'label': 'ParamVariableDeclaration', 'lexeme': 'camelmimepartPtr0', 'location': ' '} Graph named 'G' with 552 nodes and 1040 edges\n",
      "No enclosing found for  {'label': 'ParamVariableDeclaration', 'lexeme': 'unknown0', 'location': ' '} Graph named 'G' with 552 nodes and 1040 edges\n",
      "No enclosing found for  {'label': 'ParamVariableDeclaration', 'lexeme': 'camelstreamPtr1', 'location': ' '} Graph named 'G' with 552 nodes and 1040 edges\n",
      "No enclosing found for  {'label': 'ParamVariableDeclaration', 'lexeme': 'unknown2', 'location': ' '} Graph named 'G' with 552 nodes and 1040 edges\n",
      "No enclosing found for  {'label': 'ParamVariableDeclaration', 'lexeme': 'gerrorPtrPtr3', 'location': ' '} Graph named 'G' with 552 nodes and 1040 edges\n",
      "No enclosing found for  {'label': 'ParamVariableDeclaration', 'lexeme': 'camelmimepartPtr0', 'location': ' '} Graph named 'G' with 552 nodes and 1040 edges\n",
      "No enclosing found for  {'label': 'ParamVariableDeclaration', 'lexeme': 'unknown0', 'location': ' '} Graph named 'G' with 552 nodes and 1040 edges\n",
      "No enclosing found for  {'label': 'ParamVariableDeclaration', 'lexeme': 'cameldatawrapperPtr0', 'location': ' '} Graph named 'G' with 552 nodes and 1040 edges\n",
      "No enclosing found for  {'label': 'ParamVariableDeclaration', 'lexeme': 'camelstreamPtr1', 'location': ' '} Graph named 'G' with 552 nodes and 1040 edges\n",
      "No enclosing found for  {'label': 'ParamVariableDeclaration', 'lexeme': 'gcancellablePtr2', 'location': ' '} Graph named 'G' with 552 nodes and 1040 edges\n",
      "No enclosing found for  {'label': 'ParamVariableDeclaration', 'lexeme': 'unknown3', 'location': ' '} Graph named 'G' with 552 nodes and 1040 edges\n",
      "No enclosing found for  {'label': 'ParamVariableDeclaration', 'lexeme': 'cameldatawrapperPtr0', 'location': ' '} Graph named 'G' with 552 nodes and 1040 edges\n",
      "No enclosing found for  {'label': 'ParamVariableDeclaration', 'lexeme': 'camelstreamPtr1', 'location': ' '} Graph named 'G' with 552 nodes and 1040 edges\n",
      "No enclosing found for  {'label': 'ParamVariableDeclaration', 'lexeme': 'gcancellablePtr2', 'location': ' '} Graph named 'G' with 552 nodes and 1040 edges\n",
      "No enclosing found for  {'label': 'ParamVariableDeclaration', 'lexeme': 'gerrorPtrPtr3', 'location': ' '} Graph named 'G' with 552 nodes and 1040 edges\n",
      "No enclosing found for  {'label': 'ParamVariableDeclaration', 'lexeme': 'camelstreamPtr0', 'location': ' '} Graph named 'G' with 552 nodes and 1040 edges\n",
      "No enclosing found for  {'label': 'ParamVariableDeclaration', 'lexeme': 'cameldatawrapperPtr0', 'location': ' '} Graph named 'G' with 552 nodes and 1040 edges\n",
      "No enclosing found for  {'label': 'ParamVariableDeclaration', 'lexeme': 'camelstreamPtr1', 'location': ' '} Graph named 'G' with 552 nodes and 1040 edges\n",
      "No enclosing found for  {'label': 'ParamVariableDeclaration', 'lexeme': 'unknown2', 'location': ' '} Graph named 'G' with 552 nodes and 1040 edges\n",
      "No enclosing found for  {'label': 'ParamVariableDeclaration', 'lexeme': 'gerrorPtrPtr3', 'location': ' '} Graph named 'G' with 552 nodes and 1040 edges\n",
      "No enclosing found for  {'label': 'ParamVariableDeclaration', 'lexeme': 'cameldatawrapperPtr0', 'location': ' '} Graph named 'G' with 552 nodes and 1040 edges\n",
      "No enclosing found for  {'label': 'ParamVariableDeclaration', 'lexeme': 'charPtr1', 'location': ' '} Graph named 'G' with 552 nodes and 1040 edges\n",
      "No enclosing found for  {'label': 'ParamVariableDeclaration', 'lexeme': 'unknown0', 'location': ' '} Graph named 'G' with 552 nodes and 1040 edges\n",
      "No enclosing found for  {'label': 'ParamVariableDeclaration', 'lexeme': 'cameldatawrapperPtr1', 'location': ' '} Graph named 'G' with 552 nodes and 1040 edges\n",
      "No enclosing found for  {'label': 'ParamVariableDeclaration', 'lexeme': 'cameldatawrapperPtr0', 'location': ' '} Graph named 'G' with 552 nodes and 1040 edges\n",
      "No enclosing found for  {'label': 'ParamVariableDeclaration', 'lexeme': 'camelmimepartPtr0', 'location': ' '} Graph named 'G' with 552 nodes and 1040 edges\n",
      "No enclosing found for  {'label': 'ParamVariableDeclaration', 'lexeme': 'charPtr1', 'location': ' '} Graph named 'G' with 552 nodes and 1040 edges\n",
      "No enclosing found for  {'label': 'ParamVariableDeclaration', 'lexeme': 'charPtr0', 'location': ' '} Graph named 'G' with 552 nodes and 1040 edges\n",
      "No enclosing found for  {'label': 'ParamVariableDeclaration', 'lexeme': 'unknown0', 'location': ' '} Graph named 'G' with 552 nodes and 1040 edges\n",
      "No enclosing found for  {'label': 'ParamVariableDeclaration', 'lexeme': 'charPtr0', 'location': ' '} Graph named 'G' with 552 nodes and 1040 edges\n",
      "No enclosing found for  {'label': 'ParamVariableDeclaration', 'lexeme': 'camelciphervalidityPtr0', 'location': ' '} Graph named 'G' with 552 nodes and 1040 edges\n",
      "No enclosing found for  {'label': 'ParamVariableDeclaration', 'lexeme': 'unknown1', 'location': ' '} Graph named 'G' with 552 nodes and 1040 edges\n",
      "No enclosing found for  {'label': 'ParamVariableDeclaration', 'lexeme': 'camelstreamPtr0', 'location': ' '} Graph named 'G' with 552 nodes and 1040 edges\n",
      "No enclosing found for  {'label': 'ParamVariableDeclaration', 'lexeme': 'camelstreamPtr0', 'location': ' '} Graph named 'G' with 552 nodes and 1040 edges\n",
      "No enclosing found for  {'label': 'ParamVariableDeclaration', 'lexeme': '_gpgctxPtr0', 'location': ' '} Graph named 'G' with 552 nodes and 1040 edges\n",
      "pvgagraph {torch.Size([2, 1040])}\n",
      "47a767d5f37d1d3a1c004abbf8bb80d1b7eab328_192453162735889276329776594536220520409_0.cpg.pt :\n",
      "edgeindex sizes from files\n",
      "graphviz:\n",
      "torch.Size([2, 152])\n",
      "nxagraph:\n",
      "torch.Size([2, 233])\n",
      "load fresh\n",
      "No enclosing found for  {'label': 'ParamVariableDeclaration', 'lexeme': 'unknown0', 'location': ' '} MultiDiGraph named 'G' with 81 nodes and 235 edges\n",
      "No enclosing found for  {'label': 'ParamVariableDeclaration', 'lexeme': 'charPtr1', 'location': ' '} MultiDiGraph named 'G' with 81 nodes and 235 edges\n",
      "No enclosing found for  {'label': 'ParamVariableDeclaration', 'lexeme': 'charPtr0', 'location': ' '} MultiDiGraph named 'G' with 81 nodes and 235 edges\n",
      "No enclosing found for  {'label': 'ParamVariableDeclaration', 'lexeme': 'charPtr1', 'location': ' '} MultiDiGraph named 'G' with 81 nodes and 235 edges\n",
      "No enclosing found for  {'label': 'ParamVariableDeclaration', 'lexeme': 'charPtr0', 'location': ' '} MultiDiGraph named 'G' with 81 nodes and 235 edges\n",
      "No enclosing found for  {'label': 'ParamVariableDeclaration', 'lexeme': 'charPtr0', 'location': ' '} MultiDiGraph named 'G' with 81 nodes and 235 edges\n",
      "No enclosing found for  {'label': 'ParamVariableDeclaration', 'lexeme': 'charPtr0', 'location': ' '} MultiDiGraph named 'G' with 81 nodes and 235 edges\n",
      "No enclosing found for  {'label': 'ParamVariableDeclaration', 'lexeme': 'charPtr0', 'location': ' '} MultiDiGraph named 'G' with 81 nodes and 235 edges\n",
      "No enclosing found for  {'label': 'ParamVariableDeclaration', 'lexeme': 'int1', 'location': ' '} MultiDiGraph named 'G' with 81 nodes and 235 edges\n",
      "No enclosing found for  {'label': 'ParamVariableDeclaration', 'lexeme': 'unknown2', 'location': ' '} MultiDiGraph named 'G' with 81 nodes and 235 edges\n",
      "No enclosing found for  {'label': 'ParamVariableDeclaration', 'lexeme': 'charPtr0', 'location': ' '} MultiDiGraph named 'G' with 81 nodes and 235 edges\n",
      "nxagraph: {torch.Size([2, 193])}\n",
      "nxpydot: {torch.Size([2, 152])}\n",
      "No enclosing found for  {'label': 'ParamVariableDeclaration', 'lexeme': 'unknown0', 'location': ' '} Graph named 'G' with 81 nodes and 152 edges\n",
      "No enclosing found for  {'label': 'ParamVariableDeclaration', 'lexeme': 'charPtr1', 'location': ' '} Graph named 'G' with 81 nodes and 152 edges\n",
      "No enclosing found for  {'label': 'ParamVariableDeclaration', 'lexeme': 'charPtr0', 'location': ' '} Graph named 'G' with 81 nodes and 152 edges\n",
      "No enclosing found for  {'label': 'ParamVariableDeclaration', 'lexeme': 'charPtr1', 'location': ' '} Graph named 'G' with 81 nodes and 152 edges\n",
      "No enclosing found for  {'label': 'ParamVariableDeclaration', 'lexeme': 'charPtr0', 'location': ' '} Graph named 'G' with 81 nodes and 152 edges\n",
      "No enclosing found for  {'label': 'ParamVariableDeclaration', 'lexeme': 'charPtr0', 'location': ' '} Graph named 'G' with 81 nodes and 152 edges\n",
      "No enclosing found for  {'label': 'ParamVariableDeclaration', 'lexeme': 'charPtr0', 'location': ' '} Graph named 'G' with 81 nodes and 152 edges\n",
      "No enclosing found for  {'label': 'ParamVariableDeclaration', 'lexeme': 'charPtr0', 'location': ' '} Graph named 'G' with 81 nodes and 152 edges\n",
      "No enclosing found for  {'label': 'ParamVariableDeclaration', 'lexeme': 'int1', 'location': ' '} Graph named 'G' with 81 nodes and 152 edges\n",
      "No enclosing found for  {'label': 'ParamVariableDeclaration', 'lexeme': 'unknown2', 'location': ' '} Graph named 'G' with 81 nodes and 152 edges\n",
      "No enclosing found for  {'label': 'ParamVariableDeclaration', 'lexeme': 'charPtr0', 'location': ' '} Graph named 'G' with 81 nodes and 152 edges\n",
      "pvgagraph {torch.Size([2, 152])}\n",
      "b0a8b40294ea212c1938348ff112ef1b9bf16bb3_15218707387271583990109527090808583388_0.cpg.pt :\n",
      "edgeindex sizes from files\n",
      "graphviz:\n",
      "torch.Size([2, 101])\n",
      "nxagraph:\n",
      "torch.Size([2, 159])\n",
      "load fresh\n",
      "No enclosing found for  {'label': 'ParamVariableDeclaration', 'lexeme': 'unknown0', 'location': ' '} MultiDiGraph named 'G' with 58 nodes and 159 edges\n",
      "No enclosing found for  {'label': 'ParamVariableDeclaration', 'lexeme': 'intPtr1', 'location': ' '} MultiDiGraph named 'G' with 58 nodes and 159 edges\n",
      "No enclosing found for  {'label': 'ParamVariableDeclaration', 'lexeme': 'uint8_tPtr2', 'location': ' '} MultiDiGraph named 'G' with 58 nodes and 159 edges\n",
      "No enclosing found for  {'label': 'ParamVariableDeclaration', 'lexeme': 'int3', 'location': ' '} MultiDiGraph named 'G' with 58 nodes and 159 edges\n",
      "No enclosing found for  {'label': 'ParamVariableDeclaration', 'lexeme': 'int0', 'location': ' '} MultiDiGraph named 'G' with 58 nodes and 159 edges\n",
      "nxagraph: {torch.Size([2, 129])}\n",
      "nxpydot: {torch.Size([2, 101])}\n",
      "No enclosing found for  {'label': 'ParamVariableDeclaration', 'lexeme': 'unknown0', 'location': ' '} Graph named 'G' with 58 nodes and 101 edges\n",
      "No enclosing found for  {'label': 'ParamVariableDeclaration', 'lexeme': 'intPtr1', 'location': ' '} Graph named 'G' with 58 nodes and 101 edges\n",
      "No enclosing found for  {'label': 'ParamVariableDeclaration', 'lexeme': 'uint8_tPtr2', 'location': ' '} Graph named 'G' with 58 nodes and 101 edges\n",
      "No enclosing found for  {'label': 'ParamVariableDeclaration', 'lexeme': 'int3', 'location': ' '} Graph named 'G' with 58 nodes and 101 edges\n",
      "No enclosing found for  {'label': 'ParamVariableDeclaration', 'lexeme': 'int0', 'location': ' '} Graph named 'G' with 58 nodes and 101 edges\n",
      "pvgagraph {torch.Size([2, 101])}\n",
      "5146f95df782b0ac61abde36567e718692725c89_119764219775044973468597187859707329460_0.cpg.pt :\n",
      "edgeindex sizes from files\n",
      "graphviz:\n",
      "torch.Size([2, 107])\n",
      "nxagraph:\n",
      "torch.Size([2, 165])\n",
      "load fresh\n",
      "No enclosing found for  {'label': 'ParamVariableDeclaration', 'lexeme': 'int0', 'location': ' '} MultiDiGraph named 'G' with 58 nodes and 154 edges\n",
      "No enclosing found for  {'label': 'ParamVariableDeclaration', 'lexeme': 'charPtr1', 'location': ' '} MultiDiGraph named 'G' with 58 nodes and 154 edges\n",
      "No enclosing found for  {'label': 'ParamVariableDeclaration', 'lexeme': 'unknown2', 'location': ' '} MultiDiGraph named 'G' with 58 nodes and 154 edges\n",
      "No enclosing found for  {'label': 'ParamVariableDeclaration', 'lexeme': 'unknown3', 'location': ' '} MultiDiGraph named 'G' with 58 nodes and 154 edges\n",
      "No enclosing found for  {'label': 'ParamVariableDeclaration', 'lexeme': 'unknown0', 'location': ' '} MultiDiGraph named 'G' with 58 nodes and 154 edges\n",
      "No enclosing found for  {'label': 'ParamVariableDeclaration', 'lexeme': 'long1', 'location': ' '} MultiDiGraph named 'G' with 58 nodes and 154 edges\n",
      "No enclosing found for  {'label': 'ParamVariableDeclaration', 'lexeme': 'tty_structPtr0', 'location': ' '} MultiDiGraph named 'G' with 58 nodes and 154 edges\n",
      "No enclosing found for  {'label': 'ParamVariableDeclaration', 'lexeme': 'ktermiosPtr1', 'location': ' '} MultiDiGraph named 'G' with 58 nodes and 154 edges\n",
      "No enclosing found for  {'label': 'ParamVariableDeclaration', 'lexeme': 'unknown0', 'location': ' '} MultiDiGraph named 'G' with 58 nodes and 154 edges\n",
      "No enclosing found for  {'label': 'ParamVariableDeclaration', 'lexeme': 'long1', 'location': ' '} MultiDiGraph named 'G' with 58 nodes and 154 edges\n",
      "nxagraph: {torch.Size([2, 133])}\n",
      "nxpydot: {torch.Size([2, 107])}\n",
      "No enclosing found for  {'label': 'ParamVariableDeclaration', 'lexeme': 'int0', 'location': ' '} Graph named 'G' with 58 nodes and 107 edges\n",
      "No enclosing found for  {'label': 'ParamVariableDeclaration', 'lexeme': 'charPtr1', 'location': ' '} Graph named 'G' with 58 nodes and 107 edges\n",
      "No enclosing found for  {'label': 'ParamVariableDeclaration', 'lexeme': 'unknown2', 'location': ' '} Graph named 'G' with 58 nodes and 107 edges\n",
      "No enclosing found for  {'label': 'ParamVariableDeclaration', 'lexeme': 'unknown3', 'location': ' '} Graph named 'G' with 58 nodes and 107 edges\n",
      "No enclosing found for  {'label': 'ParamVariableDeclaration', 'lexeme': 'unknown0', 'location': ' '} Graph named 'G' with 58 nodes and 107 edges\n",
      "No enclosing found for  {'label': 'ParamVariableDeclaration', 'lexeme': 'long1', 'location': ' '} Graph named 'G' with 58 nodes and 107 edges\n",
      "No enclosing found for  {'label': 'ParamVariableDeclaration', 'lexeme': 'tty_structPtr0', 'location': ' '} Graph named 'G' with 58 nodes and 107 edges\n",
      "No enclosing found for  {'label': 'ParamVariableDeclaration', 'lexeme': 'ktermiosPtr1', 'location': ' '} Graph named 'G' with 58 nodes and 107 edges\n",
      "No enclosing found for  {'label': 'ParamVariableDeclaration', 'lexeme': 'unknown0', 'location': ' '} Graph named 'G' with 58 nodes and 107 edges\n",
      "No enclosing found for  {'label': 'ParamVariableDeclaration', 'lexeme': 'long1', 'location': ' '} Graph named 'G' with 58 nodes and 107 edges\n",
      "pvgagraph {torch.Size([2, 107])}\n",
      "05e5fc24b0f803098c1d05dae86f5eb05bd0c2a4_19767153163072447128026524080323872212_1.cpg.pt :\n",
      "edgeindex sizes from files\n",
      "graphviz:\n",
      "torch.Size([2, 103])\n",
      "nxagraph:\n",
      "torch.Size([2, 157])\n",
      "load fresh\n",
      "No enclosing found for  {'label': 'ParamVariableDeclaration', 'lexeme': 'gdmsessionPtr0', 'location': ' '} MultiDiGraph named 'G' with 54 nodes and 148 edges\n",
      "No enclosing found for  {'label': 'ParamVariableDeclaration', 'lexeme': 'unknown0', 'location': ' '} MultiDiGraph named 'G' with 54 nodes and 148 edges\n",
      "No enclosing found for  {'label': 'ParamVariableDeclaration', 'lexeme': 'gdmsessionPtr0', 'location': ' '} MultiDiGraph named 'G' with 54 nodes and 148 edges\n",
      "No enclosing found for  {'label': 'ParamVariableDeclaration', 'lexeme': 'gdmsessionPtr0', 'location': ' '} MultiDiGraph named 'G' with 54 nodes and 148 edges\n",
      "No enclosing found for  {'label': 'ParamVariableDeclaration', 'lexeme': 'charPtr1', 'location': ' '} MultiDiGraph named 'G' with 54 nodes and 148 edges\n",
      "No enclosing found for  {'label': 'ParamVariableDeclaration', 'lexeme': 'gdmsessionPtr0', 'location': ' '} MultiDiGraph named 'G' with 54 nodes and 148 edges\n",
      "No enclosing found for  {'label': 'ParamVariableDeclaration', 'lexeme': 'gdmsessionconversationPtr1', 'location': ' '} MultiDiGraph named 'G' with 54 nodes and 148 edges\n",
      "No enclosing found for  {'label': 'ParamVariableDeclaration', 'lexeme': 'gdmsessionPtr0', 'location': ' '} MultiDiGraph named 'G' with 54 nodes and 148 edges\n",
      "No enclosing found for  {'label': 'ParamVariableDeclaration', 'lexeme': 'gdmsessionconversationPtr1', 'location': ' '} MultiDiGraph named 'G' with 54 nodes and 148 edges\n",
      "No enclosing found for  {'label': 'ParamVariableDeclaration', 'lexeme': 'unknown0', 'location': ' '} MultiDiGraph named 'G' with 54 nodes and 148 edges\n",
      "No enclosing found for  {'label': 'ParamVariableDeclaration', 'lexeme': 'unknown1', 'location': ' '} MultiDiGraph named 'G' with 54 nodes and 148 edges\n",
      "No enclosing found for  {'label': 'ParamVariableDeclaration', 'lexeme': 'org.eclipse.cdt.internal.core.dom.parser.c.casttypedefnamespecifier@477d8b0c2', 'location': ' '} MultiDiGraph named 'G' with 54 nodes and 148 edges\n",
      "No enclosing found for  {'label': 'ParamVariableDeclaration', 'lexeme': 'gdmsessionconversationPtr3', 'location': ' '} MultiDiGraph named 'G' with 54 nodes and 148 edges\n",
      "nxagraph: {torch.Size([2, 123])}\n",
      "nxpydot: {torch.Size([2, 103])}\n",
      "No enclosing found for  {'label': 'ParamVariableDeclaration', 'lexeme': 'gdmsessionPtr0', 'location': ' '} Graph named 'G' with 54 nodes and 103 edges\n",
      "No enclosing found for  {'label': 'ParamVariableDeclaration', 'lexeme': 'unknown0', 'location': ' '} Graph named 'G' with 54 nodes and 103 edges\n",
      "No enclosing found for  {'label': 'ParamVariableDeclaration', 'lexeme': 'gdmsessionPtr0', 'location': ' '} Graph named 'G' with 54 nodes and 103 edges\n",
      "No enclosing found for  {'label': 'ParamVariableDeclaration', 'lexeme': 'gdmsessionPtr0', 'location': ' '} Graph named 'G' with 54 nodes and 103 edges\n",
      "No enclosing found for  {'label': 'ParamVariableDeclaration', 'lexeme': 'charPtr1', 'location': ' '} Graph named 'G' with 54 nodes and 103 edges\n",
      "No enclosing found for  {'label': 'ParamVariableDeclaration', 'lexeme': 'gdmsessionPtr0', 'location': ' '} Graph named 'G' with 54 nodes and 103 edges\n",
      "No enclosing found for  {'label': 'ParamVariableDeclaration', 'lexeme': 'gdmsessionconversationPtr1', 'location': ' '} Graph named 'G' with 54 nodes and 103 edges\n",
      "No enclosing found for  {'label': 'ParamVariableDeclaration', 'lexeme': 'gdmsessionPtr0', 'location': ' '} Graph named 'G' with 54 nodes and 103 edges\n",
      "No enclosing found for  {'label': 'ParamVariableDeclaration', 'lexeme': 'gdmsessionconversationPtr1', 'location': ' '} Graph named 'G' with 54 nodes and 103 edges\n",
      "No enclosing found for  {'label': 'ParamVariableDeclaration', 'lexeme': 'unknown0', 'location': ' '} Graph named 'G' with 54 nodes and 103 edges\n",
      "No enclosing found for  {'label': 'ParamVariableDeclaration', 'lexeme': 'unknown1', 'location': ' '} Graph named 'G' with 54 nodes and 103 edges\n",
      "No enclosing found for  {'label': 'ParamVariableDeclaration', 'lexeme': 'org.eclipse.cdt.internal.core.dom.parser.c.casttypedefnamespecifier@477d8b0c2', 'location': ' '} Graph named 'G' with 54 nodes and 103 edges\n",
      "No enclosing found for  {'label': 'ParamVariableDeclaration', 'lexeme': 'gdmsessionconversationPtr3', 'location': ' '} Graph named 'G' with 54 nodes and 103 edges\n",
      "pvgagraph {torch.Size([2, 103])}\n",
      "a392bf657015c9a79a5a13adfbfb15086c1943b9_314940442736023647748939727903341180713_0.cpg.pt :\n",
      "edgeindex sizes from files\n",
      "graphviz:\n",
      "torch.Size([2, 692])\n",
      "nxagraph:\n",
      "torch.Size([2, 1048])\n",
      "load fresh\n",
      "No enclosing found for  {'label': 'ParamVariableDeclaration', 'lexeme': 'getbytecontextPtr0', 'location': ' '} MultiDiGraph named 'G' with 356 nodes and 1048 edges\n",
      "No enclosing found for  {'label': 'ParamVariableDeclaration', 'lexeme': 'uint8_tPtr1', 'location': ' '} MultiDiGraph named 'G' with 356 nodes and 1048 edges\n",
      "No enclosing found for  {'label': 'ParamVariableDeclaration', 'lexeme': 'int2', 'location': ' '} MultiDiGraph named 'G' with 356 nodes and 1048 edges\n",
      "No enclosing found for  {'label': 'ParamVariableDeclaration', 'lexeme': 'getbytecontextPtr0', 'location': ' '} MultiDiGraph named 'G' with 356 nodes and 1048 edges\n",
      "No enclosing found for  {'label': 'ParamVariableDeclaration', 'lexeme': 'int0', 'location': ' '} MultiDiGraph named 'G' with 356 nodes and 1048 edges\n",
      "No enclosing found for  {'label': 'ParamVariableDeclaration', 'lexeme': 'int1', 'location': ' '} MultiDiGraph named 'G' with 356 nodes and 1048 edges\n",
      "No enclosing found for  {'label': 'ParamVariableDeclaration', 'lexeme': 'avcodeccontextPtr0', 'location': ' '} MultiDiGraph named 'G' with 356 nodes and 1048 edges\n",
      "No enclosing found for  {'label': 'ParamVariableDeclaration', 'lexeme': 'unknown1', 'location': ' '} MultiDiGraph named 'G' with 356 nodes and 1048 edges\n",
      "No enclosing found for  {'label': 'ParamVariableDeclaration', 'lexeme': 'charPtr2', 'location': ' '} MultiDiGraph named 'G' with 356 nodes and 1048 edges\n",
      "No enclosing found for  {'label': 'ParamVariableDeclaration', 'lexeme': 'avcodeccontextPtr0', 'location': ' '} MultiDiGraph named 'G' with 356 nodes and 1048 edges\n",
      "No enclosing found for  {'label': 'ParamVariableDeclaration', 'lexeme': 'charPtr1', 'location': ' '} MultiDiGraph named 'G' with 356 nodes and 1048 edges\n",
      "No enclosing found for  {'label': 'ParamVariableDeclaration', 'lexeme': 'int2', 'location': ' '} MultiDiGraph named 'G' with 356 nodes and 1048 edges\n",
      "No enclosing found for  {'label': 'ParamVariableDeclaration', 'lexeme': 'unknown3', 'location': ' '} MultiDiGraph named 'G' with 356 nodes and 1048 edges\n",
      "No enclosing found for  {'label': 'ParamVariableDeclaration', 'lexeme': 'unknown4', 'location': ' '} MultiDiGraph named 'G' with 356 nodes and 1048 edges\n",
      "No enclosing found for  {'label': 'ParamVariableDeclaration', 'lexeme': 'avcodeccontextPtr0', 'location': ' '} MultiDiGraph named 'G' with 356 nodes and 1048 edges\n",
      "No enclosing found for  {'label': 'ParamVariableDeclaration', 'lexeme': 'charPtr1', 'location': ' '} MultiDiGraph named 'G' with 356 nodes and 1048 edges\n",
      "No enclosing found for  {'label': 'ParamVariableDeclaration', 'lexeme': 'unknown2', 'location': ' '} MultiDiGraph named 'G' with 356 nodes and 1048 edges\n",
      "No enclosing found for  {'label': 'ParamVariableDeclaration', 'lexeme': 'unknown3', 'location': ' '} MultiDiGraph named 'G' with 356 nodes and 1048 edges\n",
      "No enclosing found for  {'label': 'ParamVariableDeclaration', 'lexeme': 'avcodeccontextPtr0', 'location': ' '} MultiDiGraph named 'G' with 356 nodes and 1048 edges\n",
      "No enclosing found for  {'label': 'ParamVariableDeclaration', 'lexeme': 'avframePtr1', 'location': ' '} MultiDiGraph named 'G' with 356 nodes and 1048 edges\n",
      "No enclosing found for  {'label': 'ParamVariableDeclaration', 'lexeme': 'int2', 'location': ' '} MultiDiGraph named 'G' with 356 nodes and 1048 edges\n",
      "No enclosing found for  {'label': 'ParamVariableDeclaration', 'lexeme': 'getbytecontextPtr0', 'location': ' '} MultiDiGraph named 'G' with 356 nodes and 1048 edges\n",
      "No enclosing found for  {'label': 'ParamVariableDeclaration', 'lexeme': 'avcodeccontextPtr0', 'location': ' '} MultiDiGraph named 'G' with 356 nodes and 1048 edges\n",
      "No enclosing found for  {'label': 'ParamVariableDeclaration', 'lexeme': 'unknown1', 'location': ' '} MultiDiGraph named 'G' with 356 nodes and 1048 edges\n",
      "No enclosing found for  {'label': 'ParamVariableDeclaration', 'lexeme': 'charPtr2', 'location': ' '} MultiDiGraph named 'G' with 356 nodes and 1048 edges\n",
      "No enclosing found for  {'label': 'ParamVariableDeclaration', 'lexeme': 'uint32_t3', 'location': ' '} MultiDiGraph named 'G' with 356 nodes and 1048 edges\n",
      "No enclosing found for  {'label': 'ParamVariableDeclaration', 'lexeme': 'int4', 'location': ' '} MultiDiGraph named 'G' with 356 nodes and 1048 edges\n",
      "No enclosing found for  {'label': 'ParamVariableDeclaration', 'lexeme': 'avcodeccontextPtr0', 'location': ' '} MultiDiGraph named 'G' with 356 nodes and 1048 edges\n",
      "No enclosing found for  {'label': 'ParamVariableDeclaration', 'lexeme': 'unknown1', 'location': ' '} MultiDiGraph named 'G' with 356 nodes and 1048 edges\n",
      "No enclosing found for  {'label': 'ParamVariableDeclaration', 'lexeme': 'charPtr2', 'location': ' '} MultiDiGraph named 'G' with 356 nodes and 1048 edges\n",
      "No enclosing found for  {'label': 'ParamVariableDeclaration', 'lexeme': 'uint32_t3', 'location': ' '} MultiDiGraph named 'G' with 356 nodes and 1048 edges\n",
      "No enclosing found for  {'label': 'ParamVariableDeclaration', 'lexeme': 'unknown0', 'location': ' '} MultiDiGraph named 'G' with 356 nodes and 1048 edges\n",
      "No enclosing found for  {'label': 'ParamVariableDeclaration', 'lexeme': 'unknown0', 'location': ' '} MultiDiGraph named 'G' with 356 nodes and 1048 edges\n",
      "No enclosing found for  {'label': 'ParamVariableDeclaration', 'lexeme': 'avcodeccontextPtr0', 'location': ' '} MultiDiGraph named 'G' with 356 nodes and 1048 edges\n",
      "No enclosing found for  {'label': 'ParamVariableDeclaration', 'lexeme': 'unknown1', 'location': ' '} MultiDiGraph named 'G' with 356 nodes and 1048 edges\n",
      "No enclosing found for  {'label': 'ParamVariableDeclaration', 'lexeme': 'charPtr2', 'location': ' '} MultiDiGraph named 'G' with 356 nodes and 1048 edges\n",
      "No enclosing found for  {'label': 'ParamVariableDeclaration', 'lexeme': 'unknown3', 'location': ' '} MultiDiGraph named 'G' with 356 nodes and 1048 edges\n",
      "No enclosing found for  {'label': 'ParamVariableDeclaration', 'lexeme': 'unknown4', 'location': ' '} MultiDiGraph named 'G' with 356 nodes and 1048 edges\n",
      "No enclosing found for  {'label': 'ParamVariableDeclaration', 'lexeme': 'unknown0', 'location': ' '} MultiDiGraph named 'G' with 356 nodes and 1048 edges\n",
      "No enclosing found for  {'label': 'ParamVariableDeclaration', 'lexeme': 'getbitcontextPtr0', 'location': ' '} MultiDiGraph named 'G' with 356 nodes and 1048 edges\n",
      "No enclosing found for  {'label': 'ParamVariableDeclaration', 'lexeme': 'unknown1', 'location': ' '} MultiDiGraph named 'G' with 356 nodes and 1048 edges\n",
      "No enclosing found for  {'label': 'ParamVariableDeclaration', 'lexeme': 'unknown2', 'location': ' '} MultiDiGraph named 'G' with 356 nodes and 1048 edges\n",
      "No enclosing found for  {'label': 'ParamVariableDeclaration', 'lexeme': 'getbitcontextPtr0', 'location': ' '} MultiDiGraph named 'G' with 356 nodes and 1048 edges\n",
      "No enclosing found for  {'label': 'ParamVariableDeclaration', 'lexeme': 'unknown1', 'location': ' '} MultiDiGraph named 'G' with 356 nodes and 1048 edges\n",
      "No enclosing found for  {'label': 'ParamVariableDeclaration', 'lexeme': 'int2', 'location': ' '} MultiDiGraph named 'G' with 356 nodes and 1048 edges\n",
      "No enclosing found for  {'label': 'ParamVariableDeclaration', 'lexeme': 'uint8_tPtr3', 'location': ' '} MultiDiGraph named 'G' with 356 nodes and 1048 edges\n",
      "No enclosing found for  {'label': 'ParamVariableDeclaration', 'lexeme': 'uint8_tPtr4', 'location': ' '} MultiDiGraph named 'G' with 356 nodes and 1048 edges\n",
      "No enclosing found for  {'label': 'ParamVariableDeclaration', 'lexeme': 'uint8_tPtr5', 'location': ' '} MultiDiGraph named 'G' with 356 nodes and 1048 edges\n",
      "No enclosing found for  {'label': 'ParamVariableDeclaration', 'lexeme': 'unknown6', 'location': ' '} MultiDiGraph named 'G' with 356 nodes and 1048 edges\n",
      "No enclosing found for  {'label': 'ParamVariableDeclaration', 'lexeme': 'unknown7', 'location': ' '} MultiDiGraph named 'G' with 356 nodes and 1048 edges\n",
      "No enclosing found for  {'label': 'ParamVariableDeclaration', 'lexeme': 'unknown8', 'location': ' '} MultiDiGraph named 'G' with 356 nodes and 1048 edges\n",
      "nxagraph: {torch.Size([2, 891])}\n",
      "nxpydot: {torch.Size([2, 692])}\n",
      "No enclosing found for  {'label': 'ParamVariableDeclaration', 'lexeme': 'getbytecontextPtr0', 'location': ' '} Graph named 'G' with 356 nodes and 692 edges\n",
      "No enclosing found for  {'label': 'ParamVariableDeclaration', 'lexeme': 'uint8_tPtr1', 'location': ' '} Graph named 'G' with 356 nodes and 692 edges\n",
      "No enclosing found for  {'label': 'ParamVariableDeclaration', 'lexeme': 'int2', 'location': ' '} Graph named 'G' with 356 nodes and 692 edges\n",
      "No enclosing found for  {'label': 'ParamVariableDeclaration', 'lexeme': 'getbytecontextPtr0', 'location': ' '} Graph named 'G' with 356 nodes and 692 edges\n",
      "No enclosing found for  {'label': 'ParamVariableDeclaration', 'lexeme': 'int0', 'location': ' '} Graph named 'G' with 356 nodes and 692 edges\n",
      "No enclosing found for  {'label': 'ParamVariableDeclaration', 'lexeme': 'int1', 'location': ' '} Graph named 'G' with 356 nodes and 692 edges\n",
      "No enclosing found for  {'label': 'ParamVariableDeclaration', 'lexeme': 'avcodeccontextPtr0', 'location': ' '} Graph named 'G' with 356 nodes and 692 edges\n",
      "No enclosing found for  {'label': 'ParamVariableDeclaration', 'lexeme': 'unknown1', 'location': ' '} Graph named 'G' with 356 nodes and 692 edges\n",
      "No enclosing found for  {'label': 'ParamVariableDeclaration', 'lexeme': 'charPtr2', 'location': ' '} Graph named 'G' with 356 nodes and 692 edges\n",
      "No enclosing found for  {'label': 'ParamVariableDeclaration', 'lexeme': 'avcodeccontextPtr0', 'location': ' '} Graph named 'G' with 356 nodes and 692 edges\n",
      "No enclosing found for  {'label': 'ParamVariableDeclaration', 'lexeme': 'charPtr1', 'location': ' '} Graph named 'G' with 356 nodes and 692 edges\n",
      "No enclosing found for  {'label': 'ParamVariableDeclaration', 'lexeme': 'int2', 'location': ' '} Graph named 'G' with 356 nodes and 692 edges\n",
      "No enclosing found for  {'label': 'ParamVariableDeclaration', 'lexeme': 'unknown3', 'location': ' '} Graph named 'G' with 356 nodes and 692 edges\n",
      "No enclosing found for  {'label': 'ParamVariableDeclaration', 'lexeme': 'unknown4', 'location': ' '} Graph named 'G' with 356 nodes and 692 edges\n",
      "No enclosing found for  {'label': 'ParamVariableDeclaration', 'lexeme': 'avcodeccontextPtr0', 'location': ' '} Graph named 'G' with 356 nodes and 692 edges\n",
      "No enclosing found for  {'label': 'ParamVariableDeclaration', 'lexeme': 'charPtr1', 'location': ' '} Graph named 'G' with 356 nodes and 692 edges\n",
      "No enclosing found for  {'label': 'ParamVariableDeclaration', 'lexeme': 'unknown2', 'location': ' '} Graph named 'G' with 356 nodes and 692 edges\n",
      "No enclosing found for  {'label': 'ParamVariableDeclaration', 'lexeme': 'unknown3', 'location': ' '} Graph named 'G' with 356 nodes and 692 edges\n",
      "No enclosing found for  {'label': 'ParamVariableDeclaration', 'lexeme': 'avcodeccontextPtr0', 'location': ' '} Graph named 'G' with 356 nodes and 692 edges\n",
      "No enclosing found for  {'label': 'ParamVariableDeclaration', 'lexeme': 'avframePtr1', 'location': ' '} Graph named 'G' with 356 nodes and 692 edges\n",
      "No enclosing found for  {'label': 'ParamVariableDeclaration', 'lexeme': 'int2', 'location': ' '} Graph named 'G' with 356 nodes and 692 edges\n",
      "No enclosing found for  {'label': 'ParamVariableDeclaration', 'lexeme': 'getbytecontextPtr0', 'location': ' '} Graph named 'G' with 356 nodes and 692 edges\n",
      "No enclosing found for  {'label': 'ParamVariableDeclaration', 'lexeme': 'avcodeccontextPtr0', 'location': ' '} Graph named 'G' with 356 nodes and 692 edges\n",
      "No enclosing found for  {'label': 'ParamVariableDeclaration', 'lexeme': 'unknown1', 'location': ' '} Graph named 'G' with 356 nodes and 692 edges\n",
      "No enclosing found for  {'label': 'ParamVariableDeclaration', 'lexeme': 'charPtr2', 'location': ' '} Graph named 'G' with 356 nodes and 692 edges\n",
      "No enclosing found for  {'label': 'ParamVariableDeclaration', 'lexeme': 'uint32_t3', 'location': ' '} Graph named 'G' with 356 nodes and 692 edges\n",
      "No enclosing found for  {'label': 'ParamVariableDeclaration', 'lexeme': 'int4', 'location': ' '} Graph named 'G' with 356 nodes and 692 edges\n",
      "No enclosing found for  {'label': 'ParamVariableDeclaration', 'lexeme': 'avcodeccontextPtr0', 'location': ' '} Graph named 'G' with 356 nodes and 692 edges\n",
      "No enclosing found for  {'label': 'ParamVariableDeclaration', 'lexeme': 'unknown1', 'location': ' '} Graph named 'G' with 356 nodes and 692 edges\n",
      "No enclosing found for  {'label': 'ParamVariableDeclaration', 'lexeme': 'charPtr2', 'location': ' '} Graph named 'G' with 356 nodes and 692 edges\n",
      "No enclosing found for  {'label': 'ParamVariableDeclaration', 'lexeme': 'uint32_t3', 'location': ' '} Graph named 'G' with 356 nodes and 692 edges\n",
      "No enclosing found for  {'label': 'ParamVariableDeclaration', 'lexeme': 'unknown0', 'location': ' '} Graph named 'G' with 356 nodes and 692 edges\n",
      "No enclosing found for  {'label': 'ParamVariableDeclaration', 'lexeme': 'unknown0', 'location': ' '} Graph named 'G' with 356 nodes and 692 edges\n",
      "No enclosing found for  {'label': 'ParamVariableDeclaration', 'lexeme': 'avcodeccontextPtr0', 'location': ' '} Graph named 'G' with 356 nodes and 692 edges\n",
      "No enclosing found for  {'label': 'ParamVariableDeclaration', 'lexeme': 'unknown1', 'location': ' '} Graph named 'G' with 356 nodes and 692 edges\n",
      "No enclosing found for  {'label': 'ParamVariableDeclaration', 'lexeme': 'charPtr2', 'location': ' '} Graph named 'G' with 356 nodes and 692 edges\n",
      "No enclosing found for  {'label': 'ParamVariableDeclaration', 'lexeme': 'unknown3', 'location': ' '} Graph named 'G' with 356 nodes and 692 edges\n",
      "No enclosing found for  {'label': 'ParamVariableDeclaration', 'lexeme': 'unknown4', 'location': ' '} Graph named 'G' with 356 nodes and 692 edges\n",
      "No enclosing found for  {'label': 'ParamVariableDeclaration', 'lexeme': 'unknown0', 'location': ' '} Graph named 'G' with 356 nodes and 692 edges\n",
      "No enclosing found for  {'label': 'ParamVariableDeclaration', 'lexeme': 'getbitcontextPtr0', 'location': ' '} Graph named 'G' with 356 nodes and 692 edges\n",
      "No enclosing found for  {'label': 'ParamVariableDeclaration', 'lexeme': 'unknown1', 'location': ' '} Graph named 'G' with 356 nodes and 692 edges\n",
      "No enclosing found for  {'label': 'ParamVariableDeclaration', 'lexeme': 'unknown2', 'location': ' '} Graph named 'G' with 356 nodes and 692 edges\n",
      "No enclosing found for  {'label': 'ParamVariableDeclaration', 'lexeme': 'getbitcontextPtr0', 'location': ' '} Graph named 'G' with 356 nodes and 692 edges\n",
      "No enclosing found for  {'label': 'ParamVariableDeclaration', 'lexeme': 'unknown1', 'location': ' '} Graph named 'G' with 356 nodes and 692 edges\n",
      "No enclosing found for  {'label': 'ParamVariableDeclaration', 'lexeme': 'int2', 'location': ' '} Graph named 'G' with 356 nodes and 692 edges\n",
      "No enclosing found for  {'label': 'ParamVariableDeclaration', 'lexeme': 'uint8_tPtr3', 'location': ' '} Graph named 'G' with 356 nodes and 692 edges\n",
      "No enclosing found for  {'label': 'ParamVariableDeclaration', 'lexeme': 'uint8_tPtr4', 'location': ' '} Graph named 'G' with 356 nodes and 692 edges\n",
      "No enclosing found for  {'label': 'ParamVariableDeclaration', 'lexeme': 'uint8_tPtr5', 'location': ' '} Graph named 'G' with 356 nodes and 692 edges\n",
      "No enclosing found for  {'label': 'ParamVariableDeclaration', 'lexeme': 'unknown6', 'location': ' '} Graph named 'G' with 356 nodes and 692 edges\n",
      "No enclosing found for  {'label': 'ParamVariableDeclaration', 'lexeme': 'unknown7', 'location': ' '} Graph named 'G' with 356 nodes and 692 edges\n",
      "No enclosing found for  {'label': 'ParamVariableDeclaration', 'lexeme': 'unknown8', 'location': ' '} Graph named 'G' with 356 nodes and 692 edges\n",
      "pvgagraph {torch.Size([2, 692])}\n",
      "a3bc7e9400b214a0f078fdb19596ba54214a1442_106974266927312938210682826232222540746_0.cpg.pt :\n",
      "edgeindex sizes from files\n",
      "graphviz:\n",
      "torch.Size([2, 60])\n",
      "nxagraph:\n",
      "torch.Size([2, 95])\n",
      "load fresh\n",
      "No enclosing found for  {'label': 'ParamVariableDeclaration', 'lexeme': 'unknown0', 'location': ' '} MultiDiGraph named 'G' with 35 nodes and 108 edges\n",
      "nxagraph: {torch.Size([2, 88])}\n",
      "nxpydot: {torch.Size([2, 60])}\n",
      "No enclosing found for  {'label': 'ParamVariableDeclaration', 'lexeme': 'unknown0', 'location': ' '} Graph named 'G' with 35 nodes and 60 edges\n",
      "pvgagraph {torch.Size([2, 60])}\n",
      "aadb53eb834b3def3ef68d78865ff87a68901804_288129679672657995513521916108323906547_0.cpg.pt :\n",
      "edgeindex sizes from files\n",
      "graphviz:\n",
      "torch.Size([2, 40])\n",
      "nxagraph:\n",
      "torch.Size([2, 63])\n",
      "load fresh\n",
      "No enclosing found for  {'label': 'ParamVariableDeclaration', 'lexeme': 'gx_devicePtr0', 'location': ' '} MultiDiGraph named 'G' with 23 nodes and 54 edges\n",
      "No enclosing found for  {'label': 'ParamVariableDeclaration', 'lexeme': 'intPtr1', 'location': ' '} MultiDiGraph named 'G' with 23 nodes and 54 edges\n",
      "No enclosing found for  {'label': 'ParamVariableDeclaration', 'lexeme': 'frac2', 'location': ' '} MultiDiGraph named 'G' with 23 nodes and 54 edges\n",
      "No enclosing found for  {'label': 'ParamVariableDeclaration', 'lexeme': 'fracPtr3', 'location': ' '} MultiDiGraph named 'G' with 23 nodes and 54 edges\n",
      "nxagraph: {torch.Size([2, 47])}\n",
      "nxpydot: {torch.Size([2, 40])}\n",
      "No enclosing found for  {'label': 'ParamVariableDeclaration', 'lexeme': 'gx_devicePtr0', 'location': ' '} Graph named 'G' with 23 nodes and 40 edges\n",
      "No enclosing found for  {'label': 'ParamVariableDeclaration', 'lexeme': 'intPtr1', 'location': ' '} Graph named 'G' with 23 nodes and 40 edges\n",
      "No enclosing found for  {'label': 'ParamVariableDeclaration', 'lexeme': 'frac2', 'location': ' '} Graph named 'G' with 23 nodes and 40 edges\n",
      "No enclosing found for  {'label': 'ParamVariableDeclaration', 'lexeme': 'fracPtr3', 'location': ' '} Graph named 'G' with 23 nodes and 40 edges\n",
      "pvgagraph {torch.Size([2, 40])}\n"
     ]
    }
   ],
   "source": [
    "# compare graphs \n",
    "newfiles = os.listdir(new)\n",
    "oldfiles = os.listdir(old)\n",
    "\n",
    "overlap = set(newfiles) & set(oldfiles) \n",
    "i = 0\n",
    "for file in overlap:\n",
    "    newone = torch.load(new/file)\n",
    "    oldone = torch.load(old/file)\n",
    "    \n",
    "    # newx = newone.x[:,:18]\n",
    "    # oldx = oldone.x[:,:18]\n",
    "    newedge = newone.edge_index\n",
    "    oldedge = oldone.edge_index\n",
    "    \n",
    "    print(file,':')\n",
    "    print('edgeindex sizes from files')\n",
    "    print('graphviz:')\n",
    "    print(newedge.shape)\n",
    "    print('nxagraph:')\n",
    "    print(oldedge.shape)\n",
    "    \n",
    "    rawfile = root/Path('raw')/file.replace('.pt','')\n",
    "    print('load fresh')\n",
    "    \n",
    "    print('nxagraph:',{get_graph_nxagraph(rawfile)[0].shape})\n",
    "    print('nxpydot:',{get_graph_nxpydot(rawfile)[0].shape})\n",
    "    print('pvgagraph', {get_graph_pgvagraph(rawfile)[0].shape})\n",
    "    \n",
    "    if i ==10:\n",
    "        break \n",
    "    i+=1"
   ]
  },
  {
   "cell_type": "code",
   "execution_count": 24,
   "metadata": {},
   "outputs": [
    {
     "data": {
      "text/plain": [
       "'edc032b5e3f3ebb1006a9c89e0ae00504f47966f_199207534258974476555222615779136970485_0.cpg.pt'"
      ]
     },
     "execution_count": 24,
     "metadata": {},
     "output_type": "execute_result"
    }
   ],
   "source": [
    "file"
   ]
  },
  {
   "cell_type": "code",
   "execution_count": null,
   "metadata": {},
   "outputs": [],
   "source": []
  }
 ],
 "metadata": {
  "kernelspec": {
   "display_name": "pyg",
   "language": "python",
   "name": "python3"
  },
  "language_info": {
   "codemirror_mode": {
    "name": "ipython",
    "version": 3
   },
   "file_extension": ".py",
   "mimetype": "text/x-python",
   "name": "python",
   "nbconvert_exporter": "python",
   "pygments_lexer": "ipython3",
   "version": "3.11.8"
  }
 },
 "nbformat": 4,
 "nbformat_minor": 2
}
