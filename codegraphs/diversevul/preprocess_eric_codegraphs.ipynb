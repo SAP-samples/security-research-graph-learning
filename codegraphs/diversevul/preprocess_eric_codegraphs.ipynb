{
 "cells": [
  {
   "cell_type": "code",
   "execution_count": 1,
   "metadata": {},
   "outputs": [
    {
     "name": "stdout",
     "output_type": "stream",
     "text": [
      "{'edge_index': tensor([[ 0,  0,  1,  1,  1,  1,  1,  2,  2,  2,  3,  3,  3,  3,  3,  4,  4,  4,\n",
      "          4,  5,  5,  5,  5,  6,  6,  6,  7,  7,  8,  8,  8,  8,  9,  9, 10, 10],\n",
      "        [ 1,  8,  0,  4,  2,  7,  6,  1,  3,  6,  2,  6,  4,  5,  8,  1,  3,  5,\n",
      "          9,  3,  4, 10,  7,  1,  2,  3,  1,  5,  0,  3,  9, 10,  4,  8,  5,  8]]), 'label': ['\"AST\"', '\"AST\"', '\"AST\"', '\"CFG\"', '\"AST\"', '\"AST\"', '\"DFG\"', '\"AST\"', '\"AST\"', '\"AST\"', '\"AST\"', '\"CFG\"', '\"AST\"', '\"AST\"', '\"CG\"', '\"CFG\"', '\"AST\"', '\"CFG\"', '\"DFG\"', '\"AST\"', '\"CFG\"', '\"DFG\"', '\"DFG\"', '\"DFG\"', '\"AST\"', '\"CFG\"', '\"AST\"', '\"DFG\"', '\"AST\"', '\"CG\"', '\"AST\"', '\"AST\"', '\"DFG\"', '\"AST\"', '\"DFG\"', '\"AST\"'], 'lexeme': ['\"/mnt/efs/Erik_Dominic/diversevul/c_files/826bfe4bbd7594188e3d74d2539d9707b1c6a14b_45290177164699323617404875727428861719_0.c\"', '\"redraw_curbuf_later\"', '\"\"', '\"redraw_buf_later\"', '\"curbuf\"', '\"type\"', '\"\"', '\"type\"', '\"redraw_buf_later\"', '\"unknown0\"', '\"int1\"'], 'enclosing': ['\"redraw_curbuf_later(int type)      redraw_buf_later(curbuf, type); \"', '\"redraw_curbuf_later(int type)\"', '\"     redraw_buf_later(curbuf, type); \"', '\"redraw_buf_later(curbuf, type);\"', '\"curbuf\"', '\"type\"', '\"return;\"', '\"int type\"', '\"redraw_buf_later(curbuf, type);\"', '\"\"', '\"\"'], 'location': ['\" \"', '\"1:4 1:2\"', '\"2:4 1:2\"', '\"3:3 5:36\"', '\"3:3 22:28\"', '\"3:3 30:34\"', '\" \"', '\"1:1 21:29\"', '\" \"', '\" \"', '\" \"'], 'ast': ['\"TranslationUnitDeclaration\"', '\"FunctionDeclaration\"', '\"CompoundStatement\"', '\"CallExpression\"', '\"DeclaredReferenceExpression\"', '\"DeclaredReferenceExpression\"', '\"ReturnStatement\"', '\"ParamVariableDeclaration\"', '\"FunctionDeclaration\"', '\"ParamVariableDeclaration\"', '\"ParamVariableDeclaration\"'], 'lines': ['\" \"', '\"1:4 1:2\"', '\"2:4 1:2\"', '\"3:3 5:36\"', '\"3:3 22:28\"', '\"3:3 30:34\"', '\" \"', '\"1:1 21:29\"', '\" \"', '\" \"', '\" \"'], 'code': ['\"redraw_curbuf_later(int type)      redraw_buf_later(curbuf, type); \"', '\"redraw_curbuf_later(int type)\"', '\"     redraw_buf_later(curbuf, type); \"', '\"redraw_buf_later(curbuf, type);\"', '\"curbuf\"', '\"type\"', '\"return;\"', '\"int type\"', '\"redraw_buf_later(curbuf, type);\"', '\"\"', '\"\"'], 'astenc': tensor([[0., 0., 0., 0., 0., 0., 0., 0., 0., 0., 0., 0., 0., 0., 0., 0., 0., 0.,\n",
      "         0., 0., 0., 0., 0., 0., 0., 0., 0., 0., 0., 0., 0., 0., 0., 0., 0., 0.,\n",
      "         0., 0., 0., 0., 0., 0., 0., 1., 0., 0., 0., 0., 0., 0.],\n",
      "        [0., 0., 0., 0., 0., 0., 0., 0., 0., 0., 0., 0., 0., 0., 0., 0., 0., 0.,\n",
      "         0., 0., 0., 0., 0., 0., 0., 0., 1., 0., 0., 0., 0., 0., 0., 0., 0., 0.,\n",
      "         0., 0., 0., 0., 0., 0., 0., 0., 0., 0., 0., 0., 0., 0.],\n",
      "        [0., 0., 0., 0., 0., 0., 0., 0., 1., 0., 0., 0., 0., 0., 0., 0., 0., 0.,\n",
      "         0., 0., 0., 0., 0., 0., 0., 0., 0., 0., 0., 0., 0., 0., 0., 0., 0., 0.,\n",
      "         0., 0., 0., 0., 0., 0., 0., 0., 0., 0., 0., 0., 0., 0.],\n",
      "        [0., 0., 0., 0., 0., 1., 0., 0., 0., 0., 0., 0., 0., 0., 0., 0., 0., 0.,\n",
      "         0., 0., 0., 0., 0., 0., 0., 0., 0., 0., 0., 0., 0., 0., 0., 0., 0., 0.,\n",
      "         0., 0., 0., 0., 0., 0., 0., 0., 0., 0., 0., 0., 0., 0.],\n",
      "        [0., 0., 0., 0., 0., 0., 0., 0., 0., 0., 0., 0., 0., 0., 1., 0., 0., 0.,\n",
      "         0., 0., 0., 0., 0., 0., 0., 0., 0., 0., 0., 0., 0., 0., 0., 0., 0., 0.,\n",
      "         0., 0., 0., 0., 0., 0., 0., 0., 0., 0., 0., 0., 0., 0.],\n",
      "        [0., 0., 0., 0., 0., 0., 0., 0., 0., 0., 0., 0., 0., 0., 1., 0., 0., 0.,\n",
      "         0., 0., 0., 0., 0., 0., 0., 0., 0., 0., 0., 0., 0., 0., 0., 0., 0., 0.,\n",
      "         0., 0., 0., 0., 0., 0., 0., 0., 0., 0., 0., 0., 0., 0.],\n",
      "        [0., 0., 0., 0., 0., 0., 0., 0., 0., 0., 0., 0., 0., 0., 0., 0., 0., 0.,\n",
      "         0., 0., 0., 0., 0., 0., 0., 0., 0., 0., 0., 0., 0., 0., 0., 0., 0., 0.,\n",
      "         0., 0., 0., 0., 1., 0., 0., 0., 0., 0., 0., 0., 0., 0.],\n",
      "        [0., 0., 0., 0., 0., 0., 0., 0., 0., 0., 0., 0., 0., 0., 0., 0., 0., 0.,\n",
      "         0., 0., 0., 0., 0., 0., 0., 0., 0., 0., 0., 0., 0., 0., 0., 0., 0., 0.,\n",
      "         1., 0., 0., 0., 0., 0., 0., 0., 0., 0., 0., 0., 0., 0.],\n",
      "        [0., 0., 0., 0., 0., 0., 0., 0., 0., 0., 0., 0., 0., 0., 0., 0., 0., 0.,\n",
      "         0., 0., 0., 0., 0., 0., 0., 0., 1., 0., 0., 0., 0., 0., 0., 0., 0., 0.,\n",
      "         0., 0., 0., 0., 0., 0., 0., 0., 0., 0., 0., 0., 0., 0.],\n",
      "        [0., 0., 0., 0., 0., 0., 0., 0., 0., 0., 0., 0., 0., 0., 0., 0., 0., 0.,\n",
      "         0., 0., 0., 0., 0., 0., 0., 0., 0., 0., 0., 0., 0., 0., 0., 0., 0., 0.,\n",
      "         1., 0., 0., 0., 0., 0., 0., 0., 0., 0., 0., 0., 0., 0.],\n",
      "        [0., 0., 0., 0., 0., 0., 0., 0., 0., 0., 0., 0., 0., 0., 0., 0., 0., 0.,\n",
      "         0., 0., 0., 0., 0., 0., 0., 0., 0., 0., 0., 0., 0., 0., 0., 0., 0., 0.,\n",
      "         1., 0., 0., 0., 0., 0., 0., 0., 0., 0., 0., 0., 0., 0.]],\n",
      "       dtype=torch.float64), 'codeenc': tensor([[ 0.0838,  0.1016, -0.0553,  ..., -0.1636,  0.1020,  0.0557],\n",
      "        [ 0.0890,  0.0924, -0.0559,  ..., -0.1587,  0.0997,  0.0559],\n",
      "        [ 0.0767,  0.1158, -0.0599,  ..., -0.1513,  0.1043,  0.0647],\n",
      "        ...,\n",
      "        [ 0.0767,  0.1158, -0.0599,  ..., -0.1513,  0.1043,  0.0647],\n",
      "        [ 0.0000,  0.0000,  0.0000,  ...,  0.0000,  0.0000,  0.0000],\n",
      "        [ 0.0000,  0.0000,  0.0000,  ...,  0.0000,  0.0000,  0.0000]],\n",
      "       dtype=torch.float64), 'properties': ['\"\"', '\"\"', '\"\"', '\"\"', '\"\"', '\"\"', '\"\"', '\"\"', '\"\"', '\"\"', '\"\"', '\"\"', '\"\"', '\"\"', '\"\"', '\"\"', '\"\"', '\"\"', '\"\"', '\"\"', '\"\"', '\"\"', '\"\"', '\"\"', '\"\"', '\"\"', '\"\"', '\"\"', '\"\"', '\"\"', '\"\"', '\"\"', '\"\"', '\"\"', '\"\"', '\"\"'], 'num_nodes': 11, 'y': 0}\n"
     ]
    }
   ],
   "source": [
    "import pickle\n",
    "file = 'erik_preprocessed/826bfe4bbd7594188e3d74d2539d9707b1c6a14b_45290177164699323617404875727428861719_0.cpg.pt'\n",
    "# gunzip file\n",
    "import gzip\n",
    "import shutil\n",
    "\n",
    "# tensor = torch.load(file)\n",
    "tensor = pickle.load(open(file, 'rb'))\n",
    "print(tensor)\n"
   ]
  },
  {
   "cell_type": "code",
   "execution_count": 3,
   "metadata": {},
   "outputs": [],
   "source": [
    "import torch\n",
    "labels = ['TranslationUnitDeclaration', 'ConstructExpression','FunctionDeclaration', 'CompoundStatement', 'CallExpression', 'DeclaredReferenceExpression', 'WhileStatement', 'BinaryOperator', 'Literal', 'ReturnStatement', 'ParamVariableDeclaration', 'VariableDeclaration', 'DeclarationStatement', 'UnaryOperator', 'MemberExpression', 'ConditionalExpression', 'IfStatement', 'ForStatement', 'BreakStatement', 'MemberCallExpression', 'ArraySubscriptionExpression', 'TypeIdExpression', 'InitializerListExpression', 'ProblemDeclaration', 'CastExpression', 'ContinueStatement', 'EmptyStatement', 'GotoStatement', 'LabelStatement', 'SwitchStatement', 'CaseStatement', 'ProblemExpression', 'ExpressionList', 'DoStatement', 'DefaultStatement', 'RecordDeclaration', 'FieldDeclaration', 'ConstructorDeclaration', 'DesignatedInitializerExpression', 'EnumDeclaration', 'EnumConstantDeclaration', 'MethodDeclaration', 'ASMDeclarationStatement', 'TypedefDeclaration']\n",
    "sorted_labels = sorted(labels)\n",
    "label_categories = {}\n",
    "# onehot encode labels\n",
    "for label in sorted_labels:\n",
    "    onehot = torch.zeros(len(labels))\n",
    "    onehot[sorted_labels.index(label)] = 1\n",
    "    label_categories[label] = onehot"
   ]
  },
  {
   "cell_type": "code",
   "execution_count": 4,
   "metadata": {},
   "outputs": [
    {
     "name": "stderr",
     "output_type": "stream",
     "text": [
      "  1%|          | 1468/245420 [00:03<09:40, 419.92it/s]\n"
     ]
    },
    {
     "ename": "KeyboardInterrupt",
     "evalue": "",
     "output_type": "error",
     "traceback": [
      "\u001b[0;31m---------------------------------------------------------------------------\u001b[0m",
      "\u001b[0;31mKeyboardInterrupt\u001b[0m                         Traceback (most recent call last)",
      "Cell \u001b[0;32mIn[4], line 11\u001b[0m\n\u001b[1;32m      9\u001b[0m \u001b[38;5;28;01mfor\u001b[39;00m file \u001b[38;5;129;01min\u001b[39;00m tqdm(os\u001b[38;5;241m.\u001b[39mlistdir(\u001b[38;5;124m'\u001b[39m\u001b[38;5;124merik_preprocessed\u001b[39m\u001b[38;5;124m'\u001b[39m)):\n\u001b[1;32m     10\u001b[0m     \u001b[38;5;28;01mif\u001b[39;00m file\u001b[38;5;241m.\u001b[39mendswith(\u001b[38;5;124m'\u001b[39m\u001b[38;5;124m.pt\u001b[39m\u001b[38;5;124m'\u001b[39m):\n\u001b[0;32m---> 11\u001b[0m         tensor \u001b[38;5;241m=\u001b[39m pickle\u001b[38;5;241m.\u001b[39mload(\u001b[38;5;28mopen\u001b[39m(\u001b[38;5;124m'\u001b[39m\u001b[38;5;124merik_preprocessed/\u001b[39m\u001b[38;5;124m'\u001b[39m \u001b[38;5;241m+\u001b[39m file, \u001b[38;5;124m'\u001b[39m\u001b[38;5;124mrb\u001b[39m\u001b[38;5;124m'\u001b[39m))\n\u001b[1;32m     12\u001b[0m         \u001b[38;5;66;03m# y = torch.tensor([tensor['y']], dtype=torch.float32) \u001b[39;00m\n\u001b[1;32m     13\u001b[0m         y \u001b[38;5;241m=\u001b[39m \u001b[38;5;28mint\u001b[39m(file\u001b[38;5;241m.\u001b[39msplit(\u001b[38;5;124m'\u001b[39m\u001b[38;5;124m_\u001b[39m\u001b[38;5;124m'\u001b[39m)[\u001b[38;5;241m-\u001b[39m\u001b[38;5;241m1\u001b[39m]\u001b[38;5;241m.\u001b[39msplit(\u001b[38;5;124m'\u001b[39m\u001b[38;5;124m.\u001b[39m\u001b[38;5;124m'\u001b[39m)[\u001b[38;5;241m0\u001b[39m])\n",
      "File \u001b[0;32m/opt/conda/envs/pyg/lib/python3.11/site-packages/torch/storage.py:370\u001b[0m, in \u001b[0;36m_load_from_bytes\u001b[0;34m(b)\u001b[0m\n\u001b[1;32m    366\u001b[0m     \u001b[38;5;129m@_share_memory_lock_protected\u001b[39m\n\u001b[1;32m    367\u001b[0m     \u001b[38;5;28;01mdef\u001b[39;00m \u001b[38;5;21m_share_filename_cpu_\u001b[39m(\u001b[38;5;28mself\u001b[39m, \u001b[38;5;241m*\u001b[39margs, \u001b[38;5;241m*\u001b[39m\u001b[38;5;241m*\u001b[39mkwargs):\n\u001b[1;32m    368\u001b[0m         \u001b[38;5;28;01mreturn\u001b[39;00m \u001b[38;5;28msuper\u001b[39m()\u001b[38;5;241m.\u001b[39m_share_filename_cpu_(\u001b[38;5;241m*\u001b[39margs, \u001b[38;5;241m*\u001b[39m\u001b[38;5;241m*\u001b[39mkwargs)\n\u001b[0;32m--> 370\u001b[0m \u001b[38;5;28;01mdef\u001b[39;00m \u001b[38;5;21m_load_from_bytes\u001b[39m(b):\n\u001b[1;32m    371\u001b[0m     \u001b[38;5;28;01mreturn\u001b[39;00m torch\u001b[38;5;241m.\u001b[39mload(io\u001b[38;5;241m.\u001b[39mBytesIO(b))\n\u001b[1;32m    374\u001b[0m _StorageBase\u001b[38;5;241m.\u001b[39mtype \u001b[38;5;241m=\u001b[39m _type  \u001b[38;5;66;03m# type: ignore[assignment]\u001b[39;00m\n",
      "\u001b[0;31mKeyboardInterrupt\u001b[0m: "
     ]
    }
   ],
   "source": [
    "from torch_geometric.data import InMemoryDataset, Data, HeteroData, Dataset \n",
    "from pathlib import Path \n",
    "from tqdm.auto import tqdm\n",
    "import pickle\n",
    "import torch\n",
    "import os \n",
    "\n",
    "ys = []\n",
    "for file in tqdm(os.listdir('erik_preprocessed')):\n",
    "    if file.endswith('.pt'):\n",
    "        tensor = pickle.load(open('erik_preprocessed/' + file, 'rb'))\n",
    "        # y = torch.tensor([tensor['y']], dtype=torch.float32) \n",
    "        y = int(file.split('_')[-1].split('.')[0])\n",
    "        ys.append(y)\n",
    "        y = torch.tensor([y], dtype=torch.float32)\n",
    "        \n",
    "       \n",
    "        edge_index = tensor['edge_index']  \n",
    "        # add self_loops \n",
    "        num_nodes = tensor['codeenc'].shape[0]\n",
    "        self_loops = torch.arange(num_nodes)\n",
    "        self_loop_edges = torch.stack([self_loops, self_loops])\n",
    "        edge_index = torch.cat([edge_index, self_loop_edges], dim=1)\n",
    "        \n",
    "        \n",
    "        node_labels = []\n",
    "        for ast in tensor['ast']:\n",
    "            label= label_categories[ast.replace('\"','')]\n",
    "            node_labels.append(label)\n",
    "        \n",
    "        all_labels = torch.stack(node_labels)\n",
    "        \n",
    "        if num_nodes>1000 or num_nodes<10:\n",
    "            continue\n",
    "        x = torch.cat([tensor['codeenc'], all_labels], dim=1) \n",
    "        \n",
    "        \n",
    "        data = Data(x=x.to(torch.float32), edge_index=edge_index.to(torch.int64), y=y.to(torch.float32)) \n",
    "        \n",
    "        # save to preprocessed\n",
    "        torch.save(data, 'preprocessed/' + file)"
   ]
  },
  {
   "cell_type": "code",
   "execution_count": 5,
   "metadata": {},
   "outputs": [
    {
     "data": {
      "text/plain": [
       "torch.Size([92, 144])"
      ]
     },
     "execution_count": 5,
     "metadata": {},
     "output_type": "execute_result"
    }
   ],
   "source": [
    "x.shape"
   ]
  },
  {
   "cell_type": "code",
   "execution_count": 6,
   "metadata": {},
   "outputs": [
    {
     "data": {
      "text/plain": [
       "13970"
      ]
     },
     "execution_count": 6,
     "metadata": {},
     "output_type": "execute_result"
    }
   ],
   "source": [
    "sum(ys)"
   ]
  },
  {
   "cell_type": "code",
   "execution_count": 7,
   "metadata": {},
   "outputs": [
    {
     "data": {
      "text/plain": [
       "245419"
      ]
     },
     "execution_count": 7,
     "metadata": {},
     "output_type": "execute_result"
    }
   ],
   "source": [
    "len(ys)"
   ]
  },
  {
   "cell_type": "code",
   "execution_count": 9,
   "metadata": {},
   "outputs": [
    {
     "data": {
      "text/plain": [
       "17.56757337151038"
      ]
     },
     "execution_count": 9,
     "metadata": {},
     "output_type": "execute_result"
    }
   ],
   "source": [
    "245419/13970"
   ]
  },
  {
   "cell_type": "code",
   "execution_count": 30,
   "metadata": {},
   "outputs": [
    {
     "data": {
      "text/plain": [
       "torch.int64"
      ]
     },
     "execution_count": 30,
     "metadata": {},
     "output_type": "execute_result"
    }
   ],
   "source": [
    "tensor['edge_index'].dtype"
   ]
  },
  {
   "cell_type": "code",
   "execution_count": 24,
   "metadata": {},
   "outputs": [
    {
     "data": {
      "text/plain": [
       "['\"TranslationUnitDeclaration\"',\n",
       " '\"FunctionDeclaration\"',\n",
       " '\"CompoundStatement\"',\n",
       " '\"CallExpression\"',\n",
       " '\"DeclaredReferenceExpression\"',\n",
       " '\"DeclaredReferenceExpression\"',\n",
       " '\"ReturnStatement\"',\n",
       " '\"ParamVariableDeclaration\"',\n",
       " '\"FunctionDeclaration\"',\n",
       " '\"ParamVariableDeclaration\"',\n",
       " '\"ParamVariableDeclaration\"']"
      ]
     },
     "execution_count": 24,
     "metadata": {},
     "output_type": "execute_result"
    }
   ],
   "source": [
    "tensor['ast']"
   ]
  },
  {
   "cell_type": "code",
   "execution_count": 15,
   "metadata": {},
   "outputs": [
    {
     "data": {
      "text/plain": [
       "'826bfe4bbd7594188e3d74d2539d9707b1c6a14b_45290177164699323617404875727428861719_0.cpg.pt'"
      ]
     },
     "execution_count": 15,
     "metadata": {},
     "output_type": "execute_result"
    }
   ],
   "source": [
    "from pathlib import Path\n",
    "Path(file).name"
   ]
  },
  {
   "cell_type": "code",
   "execution_count": 12,
   "metadata": {},
   "outputs": [
    {
     "data": {
      "text/plain": [
       "torch.Size([11, 100])"
      ]
     },
     "execution_count": 12,
     "metadata": {},
     "output_type": "execute_result"
    }
   ],
   "source": [
    "tensor['codeenc'].shape"
   ]
  },
  {
   "cell_type": "code",
   "execution_count": null,
   "metadata": {},
   "outputs": [],
   "source": [
    "\n",
    "from torch_geometric.data import InMemoryDataset, Data, HeteroData\n",
    "    \n",
    "data = Data(x=X.cpu(), \n",
    "            edge_index=E.cpu(),\n",
    "            edge_attr=None,\n",
    "            y=y)"
   ]
  }
 ],
 "metadata": {
  "kernelspec": {
   "display_name": "pyg",
   "language": "python",
   "name": "python3"
  },
  "language_info": {
   "codemirror_mode": {
    "name": "ipython",
    "version": 3
   },
   "file_extension": ".py",
   "mimetype": "text/x-python",
   "name": "python",
   "nbconvert_exporter": "python",
   "pygments_lexer": "ipython3",
   "version": "3.11.8"
  }
 },
 "nbformat": 4,
 "nbformat_minor": 2
}
