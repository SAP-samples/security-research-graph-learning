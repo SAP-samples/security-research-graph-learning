{
 "cells": [
  {
   "cell_type": "code",
   "execution_count": 2,
   "metadata": {},
   "outputs": [],
   "source": [
    "import torch \n",
    "# import dataset from torch geometric\n",
    "from torch_geometric.data import Data, DataLoader\n",
    "from tqdm.auto import tqdm \n",
    "import os \n",
    "from pathlib import Path"
   ]
  },
  {
   "cell_type": "code",
   "execution_count": 12,
   "metadata": {},
   "outputs": [
    {
     "name": "stderr",
     "output_type": "stream",
     "text": [
      "100%|██████████| 329783/329783 [00:02<00:00, 125723.05it/s]\n"
     ]
    }
   ],
   "source": [
    "for file in tqdm(os.listdir(\"v2_directed_withdegreecount_heterogeneous\")):\n",
    "    # skip if exiss already\n",
    "    if Path(\"v2_directed_withdegreecount/\" + file).is_file():\n",
    "        continue\n",
    "    \n",
    "    data = torch.load(\"v2_directed_withdegreecount_heterogeneous/\" + file)\n",
    "    if data is False:\n",
    "        continue\n",
    "    new_data = Data(\n",
    "        x = data['node'].x,\n",
    "        edge_index = data['node','TOTAL','node'].edge_index,\n",
    "        y = data['node'].y\n",
    "    )\n",
    "    # save to v2_directed_withdegreecount\n",
    "    torch.save(new_data, \"v2_directed_withdegreecount/\" + file)\n",
    "    "
   ]
  },
  {
   "cell_type": "code",
   "execution_count": 10,
   "metadata": {},
   "outputs": [
    {
     "data": {
      "text/plain": [
       "False"
      ]
     },
     "execution_count": 10,
     "metadata": {},
     "output_type": "execute_result"
    }
   ],
   "source": [
    "data"
   ]
  }
 ],
 "metadata": {
  "kernelspec": {
   "display_name": "pyg",
   "language": "python",
   "name": "python3"
  },
  "language_info": {
   "codemirror_mode": {
    "name": "ipython",
    "version": 3
   },
   "file_extension": ".py",
   "mimetype": "text/x-python",
   "name": "python",
   "nbconvert_exporter": "python",
   "pygments_lexer": "ipython3",
   "version": "3.11.8"
  }
 },
 "nbformat": 4,
 "nbformat_minor": 2
}
