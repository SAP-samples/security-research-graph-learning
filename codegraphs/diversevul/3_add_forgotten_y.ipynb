{
 "cells": [
  {
   "cell_type": "code",
   "execution_count": 1,
   "metadata": {},
   "outputs": [
    {
     "name": "stderr",
     "output_type": "stream",
     "text": [
      "/opt/conda/envs/pyg/lib/python3.11/site-packages/tqdm/auto.py:21: TqdmWarning: IProgress not found. Please update jupyter and ipywidgets. See https://ipywidgets.readthedocs.io/en/stable/user_install.html\n",
      "  from .autonotebook import tqdm as notebook_tqdm\n"
     ]
    }
   ],
   "source": [
    "import os \n",
    "import torch \n",
    "from pathlib import Path \n",
    "from tqdm.auto import tqdm"
   ]
  },
  {
   "cell_type": "code",
   "execution_count": 2,
   "metadata": {},
   "outputs": [
    {
     "name": "stderr",
     "output_type": "stream",
     "text": [
      "  2%|▏         | 6269/329785 [00:34<29:11, 184.70it/s]"
     ]
    },
    {
     "name": "stdout",
     "output_type": "stream",
     "text": [
      "'bool' object is not subscriptable\n",
      "f24e6cf6a39300ad0c3726a41a4aab51ad54c109_107135986271923240892576612198696058574_1.cpg.pt\n"
     ]
    },
    {
     "name": "stderr",
     "output_type": "stream",
     "text": [
      "  4%|▍         | 13940/329785 [01:11<21:03, 249.98it/s]"
     ]
    },
    {
     "name": "stdout",
     "output_type": "stream",
     "text": [
      "'bool' object is not subscriptable\n",
      "cc9e74dfeca5265ad725acc926ef0b8d2a18ee70_335524362768355510228352445143243871843_1.cpg.pt\n"
     ]
    },
    {
     "name": "stderr",
     "output_type": "stream",
     "text": [
      " 34%|███▎      | 111051/329785 [08:25<16:07, 226.03it/s] "
     ]
    },
    {
     "name": "stdout",
     "output_type": "stream",
     "text": [
      "'bool' object is not subscriptable\n",
      "de0cc20c29cb3f056062925395e0f68d2250a46f_62466565768252965364464714055006556827_0.cpg.pt\n"
     ]
    },
    {
     "name": "stderr",
     "output_type": "stream",
     "text": [
      " 37%|███▋      | 121020/329785 [09:09<15:24, 225.80it/s]"
     ]
    },
    {
     "name": "stdout",
     "output_type": "stream",
     "text": [
      "'bool' object is not subscriptable\n",
      "4befcfd015256c568121653038accbd84820198f_73476677230353357117293521506581551454_0.cpg.pt\n"
     ]
    },
    {
     "name": "stderr",
     "output_type": "stream",
     "text": [
      " 38%|███▊      | 124374/329785 [09:25<16:38, 205.77it/s]"
     ]
    },
    {
     "name": "stdout",
     "output_type": "stream",
     "text": [
      "'bool' object is not subscriptable\n",
      "be0f5335e3e73eb63253b050fdc23f252f5c8ae3_69159300577330150129659771877300407967_0.cpg.pt\n"
     ]
    },
    {
     "name": "stderr",
     "output_type": "stream",
     "text": [
      " 38%|███▊      | 126582/329785 [09:35<16:41, 202.81it/s]"
     ]
    },
    {
     "name": "stdout",
     "output_type": "stream",
     "text": [
      "'bool' object is not subscriptable\n",
      "27d461333459d282ffa4a2bdb6b215a59d493a8f_247663480201165713868127043454745826181_0.cpg.pt\n"
     ]
    },
    {
     "name": "stderr",
     "output_type": "stream",
     "text": [
      " 40%|████      | 133513/329785 [10:06<14:53, 219.57it/s]"
     ]
    },
    {
     "name": "stdout",
     "output_type": "stream",
     "text": [
      "'bool' object is not subscriptable\n",
      "e96f86b5311572be1360ee0bb05d4926f8df3189_243281271425980894816886039614838934957_0.cpg.pt\n"
     ]
    },
    {
     "name": "stderr",
     "output_type": "stream",
     "text": [
      " 43%|████▎     | 142787/329785 [10:47<13:56, 223.65it/s]"
     ]
    },
    {
     "name": "stdout",
     "output_type": "stream",
     "text": [
      "[Errno 21] Is a directory: 'old/processed'\n",
      "processed\n"
     ]
    },
    {
     "name": "stderr",
     "output_type": "stream",
     "text": [
      " 48%|████▊     | 156981/329785 [11:53<13:39, 210.94it/s]"
     ]
    },
    {
     "name": "stdout",
     "output_type": "stream",
     "text": [
      "'bool' object is not subscriptable\n",
      "cc9e74dfeca5265ad725acc926ef0b8d2a18ee70_242067393548915798660785250725097500213_0.cpg.pt\n"
     ]
    },
    {
     "name": "stderr",
     "output_type": "stream",
     "text": [
      " 49%|████▉     | 163176/329785 [12:21<13:45, 201.77it/s]"
     ]
    },
    {
     "name": "stdout",
     "output_type": "stream",
     "text": [
      "'bool' object is not subscriptable\n",
      "be0f5335e3e73eb63253b050fdc23f252f5c8ae3_155603167054335296088158679398169230817_0.cpg.pt\n"
     ]
    },
    {
     "name": "stderr",
     "output_type": "stream",
     "text": [
      " 52%|█████▏    | 169871/329785 [12:51<11:35, 230.08it/s]"
     ]
    },
    {
     "name": "stdout",
     "output_type": "stream",
     "text": [
      "'bool' object is not subscriptable\n",
      "f24e6cf6a39300ad0c3726a41a4aab51ad54c109_66163498103230104433800308027654783020_0.cpg.pt\n"
     ]
    },
    {
     "name": "stderr",
     "output_type": "stream",
     "text": [
      " 54%|█████▍    | 177839/329785 [13:26<11:06, 227.94it/s]"
     ]
    },
    {
     "name": "stdout",
     "output_type": "stream",
     "text": [
      "'bool' object is not subscriptable\n",
      "c97750d11bb8b6f3303e7131fe526a61ac65bcfd_68086529149001632222702459940164429499_0.cpg.pt\n"
     ]
    },
    {
     "name": "stderr",
     "output_type": "stream",
     "text": [
      " 54%|█████▍    | 178870/329785 [13:31<10:40, 235.46it/s]"
     ]
    },
    {
     "name": "stdout",
     "output_type": "stream",
     "text": [
      "'bool' object is not subscriptable\n",
      "6713ca45e7757297381f4b4cdb9cf5e624a9ad36_95862178981923095111405895619622341222_0.cpg.pt\n"
     ]
    },
    {
     "name": "stderr",
     "output_type": "stream",
     "text": [
      " 63%|██████▎   | 206965/329785 [15:34<07:58, 256.82it/s]"
     ]
    },
    {
     "name": "stdout",
     "output_type": "stream",
     "text": [
      "'bool' object is not subscriptable\n",
      "afa80cb2b457bf8d64f775bed307588610476c41_59936696563082006303952001512411291214_0.cpg.pt\n"
     ]
    },
    {
     "name": "stderr",
     "output_type": "stream",
     "text": [
      " 71%|███████   | 233643/329785 [17:31<06:58, 229.73it/s]"
     ]
    },
    {
     "name": "stdout",
     "output_type": "stream",
     "text": [
      "'bool' object is not subscriptable\n",
      "89f864c547014646e71862df3664e3ff33d7143d_283033100417003042897587775943979167764_0.cpg.pt\n"
     ]
    },
    {
     "name": "stderr",
     "output_type": "stream",
     "text": [
      " 71%|███████   | 234822/329785 [17:37<07:17, 216.84it/s]"
     ]
    },
    {
     "name": "stdout",
     "output_type": "stream",
     "text": [
      "'bool' object is not subscriptable\n",
      "692d5c5215de0db482c252492a92fc424cc6a97c_170139614179845521784400152558703215251_0.cpg.pt\n"
     ]
    },
    {
     "name": "stderr",
     "output_type": "stream",
     "text": [
      " 76%|███████▌  | 251032/329785 [18:52<05:25, 241.65it/s]"
     ]
    },
    {
     "name": "stdout",
     "output_type": "stream",
     "text": [
      "'bool' object is not subscriptable\n",
      "d65781527c8134a1202b2649695d48d5701ac60b_114786994107096226117069824691631975797_0.cpg.pt\n"
     ]
    },
    {
     "name": "stderr",
     "output_type": "stream",
     "text": [
      " 77%|███████▋  | 255104/329785 [19:13<05:57, 208.91it/s]"
     ]
    },
    {
     "name": "stdout",
     "output_type": "stream",
     "text": [
      "'bool' object is not subscriptable\n",
      "89f864c547014646e71862df3664e3ff33d7143d_307667374984216346437712449080215272755_1.cpg.pt\n"
     ]
    },
    {
     "name": "stderr",
     "output_type": "stream",
     "text": [
      " 77%|███████▋  | 255168/329785 [19:13<06:20, 195.93it/s]"
     ]
    },
    {
     "name": "stdout",
     "output_type": "stream",
     "text": [
      "'bool' object is not subscriptable\n",
      "6f737ddfadb596d7d4a993f7ed2141ffd664a81c_142169202125281546985856270954670560741_0.cpg.pt\n"
     ]
    },
    {
     "name": "stderr",
     "output_type": "stream",
     "text": [
      " 82%|████████▏ | 269776/329785 [20:19<04:08, 241.19it/s]"
     ]
    },
    {
     "name": "stdout",
     "output_type": "stream",
     "text": [
      "[Errno 21] Is a directory: 'old/diversevul'\n",
      "diversevul\n"
     ]
    },
    {
     "name": "stderr",
     "output_type": "stream",
     "text": [
      " 88%|████████▊ | 290186/329785 [22:01<03:52, 170.07it/s]"
     ]
    },
    {
     "name": "stdout",
     "output_type": "stream",
     "text": [
      "'bool' object is not subscriptable\n",
      "d47f6aec436e0e9df6554436e391471097686ecc_330705093754087558497433369630288024264_0.cpg.pt\n"
     ]
    },
    {
     "name": "stderr",
     "output_type": "stream",
     "text": [
      " 94%|█████████▍| 309485/329785 [23:57<02:06, 160.42it/s]"
     ]
    },
    {
     "name": "stdout",
     "output_type": "stream",
     "text": [
      "'bool' object is not subscriptable\n",
      "e724879d964d774df9b7969fc846605aa1bac54c_77443886043097185491907622980356856847_0.cpg.pt\n"
     ]
    },
    {
     "name": "stderr",
     "output_type": "stream",
     "text": [
      "100%|██████████| 329785/329785 [25:47<00:00, 213.10it/s]\n"
     ]
    }
   ],
   "source": [
    "for file in tqdm(os.listdir('old')):\n",
    "    try: \n",
    "        data = torch.load('old/'+file)\n",
    "        y = int(file.split('_')[-1].split('.')[0])\n",
    "        data['node'].y = torch.tensor([y], dtype=torch.float32)\n",
    "        torch.save(data, 'preprocessed_v1_withdegreecount_allgraphs_heterogeneous/'+file)\n",
    "    except Exception as e:\n",
    "        print(e)\n",
    "        print(file)\n",
    "        continue"
   ]
  }
 ],
 "metadata": {
  "kernelspec": {
   "display_name": "pyg",
   "language": "python",
   "name": "python3"
  },
  "language_info": {
   "codemirror_mode": {
    "name": "ipython",
    "version": 3
   },
   "file_extension": ".py",
   "mimetype": "text/x-python",
   "name": "python",
   "nbconvert_exporter": "python",
   "pygments_lexer": "ipython3",
   "version": "3.11.8"
  }
 },
 "nbformat": 4,
 "nbformat_minor": 2
}
