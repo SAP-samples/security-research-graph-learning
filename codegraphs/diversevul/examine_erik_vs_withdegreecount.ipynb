{
 "cells": [
  {
   "cell_type": "code",
   "execution_count": 4,
   "metadata": {},
   "outputs": [
    {
     "data": {
      "text/plain": [
       "(53919, 56632)"
      ]
     },
     "execution_count": 4,
     "metadata": {},
     "output_type": "execute_result"
    }
   ],
   "source": [
    "import pickle \n",
    "import torch \n",
    "\n",
    "\n",
    "import os \n",
    "\n",
    "\n",
    "erik_files = os.listdir('erik_preprocessed')\n",
    "degreecount_files = os.listdir('preprocessed_with_degreecount')\n",
    "\n",
    "\n",
    "len(set(erik_files) - set(degreecount_files)), len(set(degreecount_files) - set(erik_files))"
   ]
  },
  {
   "cell_type": "code",
   "execution_count": 5,
   "metadata": {},
   "outputs": [
    {
     "data": {
      "text/plain": [
       "(['d71f05ca07eb5c7cfa4d6d23e5c1f2a800f52e8e_54891255780418072883075435255831635574_0.cpg.pt',\n",
       "  'eee5cc2702929fd41cce28058dc6d6717f723f87_89924487831921598551265626926658155774_0.cpg.pt',\n",
       "  'ab29bed2fc9f961fe895de1086a8208e21ddaddc_19558019500691468670396689194163487431_0.cpg.pt',\n",
       "  '3c9d0414ed2db0167e6c828b547be8fc9f88fccc_246155248802179735174785808268283353549_0.cpg.pt',\n",
       "  '107f2c5d201a4dfea1b7f15c5957ff2ac9e5f260_245296041087279807783686051005120311332_0.cpg.pt'],\n",
       " ['0217ed2848e8538bcf9172d97ed2eeb4a26041bb_143730287252713172699518628404549810108_0.cpg.pt',\n",
       "  '10517e3ff0e609697eb8cde60ec8dc999ee5ea24_183432768512289212065092171824821453890_0.cpg.pt',\n",
       "  '939b4960276b040fc0ed52232238fcc9e2e9ec21_313370228497239481664150350175329825854_0.cpg.pt',\n",
       "  '550fd08c2cebad61c548def135f67aba284c6162_204458599745791601005616130307525200550_0.cpg.pt',\n",
       "  '1fc29bacedeabb278080e31bb9c1ecb49f143c3b_277743630491776278504955447441613649518_0.cpg.pt'])"
      ]
     },
     "execution_count": 5,
     "metadata": {},
     "output_type": "execute_result"
    }
   ],
   "source": [
    "list(set(erik_files) - set(degreecount_files))[:5], list(set(degreecount_files) - set(erik_files))[:5]"
   ]
  }
 ],
 "metadata": {
  "kernelspec": {
   "display_name": "pyg",
   "language": "python",
   "name": "python3"
  },
  "language_info": {
   "codemirror_mode": {
    "name": "ipython",
    "version": 3
   },
   "file_extension": ".py",
   "mimetype": "text/x-python",
   "name": "python",
   "nbconvert_exporter": "python",
   "pygments_lexer": "ipython3",
   "version": "3.11.8"
  }
 },
 "nbformat": 4,
 "nbformat_minor": 2
}
