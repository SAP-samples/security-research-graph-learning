{
 "cells": [
  {
   "cell_type": "code",
   "execution_count": 1,
   "metadata": {},
   "outputs": [
    {
     "name": "stderr",
     "output_type": "stream",
     "text": [
      "/opt/conda/envs/pyg/lib/python3.11/site-packages/tqdm/auto.py:21: TqdmWarning: IProgress not found. Please update jupyter and ipywidgets. See https://ipywidgets.readthedocs.io/en/stable/user_install.html\n",
      "  from .autonotebook import tqdm as notebook_tqdm\n"
     ]
    }
   ],
   "source": [
    "import os \n",
    "import torch \n",
    "from pathlib import Path \n",
    "from tqdm.auto import tqdm"
   ]
  },
  {
   "cell_type": "code",
   "execution_count": 2,
   "metadata": {},
   "outputs": [],
   "source": [
    "root = Path('preprocessed_v1_withdegreecount_allgraphs')\n",
    "f = os.listdir(root)[3] \n",
    "data = torch.load(root/f)"
   ]
  },
  {
   "cell_type": "code",
   "execution_count": 3,
   "metadata": {},
   "outputs": [
    {
     "data": {
      "text/plain": [
       "44"
      ]
     },
     "execution_count": 3,
     "metadata": {},
     "output_type": "execute_result"
    }
   ],
   "source": [
    "# in, out, total * 4 (4 edge types) + total degree of all\n",
    "# degrees: 13, triangle_counts: 5 -> 18\n",
    "\n",
    "#  \n",
    "\n",
    "len(['TranslationUnitDeclaration', 'ConstructExpression','FunctionDeclaration', 'CompoundStatement', 'CallExpression', 'DeclaredReferenceExpression', 'WhileStatement', 'BinaryOperator', 'Literal', 'ReturnStatement', 'ParamVariableDeclaration', 'VariableDeclaration', 'DeclarationStatement', 'UnaryOperator', 'MemberExpression', 'ConditionalExpression', 'IfStatement', 'ForStatement', 'BreakStatement', 'MemberCallExpression', 'ArraySubscriptionExpression', 'TypeIdExpression', 'InitializerListExpression', 'ProblemDeclaration', 'CastExpression', 'ContinueStatement', 'EmptyStatement', 'GotoStatement', 'LabelStatement', 'SwitchStatement', 'CaseStatement', 'ProblemExpression', 'ExpressionList', 'DoStatement', 'DefaultStatement', 'RecordDeclaration', 'FieldDeclaration', 'ConstructorDeclaration', 'DesignatedInitializerExpression', 'EnumDeclaration', 'EnumConstantDeclaration', 'MethodDeclaration', 'ASMDeclarationStatement', 'TypedefDeclaration'])"
   ]
  },
  {
   "cell_type": "code",
   "execution_count": 4,
   "metadata": {},
   "outputs": [
    {
     "data": {
      "text/plain": [
       "torch.Size([37, 162])"
      ]
     },
     "execution_count": 4,
     "metadata": {},
     "output_type": "execute_result"
    }
   ],
   "source": [
    "data.x.shape"
   ]
  },
  {
   "cell_type": "code",
   "execution_count": 5,
   "metadata": {},
   "outputs": [
    {
     "data": {
      "text/plain": [
       "162"
      ]
     },
     "execution_count": 5,
     "metadata": {},
     "output_type": "execute_result"
    }
   ],
   "source": [
    "data.x.shape[1]"
   ]
  },
  {
   "cell_type": "code",
   "execution_count": 6,
   "metadata": {},
   "outputs": [
    {
     "data": {
      "text/plain": [
       "162"
      ]
     },
     "execution_count": 6,
     "metadata": {},
     "output_type": "execute_result"
    }
   ],
   "source": [
    "# degrees, triangle counts, onehot labels, word2vec embedding\n",
    "13 + 5 + 44 + 100"
   ]
  },
  {
   "cell_type": "code",
   "execution_count": 7,
   "metadata": {},
   "outputs": [
    {
     "data": {
      "text/plain": [
       "26.4258659"
      ]
     },
     "execution_count": 7,
     "metadata": {},
     "output_type": "execute_result"
    }
   ],
   "source": [
    "# get size of folder root \n",
    "size = 0\n",
    "for root, dirs, files in os.walk(root):\n",
    "    size += sum(os.path.getsize(os.path.join(root, name)) for name in files)\n",
    "    \n",
    "# size in gb\n",
    "size / 1e9"
   ]
  },
  {
   "cell_type": "code",
   "execution_count": 8,
   "metadata": {},
   "outputs": [
    {
     "data": {
      "text/plain": [
       "tensor([[ 0.1379,  0.0000,  0.0000,  ..., -0.1445,  0.1514,  0.1319],\n",
       "        [ 0.0000,  0.0714,  0.0000,  ..., -0.2939,  0.2306,  0.1571],\n",
       "        [ 0.0690,  0.0714,  0.0000,  ..., -0.1937,  0.1192,  0.0759],\n",
       "        ...,\n",
       "        [ 0.0345,  0.1429,  0.0000,  ..., -0.1406,  0.0880,  0.0559],\n",
       "        [ 0.0000,  0.0000,  0.0000,  ..., -0.1447,  0.1079,  0.0607],\n",
       "        [ 0.0345,  0.0000,  0.0000,  ..., -0.1865,  0.1484,  0.0907]])"
      ]
     },
     "execution_count": 8,
     "metadata": {},
     "output_type": "execute_result"
    }
   ],
   "source": [
    "data.x[:,:]"
   ]
  },
  {
   "cell_type": "code",
   "execution_count": 9,
   "metadata": {},
   "outputs": [
    {
     "name": "stderr",
     "output_type": "stream",
     "text": [
      "100%|██████████| 329735/329735 [15:31<00:00, 354.09it/s]\n"
     ]
    }
   ],
   "source": [
    "for file in tqdm(os.listdir('preprocessed_v1_withdegreecount_allgraphs')):\n",
    "    try:\n",
    "        data = torch.load('preprocessed_v1_withdegreecount_allgraphs/' + file)\n",
    "        # without degree and triangle counts\n",
    "        data['x'] = data['x'][:,18:]\n",
    "        # save to folder preprocessed_v1_withoutdegreecount_allgraphs\n",
    "        torch.save(data, 'preprocessed_v1_withoutdegreecount_allgraphs/' + file)\n",
    "    except Exception as e:\n",
    "        print(e)\n",
    "        print(file)\n",
    "        pass"
   ]
  }
 ],
 "metadata": {
  "kernelspec": {
   "display_name": "pyg",
   "language": "python",
   "name": "python3"
  },
  "language_info": {
   "codemirror_mode": {
    "name": "ipython",
    "version": 3
   },
   "file_extension": ".py",
   "mimetype": "text/x-python",
   "name": "python",
   "nbconvert_exporter": "python",
   "pygments_lexer": "ipython3",
   "version": "3.11.8"
  }
 },
 "nbformat": 4,
 "nbformat_minor": 2
}
