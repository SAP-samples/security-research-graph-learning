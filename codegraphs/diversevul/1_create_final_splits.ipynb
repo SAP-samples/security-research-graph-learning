{
 "cells": [
  {
   "cell_type": "code",
   "execution_count": 5,
   "metadata": {},
   "outputs": [],
   "source": [
    "import pickle as pkl\n",
    "data = pkl.load(open('diversevul_graph_info.pkl','rb'))\n",
    "import os \n",
    "\n",
    "\n",
    "existing_data = []\n",
    "for d in data:\n",
    "    name = d['commit_id'] +\"_\"+str(d['hash'])+'_'+str(d['target'])+'.cpg.pt'\n",
    "    if os.path.exists('preprocessed_v1_withdegreecount_allgraphs/'+name):\n",
    "        d['filename'] = name\n",
    "        existing_data.append(d)\n",
    "    # else:\n",
    "        # print(d['path'])\n",
    "        \n",
    "        "
   ]
  },
  {
   "cell_type": "code",
   "execution_count": 6,
   "metadata": {},
   "outputs": [
    {
     "name": "stderr",
     "output_type": "stream",
     "text": [
      "/home/amos/mambaforge/envs/pyg/lib/python3.11/site-packages/sklearn/model_selection/_split.py:950: UserWarning: The least populated class in y has only 1 members, which is less than n_splits=5.\n",
      "  warnings.warn(\n"
     ]
    },
    {
     "name": "stdout",
     "output_type": "stream",
     "text": [
      "67296\n"
     ]
    },
    {
     "name": "stderr",
     "output_type": "stream",
     "text": [
      "/home/amos/mambaforge/envs/pyg/lib/python3.11/site-packages/sklearn/model_selection/_split.py:950: UserWarning: The least populated class in y has only 1 members, which is less than n_splits=5.\n",
      "  warnings.warn(\n"
     ]
    },
    {
     "name": "stdout",
     "output_type": "stream",
     "text": [
      "44476\n"
     ]
    },
    {
     "name": "stderr",
     "output_type": "stream",
     "text": [
      "/home/amos/mambaforge/envs/pyg/lib/python3.11/site-packages/sklearn/model_selection/_split.py:950: UserWarning: The least populated class in y has only 1 members, which is less than n_splits=5.\n",
      "  warnings.warn(\n",
      "/home/amos/mambaforge/envs/pyg/lib/python3.11/site-packages/sklearn/model_selection/_split.py:950: UserWarning: The least populated class in y has only 1 members, which is less than n_splits=5.\n",
      "  warnings.warn(\n",
      "/home/amos/mambaforge/envs/pyg/lib/python3.11/site-packages/sklearn/model_selection/_split.py:950: UserWarning: The least populated class in y has only 1 members, which is less than n_splits=5.\n",
      "  warnings.warn(\n",
      "/home/amos/mambaforge/envs/pyg/lib/python3.11/site-packages/sklearn/model_selection/_split.py:950: UserWarning: The least populated class in y has only 1 members, which is less than n_splits=5.\n",
      "  warnings.warn(\n",
      "/home/amos/mambaforge/envs/pyg/lib/python3.11/site-packages/sklearn/model_selection/_split.py:950: UserWarning: The least populated class in y has only 1 members, which is less than n_splits=5.\n",
      "  warnings.warn(\n",
      "/home/amos/mambaforge/envs/pyg/lib/python3.11/site-packages/sklearn/model_selection/_split.py:950: UserWarning: The least populated class in y has only 1 members, which is less than n_splits=5.\n",
      "  warnings.warn(\n"
     ]
    },
    {
     "name": "stdout",
     "output_type": "stream",
     "text": [
      "42431\n"
     ]
    },
    {
     "name": "stderr",
     "output_type": "stream",
     "text": [
      "/home/amos/mambaforge/envs/pyg/lib/python3.11/site-packages/sklearn/model_selection/_split.py:950: UserWarning: The least populated class in y has only 1 members, which is less than n_splits=5.\n",
      "  warnings.warn(\n",
      "/home/amos/mambaforge/envs/pyg/lib/python3.11/site-packages/sklearn/model_selection/_split.py:950: UserWarning: The least populated class in y has only 1 members, which is less than n_splits=5.\n",
      "  warnings.warn(\n",
      "/home/amos/mambaforge/envs/pyg/lib/python3.11/site-packages/sklearn/model_selection/_split.py:950: UserWarning: The least populated class in y has only 1 members, which is less than n_splits=5.\n",
      "  warnings.warn(\n",
      "/home/amos/mambaforge/envs/pyg/lib/python3.11/site-packages/sklearn/model_selection/_split.py:950: UserWarning: The least populated class in y has only 1 members, which is less than n_splits=5.\n",
      "  warnings.warn(\n",
      "/home/amos/mambaforge/envs/pyg/lib/python3.11/site-packages/sklearn/model_selection/_split.py:950: UserWarning: The least populated class in y has only 1 members, which is less than n_splits=5.\n",
      "  warnings.warn(\n",
      "/home/amos/mambaforge/envs/pyg/lib/python3.11/site-packages/sklearn/model_selection/_split.py:950: UserWarning: The least populated class in y has only 1 members, which is less than n_splits=5.\n",
      "  warnings.warn(\n",
      "/home/amos/mambaforge/envs/pyg/lib/python3.11/site-packages/sklearn/model_selection/_split.py:950: UserWarning: The least populated class in y has only 1 members, which is less than n_splits=5.\n",
      "  warnings.warn(\n",
      "/home/amos/mambaforge/envs/pyg/lib/python3.11/site-packages/sklearn/model_selection/_split.py:950: UserWarning: The least populated class in y has only 1 members, which is less than n_splits=5.\n",
      "  warnings.warn(\n",
      "/home/amos/mambaforge/envs/pyg/lib/python3.11/site-packages/sklearn/model_selection/_split.py:950: UserWarning: The least populated class in y has only 1 members, which is less than n_splits=5.\n",
      "  warnings.warn(\n",
      "/home/amos/mambaforge/envs/pyg/lib/python3.11/site-packages/sklearn/model_selection/_split.py:950: UserWarning: The least populated class in y has only 1 members, which is less than n_splits=5.\n",
      "  warnings.warn(\n",
      "/home/amos/mambaforge/envs/pyg/lib/python3.11/site-packages/sklearn/model_selection/_split.py:950: UserWarning: The least populated class in y has only 1 members, which is less than n_splits=5.\n",
      "  warnings.warn(\n",
      "/home/amos/mambaforge/envs/pyg/lib/python3.11/site-packages/sklearn/model_selection/_split.py:950: UserWarning: The least populated class in y has only 1 members, which is less than n_splits=5.\n",
      "  warnings.warn(\n",
      "/home/amos/mambaforge/envs/pyg/lib/python3.11/site-packages/sklearn/model_selection/_split.py:950: UserWarning: The least populated class in y has only 1 members, which is less than n_splits=5.\n",
      "  warnings.warn(\n",
      "/home/amos/mambaforge/envs/pyg/lib/python3.11/site-packages/sklearn/model_selection/_split.py:950: UserWarning: The least populated class in y has only 1 members, which is less than n_splits=5.\n",
      "  warnings.warn(\n",
      "/home/amos/mambaforge/envs/pyg/lib/python3.11/site-packages/sklearn/model_selection/_split.py:950: UserWarning: The least populated class in y has only 1 members, which is less than n_splits=5.\n",
      "  warnings.warn(\n",
      "/home/amos/mambaforge/envs/pyg/lib/python3.11/site-packages/sklearn/model_selection/_split.py:950: UserWarning: The least populated class in y has only 1 members, which is less than n_splits=5.\n",
      "  warnings.warn(\n"
     ]
    },
    {
     "name": "stdout",
     "output_type": "stream",
     "text": [
      "36393\n"
     ]
    },
    {
     "name": "stderr",
     "output_type": "stream",
     "text": [
      "/home/amos/mambaforge/envs/pyg/lib/python3.11/site-packages/sklearn/model_selection/_split.py:950: UserWarning: The least populated class in y has only 1 members, which is less than n_splits=5.\n",
      "  warnings.warn(\n",
      "/home/amos/mambaforge/envs/pyg/lib/python3.11/site-packages/sklearn/model_selection/_split.py:950: UserWarning: The least populated class in y has only 1 members, which is less than n_splits=5.\n",
      "  warnings.warn(\n",
      "/home/amos/mambaforge/envs/pyg/lib/python3.11/site-packages/sklearn/model_selection/_split.py:950: UserWarning: The least populated class in y has only 1 members, which is less than n_splits=5.\n",
      "  warnings.warn(\n",
      "/home/amos/mambaforge/envs/pyg/lib/python3.11/site-packages/sklearn/model_selection/_split.py:950: UserWarning: The least populated class in y has only 1 members, which is less than n_splits=5.\n",
      "  warnings.warn(\n",
      "/home/amos/mambaforge/envs/pyg/lib/python3.11/site-packages/sklearn/model_selection/_split.py:950: UserWarning: The least populated class in y has only 1 members, which is less than n_splits=5.\n",
      "  warnings.warn(\n",
      "/home/amos/mambaforge/envs/pyg/lib/python3.11/site-packages/sklearn/model_selection/_split.py:950: UserWarning: The least populated class in y has only 1 members, which is less than n_splits=5.\n",
      "  warnings.warn(\n",
      "/home/amos/mambaforge/envs/pyg/lib/python3.11/site-packages/sklearn/model_selection/_split.py:950: UserWarning: The least populated class in y has only 1 members, which is less than n_splits=5.\n",
      "  warnings.warn(\n",
      "/home/amos/mambaforge/envs/pyg/lib/python3.11/site-packages/sklearn/model_selection/_split.py:950: UserWarning: The least populated class in y has only 1 members, which is less than n_splits=5.\n",
      "  warnings.warn(\n",
      "/home/amos/mambaforge/envs/pyg/lib/python3.11/site-packages/sklearn/model_selection/_split.py:950: UserWarning: The least populated class in y has only 1 members, which is less than n_splits=5.\n",
      "  warnings.warn(\n",
      "/home/amos/mambaforge/envs/pyg/lib/python3.11/site-packages/sklearn/model_selection/_split.py:950: UserWarning: The least populated class in y has only 1 members, which is less than n_splits=5.\n",
      "  warnings.warn(\n",
      "/home/amos/mambaforge/envs/pyg/lib/python3.11/site-packages/sklearn/model_selection/_split.py:950: UserWarning: The least populated class in y has only 1 members, which is less than n_splits=5.\n",
      "  warnings.warn(\n",
      "/home/amos/mambaforge/envs/pyg/lib/python3.11/site-packages/sklearn/model_selection/_split.py:950: UserWarning: The least populated class in y has only 1 members, which is less than n_splits=5.\n",
      "  warnings.warn(\n",
      "/home/amos/mambaforge/envs/pyg/lib/python3.11/site-packages/sklearn/model_selection/_split.py:950: UserWarning: The least populated class in y has only 1 members, which is less than n_splits=5.\n",
      "  warnings.warn(\n",
      "/home/amos/mambaforge/envs/pyg/lib/python3.11/site-packages/sklearn/model_selection/_split.py:950: UserWarning: The least populated class in y has only 1 members, which is less than n_splits=5.\n",
      "  warnings.warn(\n",
      "/home/amos/mambaforge/envs/pyg/lib/python3.11/site-packages/sklearn/model_selection/_split.py:950: UserWarning: The least populated class in y has only 1 members, which is less than n_splits=5.\n",
      "  warnings.warn(\n",
      "/home/amos/mambaforge/envs/pyg/lib/python3.11/site-packages/sklearn/model_selection/_split.py:950: UserWarning: The least populated class in y has only 1 members, which is less than n_splits=5.\n",
      "  warnings.warn(\n"
     ]
    }
   ],
   "source": [
    "from sklearn.model_selection import StratifiedGroupKFold\n",
    "import numpy as np \n",
    "\n",
    "\n",
    "ex_data = [d for d in existing_data if d['project'] != 'linux']\n",
    "\n",
    "# if project not linux\n",
    "X = [d['filename'] for d in ex_data]\n",
    "\n",
    "linux_fold = [d['filename'] for d in existing_data if d['project'] == 'linux']\n",
    "\n",
    "\n",
    "cwes = [] \n",
    "for d in ex_data:\n",
    "    sorted_ = sorted(d['cwe'])\n",
    "    cwes.append(' _'.join(sorted_)+'_' + str(d['target']))\n",
    "y=cwes\n",
    "groups = [d['project'] for d in ex_data]\n",
    "\n",
    "# check cwe X and group are correspondigly correct\n",
    "\n",
    " \n",
    "# >>> X = np.ones((17, 2))\n",
    "# >>> y = np.array([0, 0, 1, 1, 1, 1, 1, 1, 0, 0, 0, 0, 0, 0, 0, 0, 0])\n",
    "# >>> groups = np.array([1, 1, 2, 2, 3, 3, 3, 4, 5, 5, 5, 5, 6, 6, 7, 8, 8])\n",
    "# >>> sgkf.get_n_splits(X, y)\n",
    "3\n",
    "# >>> print(sgkf)\n",
    "# StratifiedGroupKFold(n_splits=3, random_state=None, shuffle=False)\n",
    "\n",
    "\n",
    "best_folds = []\n",
    "min_dist = float('inf')\n",
    "for i in range(40):\n",
    "    test_fold = None\n",
    "    train_folds = [] \n",
    "    all_folds = []\n",
    "    for j, (_, val_fold) in enumerate(StratifiedGroupKFold(n_splits=5, shuffle=True, random_state=i).split(X, y, groups)):\n",
    "        if j == 4:\n",
    "            test_fold = list(np.array(X)[val_fold])\n",
    "        else:\n",
    "            train_folds.append(list(np.array(X)[val_fold]))\n",
    "        all_folds.append(val_fold)\n",
    "    \n",
    "    # min dist is len biggest - len smallest\n",
    "    dis = len(max(all_folds, key=len)) - len(min(all_folds, key=len))\n",
    "    if dis < min_dist:\n",
    "        min_dist = dis\n",
    "        best_folds = train_folds, test_fold\n",
    "        print(min_dist)\n",
    "        \n",
    "best_folds = best_folds[0][:2] + [linux_fold] + best_folds[0][2:], best_folds[1]"
   ]
  },
  {
   "cell_type": "code",
   "execution_count": 10,
   "metadata": {},
   "outputs": [
    {
     "data": {
      "text/plain": [
       "70251"
      ]
     },
     "execution_count": 10,
     "metadata": {},
     "output_type": "execute_result"
    }
   ],
   "source": [
    "len(best_folds[0][1])"
   ]
  },
  {
   "cell_type": "code",
   "execution_count": 4,
   "metadata": {},
   "outputs": [
    {
     "data": {
      "text/plain": [
       "5"
      ]
     },
     "execution_count": 4,
     "metadata": {},
     "output_type": "execute_result"
    }
   ],
   "source": [
    "len(best_folds[0])"
   ]
  },
  {
   "cell_type": "code",
   "execution_count": 5,
   "metadata": {},
   "outputs": [
    {
     "name": "stdout",
     "output_type": "stream",
     "text": [
      "0\n",
      "0\n",
      "0\n",
      "0\n",
      "0\n",
      "0\n",
      "0\n",
      "0\n",
      "0\n",
      "0\n",
      "0\n",
      "0\n",
      "0\n",
      "0\n",
      "0\n",
      "51069 len\n",
      "54059 len\n",
      "72263 len\n",
      "53178 len\n",
      "42936 len\n",
      "56230 len\n",
      "{0: 48713, 1: 2356}\n",
      "{0: 49960, 1: 4099}\n",
      "{0: 68898, 1: 3365}\n",
      "{0: 49952, 1: 3226}\n",
      "{0: 40904, 1: 2032}\n",
      "{0: 52606, 1: 3624}\n",
      "0\n",
      "0\n",
      "0\n",
      "0\n",
      "0\n",
      "0\n",
      "0\n",
      "0\n",
      "0\n",
      "0\n",
      "0\n",
      "0\n",
      "0\n",
      "0\n",
      "0\n"
     ]
    }
   ],
   "source": [
    "# check overlap between folds\n",
    "# test_flds = train_folds + [test_fold]\n",
    "test_flds = best_folds[0] + [best_folds[1]]\n",
    "for i in range(6):\n",
    "    for j in range(i+1, 6):\n",
    "        print(len(set(test_flds[i]).intersection(set(test_flds[j]))))\n",
    "        \n",
    "# filename to project\n",
    "file_to_p = {}\n",
    "for d in existing_data:\n",
    "    file_to_p[d['filename']] = d['project']        \n",
    "    \n",
    "file_to_target = {}\n",
    "for d in existing_data:\n",
    "    file_to_target[d['filename']] = d['target']\n",
    "    \n",
    "# check project overlap\n",
    "projects_per_fold = [[] for _ in range(6)]\n",
    "targets_per_fold = [[] for _ in range(6)]\n",
    "for i,fold in enumerate(test_flds):\n",
    "    print(len(fold),'len')\n",
    "    for f in fold:\n",
    "        projects_per_fold[i].append(file_to_p[f])\n",
    "        targets_per_fold[i].append(file_to_target[f])\n",
    "\n",
    "for target in targets_per_fold:\n",
    "    # print unique counts\n",
    "    print({k:target.count(k) for k in set(target)})\n",
    "\n",
    "# check overlap \n",
    "for i in range(6):\n",
    "    for j in range(i+1, 6):\n",
    "        print(len(set(projects_per_fold[i]).intersection(set(projects_per_fold[j]))))"
   ]
  },
  {
   "cell_type": "code",
   "execution_count": 6,
   "metadata": {},
   "outputs": [],
   "source": [
    "data = {}\n",
    "data['train_folds'] =  best_folds[0] \n",
    "data['test'] = best_folds[1]\n",
    "\n",
    "# save \n",
    "pkl.dump(data, open('train_test_folds_v1_allgraphs.pkl','wb'))\n"
   ]
  },
  {
   "cell_type": "code",
   "execution_count": 7,
   "metadata": {},
   "outputs": [
    {
     "data": {
      "text/plain": [
       "51069"
      ]
     },
     "execution_count": 7,
     "metadata": {},
     "output_type": "execute_result"
    }
   ],
   "source": [
    "len(best_folds[0][0])"
   ]
  },
  {
   "cell_type": "code",
   "execution_count": 8,
   "metadata": {},
   "outputs": [
    {
     "name": "stderr",
     "output_type": "stream",
     "text": [
      "/opt/conda/envs/pyg/lib/python3.11/site-packages/tqdm/auto.py:21: TqdmWarning: IProgress not found. Please update jupyter and ipywidgets. See https://ipywidgets.readthedocs.io/en/stable/user_install.html\n",
      "  from .autonotebook import tqdm as notebook_tqdm\n",
      "100%|██████████| 329735/329735 [08:53<00:00, 618.43it/s] \n"
     ]
    }
   ],
   "source": [
    "best_folds_filtered_smaller10 = []\n",
    "best_folds_filtered_larger1000 = []\n",
    "erronous_files = []\n",
    "import torch\n",
    "\n",
    "all_files = []\n",
    "for fold in best_folds[0]:\n",
    "    all_files += fold\n",
    "all_files += best_folds[1]\n",
    "from tqdm.auto import tqdm \n",
    "\n",
    "for file in tqdm(all_files):\n",
    "    if os.path.exists('preprocessed_v1_withdegreecount_allgraphs/'+file):\n",
    "        # load file\n",
    "        try:\n",
    "            data = torch.load('preprocessed_v1_withdegreecount_allgraphs/'+file)\n",
    "        except BaseException as e:\n",
    "            print(e)\n",
    "            erronous_files.append(file)\n",
    "            continue \n",
    "        \n",
    "        if data.x.shape[0] < 10:\n",
    "            best_folds_filtered_smaller10.append(file)\n",
    "        if data.x.shape[0] > 1000:\n",
    "            best_folds_filtered_larger1000.append(file)\n",
    "   "
   ]
  },
  {
   "cell_type": "code",
   "execution_count": 9,
   "metadata": {},
   "outputs": [
    {
     "data": {
      "text/plain": [
       "(77864, 3777, 0)"
      ]
     },
     "execution_count": 9,
     "metadata": {},
     "output_type": "execute_result"
    }
   ],
   "source": [
    "len(best_folds_filtered_smaller10), len(best_folds_filtered_larger1000), len(erronous_files)"
   ]
  },
  {
   "cell_type": "code",
   "execution_count": 11,
   "metadata": {},
   "outputs": [],
   "source": [
    "best_folds_filtered_smaller10 = set(best_folds_filtered_smaller10)\n",
    "best_folds_filtered_larger1000 = set(best_folds_filtered_larger1000)"
   ]
  },
  {
   "cell_type": "code",
   "execution_count": 12,
   "metadata": {},
   "outputs": [],
   "source": [
    "train_biggerthan10 = [[f for f in fold if f not in best_folds_filtered_smaller10] for fold in best_folds[0]]\n",
    "test_biggerthan10 = [f for f in best_folds[1] if f not in best_folds_filtered_smaller10]\n",
    "\n",
    "train_smallerthan1000 = [[f for f in fold if f not in best_folds_filtered_larger1000] for fold in best_folds[0]]\n",
    "test_smallerthan1000 = [f for f in best_folds[1] if f not in best_folds_filtered_larger1000]\n",
    "\n",
    "train_biggerthan10_smallerthan1000 = [[f for f in fold if f not in best_folds_filtered_larger1000 and f not in best_folds_filtered_smaller10] for fold in best_folds[0]]\n",
    "test_biggerthan10_smallerthan1000 = [f for f in best_folds[1] if f not in best_folds_filtered_larger1000 and f not in best_folds_filtered_smaller10]\n"
   ]
  },
  {
   "cell_type": "code",
   "execution_count": 15,
   "metadata": {},
   "outputs": [
    {
     "data": {
      "text/plain": [
       "(329735, 251871, 325958, 248094)"
      ]
     },
     "execution_count": 15,
     "metadata": {},
     "output_type": "execute_result"
    }
   ],
   "source": [
    "# get len of all variables\n",
    "all_folds_files = [file for fold in best_folds[0] for file in fold] + best_folds[1]\n",
    "biggerthan10 = [file for fold in train_biggerthan10 for file in fold] + test_biggerthan10\n",
    "smallerthan1000 = [file for fold in train_smallerthan1000 for file in fold] + test_smallerthan1000\n",
    "biggerthan10_smallerthan1000 = [file for fold in train_biggerthan10_smallerthan1000 for file in fold] + test_biggerthan10_smallerthan1000\n",
    "\n",
    "len(all_folds_files), len(biggerthan10), len(smallerthan1000), len(biggerthan10_smallerthan1000)"
   ]
  },
  {
   "cell_type": "code",
   "execution_count": 16,
   "metadata": {},
   "outputs": [
    {
     "name": "stdout",
     "output_type": "stream",
     "text": [
      "77864 3777\n"
     ]
    }
   ],
   "source": [
    "print(len(best_folds_filtered_smaller10), len(best_folds_filtered_larger1000))"
   ]
  },
  {
   "cell_type": "code",
   "execution_count": 19,
   "metadata": {},
   "outputs": [
    {
     "data": {
      "text/plain": [
       "(329735, 329735, 329735)"
      ]
     },
     "execution_count": 19,
     "metadata": {},
     "output_type": "execute_result"
    }
   ],
   "source": [
    "len(biggerthan10)+77864, len(smallerthan1000)+3777, len(biggerthan10_smallerthan1000)+77864+3777"
   ]
  },
  {
   "cell_type": "code",
   "execution_count": 20,
   "metadata": {},
   "outputs": [],
   "source": [
    "# save folds\n",
    "data = {}\n",
    "data['train_folds'] =  train_biggerthan10\n",
    "data['test'] = test_biggerthan10\n",
    "pkl.dump(data, open('train_test_folds_v1_allgraphs_filtered_smaller10.pkl','wb'))\n",
    "\n",
    "data = {}\n",
    "data['train_folds'] =  train_smallerthan1000\n",
    "data['test'] = test_smallerthan1000\n",
    "pkl.dump(data, open('train_test_folds_v1_allgraphs_filtered_larger1000.pkl','wb'))\n",
    "\n",
    "data = {}\n",
    "data['train_folds'] =  train_biggerthan10_smallerthan1000\n",
    "data['test'] = test_biggerthan10_smallerthan1000\n",
    "pkl.dump(data, open('train_test_folds_v1_allgraphs_filtered_smaller10_larger1000.pkl','wb'))"
   ]
  },
  {
   "cell_type": "code",
   "execution_count": 34,
   "metadata": {},
   "outputs": [
    {
     "data": {
      "text/plain": [
       "(329735, 329785)"
      ]
     },
     "execution_count": 34,
     "metadata": {},
     "output_type": "execute_result"
    }
   ],
   "source": [
    "len(os.listdir('preprocessed_v1_withdegreecount_allgraphs')), len(os.listdir('codegraphs/'))"
   ]
  }
 ],
 "metadata": {
  "kernelspec": {
   "display_name": "pyg",
   "language": "python",
   "name": "python3"
  },
  "language_info": {
   "codemirror_mode": {
    "name": "ipython",
    "version": 3
   },
   "file_extension": ".py",
   "mimetype": "text/x-python",
   "name": "python",
   "nbconvert_exporter": "python",
   "pygments_lexer": "ipython3",
   "version": "3.11.8"
  }
 },
 "nbformat": 4,
 "nbformat_minor": 2
}
