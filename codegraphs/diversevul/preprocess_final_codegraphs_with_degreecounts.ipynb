{
 "cells": [
  {
   "cell_type": "code",
   "execution_count": 4,
   "metadata": {},
   "outputs": [
    {
     "data": {
      "text/plain": [
       "329785"
      ]
     },
     "execution_count": 4,
     "metadata": {},
     "output_type": "execute_result"
    }
   ],
   "source": [
    "import os \n",
    "len(os.listdir(\"preprocessed_with_degreecount\"))"
   ]
  },
  {
   "cell_type": "code",
   "execution_count": 27,
   "metadata": {},
   "outputs": [
    {
     "data": {
      "text/plain": [
       "(248133, 245420)"
      ]
     },
     "execution_count": 27,
     "metadata": {},
     "output_type": "execute_result"
    }
   ],
   "source": [
    "len(os.listdir('preprocessed_with_degreecount')), len(os.listdir('erik_preprocessed'))"
   ]
  },
  {
   "cell_type": "code",
   "execution_count": 1,
   "metadata": {},
   "outputs": [
    {
     "name": "stderr",
     "output_type": "stream",
     "text": [
      "/opt/conda/envs/pyg/lib/python3.11/site-packages/tqdm/auto.py:21: TqdmWarning: IProgress not found. Please update jupyter and ipywidgets. See https://ipywidgets.readthedocs.io/en/stable/user_install.html\n",
      "  from .autonotebook import tqdm as notebook_tqdm\n",
      "100%|██████████| 329782/329782 [09:41<00:00, 566.69it/s]\n"
     ]
    }
   ],
   "source": [
    "from pathlib import Path\n",
    "import torch \n",
    "from tqdm.auto import tqdm\n",
    "import os\n",
    "no161, no162 = 0, 0\n",
    "for file in tqdm(os.listdir('preprocessed_with_degreecount')):\n",
    "    data = torch.load(Path('preprocessed_with_degreecount') / file)\n",
    "    \n",
    "    if data['x'].shape[0]>1000:\n",
    "        # remove \n",
    "        os.remove(Path('preprocessed_with_degreecount') / file)\n",
    "    elif data['x'].shape[0]<10:\n",
    "        # remove \n",
    "        os.remove(Path('preprocessed_with_degreecount') / file)\n",
    "    else:\n",
    "        if data['x'].shape[1] == 161:\n",
    "            no161 += 1\n",
    "            print('161')"
   ]
  },
  {
   "cell_type": "code",
   "execution_count": 5,
   "metadata": {},
   "outputs": [
    {
     "name": "stdout",
     "output_type": "stream",
     "text": [
      "train 237104\n",
      "val 41194\n",
      "test 52194\n"
     ]
    }
   ],
   "source": [
    "import pickle \n",
    "from pathlib import Path\n",
    "\n",
    "y0 = 0\n",
    "y1 = 0\n",
    "for split in ['train','val','test']:\n",
    "    data = pickle.load(open('train_val_test.pkl', 'rb'))[split]\n",
    "    counter = []\n",
    "    for file in data:\n",
    "        # if path exists\n",
    "        if Path('preprocessed_with_degreecount') / file:\n",
    "            counter.append(file)\n",
    "            if split in ['train']:\n",
    "                y = file.split('_')[-1].split('.')[0]\n",
    "                if y == '0':\n",
    "                    y0 += 1\n",
    "                else:\n",
    "                    y1 += 1\n",
    "            \n",
    "    print(split, len(counter))"
   ]
  },
  {
   "cell_type": "code",
   "execution_count": 6,
   "metadata": {},
   "outputs": [
    {
     "data": {
      "text/plain": [
       "(223969, 13135, 17.051313285116102)"
      ]
     },
     "execution_count": 6,
     "metadata": {},
     "output_type": "execute_result"
    }
   ],
   "source": [
    "y0, y1, y0/y1"
   ]
  }
 ],
 "metadata": {
  "kernelspec": {
   "display_name": "pyg",
   "language": "python",
   "name": "python3"
  },
  "language_info": {
   "codemirror_mode": {
    "name": "ipython",
    "version": 3
   },
   "file_extension": ".py",
   "mimetype": "text/x-python",
   "name": "python",
   "nbconvert_exporter": "python",
   "pygments_lexer": "ipython3",
   "version": "3.11.8"
  }
 },
 "nbformat": 4,
 "nbformat_minor": 2
}
